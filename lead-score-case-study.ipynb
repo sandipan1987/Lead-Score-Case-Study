{
 "cells": [
  {
   "cell_type": "markdown",
   "id": "8ce84476",
   "metadata": {
    "papermill": {
     "duration": 0.096993,
     "end_time": "2021-07-15T16:07:25.807524",
     "exception": false,
     "start_time": "2021-07-15T16:07:25.710531",
     "status": "completed"
    },
    "tags": []
   },
   "source": [
    "## <font color=\"blue\">Problem Statement</font>"
   ]
  },
  {
   "cell_type": "markdown",
   "id": "b4a1fe6e",
   "metadata": {
    "papermill": {
     "duration": 0.095993,
     "end_time": "2021-07-15T16:07:26.003869",
     "exception": false,
     "start_time": "2021-07-15T16:07:25.907876",
     "status": "completed"
    },
    "tags": []
   },
   "source": [
    "An education company named X Education sells online courses to industry professionals. On any given day, many professionals who are interested in the courses land on their website and browse for courses. \n",
    " \n",
    "The company markets its courses on several websites and search engines like Google. Once these people land on the website, they might browse the courses or fill up a form for the course or watch some videos. When these people fill up a form providing their email address or phone number, they are classified to be a lead. Moreover, the company also gets leads through past referrals. Once these leads are acquired, employees from the sales team start making calls, writing emails, etc. Through this process, some of the leads get converted while most do not. The typical lead conversion rate at X education is around 30%. \n",
    " \n",
    "Now, although X Education gets a lot of leads, its lead conversion rate is very poor. For example, if, say, they acquire 100 leads in a day, only about 30 of them are converted. To make this process more efficient, the company wishes to identify the most potential leads, also known as ‘Hot Leads’. If they successfully identify this set of leads, the lead conversion rate should go up as the sales team will now be focusing more on communicating with the potential leads rather than making calls to everyone. A typical lead conversion process can be represented using the following funnel:\n",
    "Lead Conversion Process - Demonstrated as a funnel\n",
    "Lead Conversion Process - Demonstrated as a funnel\n",
    "As you can see, there are a lot of leads generated in the initial stage (top) but only a few of them come out as paying customers from the bottom. In the middle stage, you need to nurture the potential leads well (i.e. educating the leads about the product, constantly communicating etc. ) in order to get a higher lead conversion.\n",
    " \n",
    "X Education has appointed you to help them select the most promising leads, i.e. the leads that are most likely to convert into paying customers. The company requires you to build a model wherein you need to assign a lead score to each of the leads such that the customers with higher lead score have a higher conversion chance and the customers with lower lead score have a lower conversion chance. The CEO, in particular, has given a ballpark of the target lead conversion rate to be around 80%."
   ]
  },
  {
   "cell_type": "markdown",
   "id": "c2dc54ee",
   "metadata": {
    "papermill": {
     "duration": 0.099704,
     "end_time": "2021-07-15T16:07:26.197460",
     "exception": false,
     "start_time": "2021-07-15T16:07:26.097756",
     "status": "completed"
    },
    "tags": []
   },
   "source": [
    "<br>\n",
    "<br>"
   ]
  },
  {
   "cell_type": "markdown",
   "id": "ad35e802",
   "metadata": {
    "papermill": {
     "duration": 0.094739,
     "end_time": "2021-07-15T16:07:26.389143",
     "exception": false,
     "start_time": "2021-07-15T16:07:26.294404",
     "status": "completed"
    },
    "tags": []
   },
   "source": [
    "## <font color=\"blue\">Import Packages</font>\n"
   ]
  },
  {
   "cell_type": "code",
   "execution_count": 1,
   "id": "5019cd86",
   "metadata": {
    "execution": {
     "iopub.execute_input": "2021-07-15T16:07:26.585241Z",
     "iopub.status.busy": "2021-07-15T16:07:26.584556Z",
     "iopub.status.idle": "2021-07-15T16:07:28.027621Z",
     "shell.execute_reply": "2021-07-15T16:07:28.026820Z",
     "shell.execute_reply.started": "2021-07-15T16:05:29.491628Z"
    },
    "papermill": {
     "duration": 1.547806,
     "end_time": "2021-07-15T16:07:28.027809",
     "exception": false,
     "start_time": "2021-07-15T16:07:26.480003",
     "status": "completed"
    },
    "tags": []
   },
   "outputs": [],
   "source": [
    "import pandas as pd\n",
    "import numpy as np\n",
    "import matplotlib.pyplot as plt\n",
    "%matplotlib inline\n",
    "import seaborn as sns\n",
    "import warnings\n",
    "from sklearn import metrics"
   ]
  },
  {
   "cell_type": "code",
   "execution_count": 2,
   "id": "a210f0d4",
   "metadata": {
    "execution": {
     "iopub.execute_input": "2021-07-15T16:07:28.219683Z",
     "iopub.status.busy": "2021-07-15T16:07:28.218996Z",
     "iopub.status.idle": "2021-07-15T16:07:28.221042Z",
     "shell.execute_reply": "2021-07-15T16:07:28.221507Z",
     "shell.execute_reply.started": "2021-07-15T16:05:30.800222Z"
    },
    "papermill": {
     "duration": 0.098973,
     "end_time": "2021-07-15T16:07:28.221687",
     "exception": false,
     "start_time": "2021-07-15T16:07:28.122714",
     "status": "completed"
    },
    "tags": []
   },
   "outputs": [],
   "source": [
    "### settting max display column length\n",
    "pd.set_option(\"display.max_column\",999)"
   ]
  },
  {
   "cell_type": "code",
   "execution_count": 3,
   "id": "925937a0",
   "metadata": {
    "execution": {
     "iopub.execute_input": "2021-07-15T16:07:28.408583Z",
     "iopub.status.busy": "2021-07-15T16:07:28.407903Z",
     "iopub.status.idle": "2021-07-15T16:07:28.411731Z",
     "shell.execute_reply": "2021-07-15T16:07:28.412246Z",
     "shell.execute_reply.started": "2021-07-15T16:05:30.807855Z"
    },
    "papermill": {
     "duration": 0.099367,
     "end_time": "2021-07-15T16:07:28.412449",
     "exception": false,
     "start_time": "2021-07-15T16:07:28.313082",
     "status": "completed"
    },
    "tags": []
   },
   "outputs": [],
   "source": [
    "warnings.filterwarnings(\"ignore\")"
   ]
  },
  {
   "cell_type": "markdown",
   "id": "752cc246",
   "metadata": {
    "papermill": {
     "duration": 0.091163,
     "end_time": "2021-07-15T16:07:28.596149",
     "exception": false,
     "start_time": "2021-07-15T16:07:28.504986",
     "status": "completed"
    },
    "tags": []
   },
   "source": [
    "<br>\n",
    "<br>"
   ]
  },
  {
   "cell_type": "markdown",
   "id": "02417b1d",
   "metadata": {
    "papermill": {
     "duration": 0.090193,
     "end_time": "2021-07-15T16:07:28.776640",
     "exception": false,
     "start_time": "2021-07-15T16:07:28.686447",
     "status": "completed"
    },
    "tags": []
   },
   "source": [
    "## <font color=\"blue\">Reading & Understanding Data </font>"
   ]
  },
  {
   "cell_type": "code",
   "execution_count": 4,
   "id": "d090abd2",
   "metadata": {
    "execution": {
     "iopub.execute_input": "2021-07-15T16:07:28.961126Z",
     "iopub.status.busy": "2021-07-15T16:07:28.960429Z",
     "iopub.status.idle": "2021-07-15T16:07:29.138364Z",
     "shell.execute_reply": "2021-07-15T16:07:29.138881Z",
     "shell.execute_reply.started": "2021-07-15T16:05:30.832060Z"
    },
    "papermill": {
     "duration": 0.271172,
     "end_time": "2021-07-15T16:07:29.139052",
     "exception": false,
     "start_time": "2021-07-15T16:07:28.867880",
     "status": "completed"
    },
    "tags": []
   },
   "outputs": [
    {
     "data": {
      "text/html": [
       "<div>\n",
       "<style scoped>\n",
       "    .dataframe tbody tr th:only-of-type {\n",
       "        vertical-align: middle;\n",
       "    }\n",
       "\n",
       "    .dataframe tbody tr th {\n",
       "        vertical-align: top;\n",
       "    }\n",
       "\n",
       "    .dataframe thead th {\n",
       "        text-align: right;\n",
       "    }\n",
       "</style>\n",
       "<table border=\"1\" class=\"dataframe\">\n",
       "  <thead>\n",
       "    <tr style=\"text-align: right;\">\n",
       "      <th></th>\n",
       "      <th>Prospect ID</th>\n",
       "      <th>Lead Number</th>\n",
       "      <th>Lead Origin</th>\n",
       "      <th>Lead Source</th>\n",
       "      <th>Do Not Email</th>\n",
       "      <th>Do Not Call</th>\n",
       "      <th>Converted</th>\n",
       "      <th>TotalVisits</th>\n",
       "      <th>Total Time Spent on Website</th>\n",
       "      <th>Page Views Per Visit</th>\n",
       "      <th>Last Activity</th>\n",
       "      <th>Country</th>\n",
       "      <th>Specialization</th>\n",
       "      <th>How did you hear about X Education</th>\n",
       "      <th>What is your current occupation</th>\n",
       "      <th>What matters most to you in choosing a course</th>\n",
       "      <th>Search</th>\n",
       "      <th>Magazine</th>\n",
       "      <th>Newspaper Article</th>\n",
       "      <th>X Education Forums</th>\n",
       "      <th>Newspaper</th>\n",
       "      <th>Digital Advertisement</th>\n",
       "      <th>Through Recommendations</th>\n",
       "      <th>Receive More Updates About Our Courses</th>\n",
       "      <th>Tags</th>\n",
       "      <th>Lead Quality</th>\n",
       "      <th>Update me on Supply Chain Content</th>\n",
       "      <th>Get updates on DM Content</th>\n",
       "      <th>Lead Profile</th>\n",
       "      <th>City</th>\n",
       "      <th>Asymmetrique Activity Index</th>\n",
       "      <th>Asymmetrique Profile Index</th>\n",
       "      <th>Asymmetrique Activity Score</th>\n",
       "      <th>Asymmetrique Profile Score</th>\n",
       "      <th>I agree to pay the amount through cheque</th>\n",
       "      <th>A free copy of Mastering The Interview</th>\n",
       "      <th>Last Notable Activity</th>\n",
       "    </tr>\n",
       "  </thead>\n",
       "  <tbody>\n",
       "    <tr>\n",
       "      <th>0</th>\n",
       "      <td>7927b2df-8bba-4d29-b9a2-b6e0beafe620</td>\n",
       "      <td>660737</td>\n",
       "      <td>API</td>\n",
       "      <td>Olark Chat</td>\n",
       "      <td>No</td>\n",
       "      <td>No</td>\n",
       "      <td>0</td>\n",
       "      <td>0.0</td>\n",
       "      <td>0</td>\n",
       "      <td>0.0</td>\n",
       "      <td>Page Visited on Website</td>\n",
       "      <td>NaN</td>\n",
       "      <td>Select</td>\n",
       "      <td>Select</td>\n",
       "      <td>Unemployed</td>\n",
       "      <td>Better Career Prospects</td>\n",
       "      <td>No</td>\n",
       "      <td>No</td>\n",
       "      <td>No</td>\n",
       "      <td>No</td>\n",
       "      <td>No</td>\n",
       "      <td>No</td>\n",
       "      <td>No</td>\n",
       "      <td>No</td>\n",
       "      <td>Interested in other courses</td>\n",
       "      <td>Low in Relevance</td>\n",
       "      <td>No</td>\n",
       "      <td>No</td>\n",
       "      <td>Select</td>\n",
       "      <td>Select</td>\n",
       "      <td>02.Medium</td>\n",
       "      <td>02.Medium</td>\n",
       "      <td>15.0</td>\n",
       "      <td>15.0</td>\n",
       "      <td>No</td>\n",
       "      <td>No</td>\n",
       "      <td>Modified</td>\n",
       "    </tr>\n",
       "    <tr>\n",
       "      <th>1</th>\n",
       "      <td>2a272436-5132-4136-86fa-dcc88c88f482</td>\n",
       "      <td>660728</td>\n",
       "      <td>API</td>\n",
       "      <td>Organic Search</td>\n",
       "      <td>No</td>\n",
       "      <td>No</td>\n",
       "      <td>0</td>\n",
       "      <td>5.0</td>\n",
       "      <td>674</td>\n",
       "      <td>2.5</td>\n",
       "      <td>Email Opened</td>\n",
       "      <td>India</td>\n",
       "      <td>Select</td>\n",
       "      <td>Select</td>\n",
       "      <td>Unemployed</td>\n",
       "      <td>Better Career Prospects</td>\n",
       "      <td>No</td>\n",
       "      <td>No</td>\n",
       "      <td>No</td>\n",
       "      <td>No</td>\n",
       "      <td>No</td>\n",
       "      <td>No</td>\n",
       "      <td>No</td>\n",
       "      <td>No</td>\n",
       "      <td>Ringing</td>\n",
       "      <td>NaN</td>\n",
       "      <td>No</td>\n",
       "      <td>No</td>\n",
       "      <td>Select</td>\n",
       "      <td>Select</td>\n",
       "      <td>02.Medium</td>\n",
       "      <td>02.Medium</td>\n",
       "      <td>15.0</td>\n",
       "      <td>15.0</td>\n",
       "      <td>No</td>\n",
       "      <td>No</td>\n",
       "      <td>Email Opened</td>\n",
       "    </tr>\n",
       "    <tr>\n",
       "      <th>2</th>\n",
       "      <td>8cc8c611-a219-4f35-ad23-fdfd2656bd8a</td>\n",
       "      <td>660727</td>\n",
       "      <td>Landing Page Submission</td>\n",
       "      <td>Direct Traffic</td>\n",
       "      <td>No</td>\n",
       "      <td>No</td>\n",
       "      <td>1</td>\n",
       "      <td>2.0</td>\n",
       "      <td>1532</td>\n",
       "      <td>2.0</td>\n",
       "      <td>Email Opened</td>\n",
       "      <td>India</td>\n",
       "      <td>Business Administration</td>\n",
       "      <td>Select</td>\n",
       "      <td>Student</td>\n",
       "      <td>Better Career Prospects</td>\n",
       "      <td>No</td>\n",
       "      <td>No</td>\n",
       "      <td>No</td>\n",
       "      <td>No</td>\n",
       "      <td>No</td>\n",
       "      <td>No</td>\n",
       "      <td>No</td>\n",
       "      <td>No</td>\n",
       "      <td>Will revert after reading the email</td>\n",
       "      <td>Might be</td>\n",
       "      <td>No</td>\n",
       "      <td>No</td>\n",
       "      <td>Potential Lead</td>\n",
       "      <td>Mumbai</td>\n",
       "      <td>02.Medium</td>\n",
       "      <td>01.High</td>\n",
       "      <td>14.0</td>\n",
       "      <td>20.0</td>\n",
       "      <td>No</td>\n",
       "      <td>Yes</td>\n",
       "      <td>Email Opened</td>\n",
       "    </tr>\n",
       "    <tr>\n",
       "      <th>3</th>\n",
       "      <td>0cc2df48-7cf4-4e39-9de9-19797f9b38cc</td>\n",
       "      <td>660719</td>\n",
       "      <td>Landing Page Submission</td>\n",
       "      <td>Direct Traffic</td>\n",
       "      <td>No</td>\n",
       "      <td>No</td>\n",
       "      <td>0</td>\n",
       "      <td>1.0</td>\n",
       "      <td>305</td>\n",
       "      <td>1.0</td>\n",
       "      <td>Unreachable</td>\n",
       "      <td>India</td>\n",
       "      <td>Media and Advertising</td>\n",
       "      <td>Word Of Mouth</td>\n",
       "      <td>Unemployed</td>\n",
       "      <td>Better Career Prospects</td>\n",
       "      <td>No</td>\n",
       "      <td>No</td>\n",
       "      <td>No</td>\n",
       "      <td>No</td>\n",
       "      <td>No</td>\n",
       "      <td>No</td>\n",
       "      <td>No</td>\n",
       "      <td>No</td>\n",
       "      <td>Ringing</td>\n",
       "      <td>Not Sure</td>\n",
       "      <td>No</td>\n",
       "      <td>No</td>\n",
       "      <td>Select</td>\n",
       "      <td>Mumbai</td>\n",
       "      <td>02.Medium</td>\n",
       "      <td>01.High</td>\n",
       "      <td>13.0</td>\n",
       "      <td>17.0</td>\n",
       "      <td>No</td>\n",
       "      <td>No</td>\n",
       "      <td>Modified</td>\n",
       "    </tr>\n",
       "    <tr>\n",
       "      <th>4</th>\n",
       "      <td>3256f628-e534-4826-9d63-4a8b88782852</td>\n",
       "      <td>660681</td>\n",
       "      <td>Landing Page Submission</td>\n",
       "      <td>Google</td>\n",
       "      <td>No</td>\n",
       "      <td>No</td>\n",
       "      <td>1</td>\n",
       "      <td>2.0</td>\n",
       "      <td>1428</td>\n",
       "      <td>1.0</td>\n",
       "      <td>Converted to Lead</td>\n",
       "      <td>India</td>\n",
       "      <td>Select</td>\n",
       "      <td>Other</td>\n",
       "      <td>Unemployed</td>\n",
       "      <td>Better Career Prospects</td>\n",
       "      <td>No</td>\n",
       "      <td>No</td>\n",
       "      <td>No</td>\n",
       "      <td>No</td>\n",
       "      <td>No</td>\n",
       "      <td>No</td>\n",
       "      <td>No</td>\n",
       "      <td>No</td>\n",
       "      <td>Will revert after reading the email</td>\n",
       "      <td>Might be</td>\n",
       "      <td>No</td>\n",
       "      <td>No</td>\n",
       "      <td>Select</td>\n",
       "      <td>Mumbai</td>\n",
       "      <td>02.Medium</td>\n",
       "      <td>01.High</td>\n",
       "      <td>15.0</td>\n",
       "      <td>18.0</td>\n",
       "      <td>No</td>\n",
       "      <td>No</td>\n",
       "      <td>Modified</td>\n",
       "    </tr>\n",
       "  </tbody>\n",
       "</table>\n",
       "</div>"
      ],
      "text/plain": [
       "                            Prospect ID  Lead Number              Lead Origin  \\\n",
       "0  7927b2df-8bba-4d29-b9a2-b6e0beafe620       660737                      API   \n",
       "1  2a272436-5132-4136-86fa-dcc88c88f482       660728                      API   \n",
       "2  8cc8c611-a219-4f35-ad23-fdfd2656bd8a       660727  Landing Page Submission   \n",
       "3  0cc2df48-7cf4-4e39-9de9-19797f9b38cc       660719  Landing Page Submission   \n",
       "4  3256f628-e534-4826-9d63-4a8b88782852       660681  Landing Page Submission   \n",
       "\n",
       "      Lead Source Do Not Email Do Not Call  Converted  TotalVisits  \\\n",
       "0      Olark Chat           No          No          0          0.0   \n",
       "1  Organic Search           No          No          0          5.0   \n",
       "2  Direct Traffic           No          No          1          2.0   \n",
       "3  Direct Traffic           No          No          0          1.0   \n",
       "4          Google           No          No          1          2.0   \n",
       "\n",
       "   Total Time Spent on Website  Page Views Per Visit            Last Activity  \\\n",
       "0                            0                   0.0  Page Visited on Website   \n",
       "1                          674                   2.5             Email Opened   \n",
       "2                         1532                   2.0             Email Opened   \n",
       "3                          305                   1.0              Unreachable   \n",
       "4                         1428                   1.0        Converted to Lead   \n",
       "\n",
       "  Country           Specialization How did you hear about X Education  \\\n",
       "0     NaN                   Select                             Select   \n",
       "1   India                   Select                             Select   \n",
       "2   India  Business Administration                             Select   \n",
       "3   India    Media and Advertising                      Word Of Mouth   \n",
       "4   India                   Select                              Other   \n",
       "\n",
       "  What is your current occupation  \\\n",
       "0                      Unemployed   \n",
       "1                      Unemployed   \n",
       "2                         Student   \n",
       "3                      Unemployed   \n",
       "4                      Unemployed   \n",
       "\n",
       "  What matters most to you in choosing a course Search Magazine  \\\n",
       "0                       Better Career Prospects     No       No   \n",
       "1                       Better Career Prospects     No       No   \n",
       "2                       Better Career Prospects     No       No   \n",
       "3                       Better Career Prospects     No       No   \n",
       "4                       Better Career Prospects     No       No   \n",
       "\n",
       "  Newspaper Article X Education Forums Newspaper Digital Advertisement  \\\n",
       "0                No                 No        No                    No   \n",
       "1                No                 No        No                    No   \n",
       "2                No                 No        No                    No   \n",
       "3                No                 No        No                    No   \n",
       "4                No                 No        No                    No   \n",
       "\n",
       "  Through Recommendations Receive More Updates About Our Courses  \\\n",
       "0                      No                                     No   \n",
       "1                      No                                     No   \n",
       "2                      No                                     No   \n",
       "3                      No                                     No   \n",
       "4                      No                                     No   \n",
       "\n",
       "                                  Tags      Lead Quality  \\\n",
       "0          Interested in other courses  Low in Relevance   \n",
       "1                              Ringing               NaN   \n",
       "2  Will revert after reading the email          Might be   \n",
       "3                              Ringing          Not Sure   \n",
       "4  Will revert after reading the email          Might be   \n",
       "\n",
       "  Update me on Supply Chain Content Get updates on DM Content    Lead Profile  \\\n",
       "0                                No                        No          Select   \n",
       "1                                No                        No          Select   \n",
       "2                                No                        No  Potential Lead   \n",
       "3                                No                        No          Select   \n",
       "4                                No                        No          Select   \n",
       "\n",
       "     City Asymmetrique Activity Index Asymmetrique Profile Index  \\\n",
       "0  Select                   02.Medium                  02.Medium   \n",
       "1  Select                   02.Medium                  02.Medium   \n",
       "2  Mumbai                   02.Medium                    01.High   \n",
       "3  Mumbai                   02.Medium                    01.High   \n",
       "4  Mumbai                   02.Medium                    01.High   \n",
       "\n",
       "   Asymmetrique Activity Score  Asymmetrique Profile Score  \\\n",
       "0                         15.0                        15.0   \n",
       "1                         15.0                        15.0   \n",
       "2                         14.0                        20.0   \n",
       "3                         13.0                        17.0   \n",
       "4                         15.0                        18.0   \n",
       "\n",
       "  I agree to pay the amount through cheque  \\\n",
       "0                                       No   \n",
       "1                                       No   \n",
       "2                                       No   \n",
       "3                                       No   \n",
       "4                                       No   \n",
       "\n",
       "  A free copy of Mastering The Interview Last Notable Activity  \n",
       "0                                     No              Modified  \n",
       "1                                     No          Email Opened  \n",
       "2                                    Yes          Email Opened  \n",
       "3                                     No              Modified  \n",
       "4                                     No              Modified  "
      ]
     },
     "execution_count": 4,
     "metadata": {},
     "output_type": "execute_result"
    }
   ],
   "source": [
    "leads_df = pd.read_csv(\"../input/leadscore/Leads.csv\")\n",
    "leads_df.head()"
   ]
  },
  {
   "cell_type": "code",
   "execution_count": 5,
   "id": "5937e809",
   "metadata": {
    "execution": {
     "iopub.execute_input": "2021-07-15T16:07:29.335088Z",
     "iopub.status.busy": "2021-07-15T16:07:29.334387Z",
     "iopub.status.idle": "2021-07-15T16:07:29.337214Z",
     "shell.execute_reply": "2021-07-15T16:07:29.337705Z",
     "shell.execute_reply.started": "2021-07-15T16:05:31.024930Z"
    },
    "papermill": {
     "duration": 0.102321,
     "end_time": "2021-07-15T16:07:29.337902",
     "exception": false,
     "start_time": "2021-07-15T16:07:29.235581",
     "status": "completed"
    },
    "tags": []
   },
   "outputs": [
    {
     "data": {
      "text/plain": [
       "(9240, 37)"
      ]
     },
     "execution_count": 5,
     "metadata": {},
     "output_type": "execute_result"
    }
   ],
   "source": [
    "### checking shape of DF\n",
    "leads_df.shape"
   ]
  },
  {
   "cell_type": "code",
   "execution_count": 6,
   "id": "a432497f",
   "metadata": {
    "execution": {
     "iopub.execute_input": "2021-07-15T16:07:29.523158Z",
     "iopub.status.busy": "2021-07-15T16:07:29.522449Z",
     "iopub.status.idle": "2021-07-15T16:07:29.564743Z",
     "shell.execute_reply": "2021-07-15T16:07:29.564135Z",
     "shell.execute_reply.started": "2021-07-15T16:05:31.035027Z"
    },
    "papermill": {
     "duration": 0.136047,
     "end_time": "2021-07-15T16:07:29.564910",
     "exception": false,
     "start_time": "2021-07-15T16:07:29.428863",
     "status": "completed"
    },
    "tags": []
   },
   "outputs": [
    {
     "data": {
      "text/html": [
       "<div>\n",
       "<style scoped>\n",
       "    .dataframe tbody tr th:only-of-type {\n",
       "        vertical-align: middle;\n",
       "    }\n",
       "\n",
       "    .dataframe tbody tr th {\n",
       "        vertical-align: top;\n",
       "    }\n",
       "\n",
       "    .dataframe thead th {\n",
       "        text-align: right;\n",
       "    }\n",
       "</style>\n",
       "<table border=\"1\" class=\"dataframe\">\n",
       "  <thead>\n",
       "    <tr style=\"text-align: right;\">\n",
       "      <th></th>\n",
       "      <th>Lead Number</th>\n",
       "      <th>Converted</th>\n",
       "      <th>TotalVisits</th>\n",
       "      <th>Total Time Spent on Website</th>\n",
       "      <th>Page Views Per Visit</th>\n",
       "      <th>Asymmetrique Activity Score</th>\n",
       "      <th>Asymmetrique Profile Score</th>\n",
       "    </tr>\n",
       "  </thead>\n",
       "  <tbody>\n",
       "    <tr>\n",
       "      <th>count</th>\n",
       "      <td>9240.000000</td>\n",
       "      <td>9240.000000</td>\n",
       "      <td>9103.000000</td>\n",
       "      <td>9240.000000</td>\n",
       "      <td>9103.000000</td>\n",
       "      <td>5022.000000</td>\n",
       "      <td>5022.000000</td>\n",
       "    </tr>\n",
       "    <tr>\n",
       "      <th>mean</th>\n",
       "      <td>617188.435606</td>\n",
       "      <td>0.385390</td>\n",
       "      <td>3.445238</td>\n",
       "      <td>487.698268</td>\n",
       "      <td>2.362820</td>\n",
       "      <td>14.306252</td>\n",
       "      <td>16.344883</td>\n",
       "    </tr>\n",
       "    <tr>\n",
       "      <th>std</th>\n",
       "      <td>23405.995698</td>\n",
       "      <td>0.486714</td>\n",
       "      <td>4.854853</td>\n",
       "      <td>548.021466</td>\n",
       "      <td>2.161418</td>\n",
       "      <td>1.386694</td>\n",
       "      <td>1.811395</td>\n",
       "    </tr>\n",
       "    <tr>\n",
       "      <th>min</th>\n",
       "      <td>579533.000000</td>\n",
       "      <td>0.000000</td>\n",
       "      <td>0.000000</td>\n",
       "      <td>0.000000</td>\n",
       "      <td>0.000000</td>\n",
       "      <td>7.000000</td>\n",
       "      <td>11.000000</td>\n",
       "    </tr>\n",
       "    <tr>\n",
       "      <th>25%</th>\n",
       "      <td>596484.500000</td>\n",
       "      <td>0.000000</td>\n",
       "      <td>1.000000</td>\n",
       "      <td>12.000000</td>\n",
       "      <td>1.000000</td>\n",
       "      <td>14.000000</td>\n",
       "      <td>15.000000</td>\n",
       "    </tr>\n",
       "    <tr>\n",
       "      <th>50%</th>\n",
       "      <td>615479.000000</td>\n",
       "      <td>0.000000</td>\n",
       "      <td>3.000000</td>\n",
       "      <td>248.000000</td>\n",
       "      <td>2.000000</td>\n",
       "      <td>14.000000</td>\n",
       "      <td>16.000000</td>\n",
       "    </tr>\n",
       "    <tr>\n",
       "      <th>75%</th>\n",
       "      <td>637387.250000</td>\n",
       "      <td>1.000000</td>\n",
       "      <td>5.000000</td>\n",
       "      <td>936.000000</td>\n",
       "      <td>3.000000</td>\n",
       "      <td>15.000000</td>\n",
       "      <td>18.000000</td>\n",
       "    </tr>\n",
       "    <tr>\n",
       "      <th>max</th>\n",
       "      <td>660737.000000</td>\n",
       "      <td>1.000000</td>\n",
       "      <td>251.000000</td>\n",
       "      <td>2272.000000</td>\n",
       "      <td>55.000000</td>\n",
       "      <td>18.000000</td>\n",
       "      <td>20.000000</td>\n",
       "    </tr>\n",
       "  </tbody>\n",
       "</table>\n",
       "</div>"
      ],
      "text/plain": [
       "         Lead Number    Converted  TotalVisits  Total Time Spent on Website  \\\n",
       "count    9240.000000  9240.000000  9103.000000                  9240.000000   \n",
       "mean   617188.435606     0.385390     3.445238                   487.698268   \n",
       "std     23405.995698     0.486714     4.854853                   548.021466   \n",
       "min    579533.000000     0.000000     0.000000                     0.000000   \n",
       "25%    596484.500000     0.000000     1.000000                    12.000000   \n",
       "50%    615479.000000     0.000000     3.000000                   248.000000   \n",
       "75%    637387.250000     1.000000     5.000000                   936.000000   \n",
       "max    660737.000000     1.000000   251.000000                  2272.000000   \n",
       "\n",
       "       Page Views Per Visit  Asymmetrique Activity Score  \\\n",
       "count           9103.000000                  5022.000000   \n",
       "mean               2.362820                    14.306252   \n",
       "std                2.161418                     1.386694   \n",
       "min                0.000000                     7.000000   \n",
       "25%                1.000000                    14.000000   \n",
       "50%                2.000000                    14.000000   \n",
       "75%                3.000000                    15.000000   \n",
       "max               55.000000                    18.000000   \n",
       "\n",
       "       Asymmetrique Profile Score  \n",
       "count                 5022.000000  \n",
       "mean                    16.344883  \n",
       "std                      1.811395  \n",
       "min                     11.000000  \n",
       "25%                     15.000000  \n",
       "50%                     16.000000  \n",
       "75%                     18.000000  \n",
       "max                     20.000000  "
      ]
     },
     "execution_count": 6,
     "metadata": {},
     "output_type": "execute_result"
    }
   ],
   "source": [
    "### checking stats of DF\n",
    "leads_df.describe()"
   ]
  },
  {
   "cell_type": "markdown",
   "id": "8162a5aa",
   "metadata": {
    "papermill": {
     "duration": 0.091558,
     "end_time": "2021-07-15T16:07:29.750762",
     "exception": false,
     "start_time": "2021-07-15T16:07:29.659204",
     "status": "completed"
    },
    "tags": []
   },
   "source": [
    "<br>\n",
    "<br>"
   ]
  },
  {
   "cell_type": "markdown",
   "id": "fe0b7c86",
   "metadata": {
    "papermill": {
     "duration": 0.09435,
     "end_time": "2021-07-15T16:07:29.938767",
     "exception": false,
     "start_time": "2021-07-15T16:07:29.844417",
     "status": "completed"
    },
    "tags": []
   },
   "source": [
    "## <font color=\"blue\">Data Cleaning </font>"
   ]
  },
  {
   "cell_type": "code",
   "execution_count": 7,
   "id": "bc438e84",
   "metadata": {
    "execution": {
     "iopub.execute_input": "2021-07-15T16:07:30.129883Z",
     "iopub.status.busy": "2021-07-15T16:07:30.129160Z",
     "iopub.status.idle": "2021-07-15T16:07:30.136578Z",
     "shell.execute_reply": "2021-07-15T16:07:30.137123Z",
     "shell.execute_reply.started": "2021-07-15T16:05:31.090333Z"
    },
    "papermill": {
     "duration": 0.104448,
     "end_time": "2021-07-15T16:07:30.137311",
     "exception": false,
     "start_time": "2021-07-15T16:07:30.032863",
     "status": "completed"
    },
    "tags": []
   },
   "outputs": [],
   "source": [
    "### creating a copy of original DF\n",
    "leads_df_original = leads_df.copy()"
   ]
  },
  {
   "cell_type": "code",
   "execution_count": 8,
   "id": "caa9e6e9",
   "metadata": {
    "execution": {
     "iopub.execute_input": "2021-07-15T16:07:30.338479Z",
     "iopub.status.busy": "2021-07-15T16:07:30.337456Z",
     "iopub.status.idle": "2021-07-15T16:07:30.363588Z",
     "shell.execute_reply": "2021-07-15T16:07:30.362997Z",
     "shell.execute_reply.started": "2021-07-15T16:05:31.106166Z"
    },
    "papermill": {
     "duration": 0.131155,
     "end_time": "2021-07-15T16:07:30.363748",
     "exception": false,
     "start_time": "2021-07-15T16:07:30.232593",
     "status": "completed"
    },
    "tags": []
   },
   "outputs": [],
   "source": [
    "### replacing all \"Select\" to Null\n",
    "leads_df = leads_df.replace(\"Select\" , np.nan)"
   ]
  },
  {
   "cell_type": "code",
   "execution_count": 9,
   "id": "5875d75e",
   "metadata": {
    "execution": {
     "iopub.execute_input": "2021-07-15T16:07:30.586014Z",
     "iopub.status.busy": "2021-07-15T16:07:30.584917Z",
     "iopub.status.idle": "2021-07-15T16:07:30.614401Z",
     "shell.execute_reply": "2021-07-15T16:07:30.614886Z",
     "shell.execute_reply.started": "2021-07-15T16:05:31.139460Z"
    },
    "papermill": {
     "duration": 0.15808,
     "end_time": "2021-07-15T16:07:30.615072",
     "exception": false,
     "start_time": "2021-07-15T16:07:30.456992",
     "status": "completed"
    },
    "tags": []
   },
   "outputs": [
    {
     "data": {
      "text/plain": [
       "How did you hear about X Education               78.46\n",
       "Lead Profile                                     74.19\n",
       "Lead Quality                                     51.59\n",
       "Asymmetrique Profile Score                       45.65\n",
       "Asymmetrique Activity Score                      45.65\n",
       "Asymmetrique Activity Index                      45.65\n",
       "Asymmetrique Profile Index                       45.65\n",
       "City                                             39.71\n",
       "Specialization                                   36.58\n",
       "Tags                                             36.29\n",
       "What matters most to you in choosing a course    29.32\n",
       "What is your current occupation                  29.11\n",
       "Country                                          26.63\n",
       "Page Views Per Visit                              1.48\n",
       "TotalVisits                                       1.48\n",
       "Last Activity                                     1.11\n",
       "Lead Source                                       0.39\n",
       "Receive More Updates About Our Courses            0.00\n",
       "I agree to pay the amount through cheque          0.00\n",
       "Get updates on DM Content                         0.00\n",
       "Update me on Supply Chain Content                 0.00\n",
       "A free copy of Mastering The Interview            0.00\n",
       "Prospect ID                                       0.00\n",
       "Newspaper Article                                 0.00\n",
       "Through Recommendations                           0.00\n",
       "Digital Advertisement                             0.00\n",
       "Newspaper                                         0.00\n",
       "X Education Forums                                0.00\n",
       "Lead Number                                       0.00\n",
       "Magazine                                          0.00\n",
       "Search                                            0.00\n",
       "Total Time Spent on Website                       0.00\n",
       "Converted                                         0.00\n",
       "Do Not Call                                       0.00\n",
       "Do Not Email                                      0.00\n",
       "Lead Origin                                       0.00\n",
       "Last Notable Activity                             0.00\n",
       "dtype: float64"
      ]
     },
     "execution_count": 9,
     "metadata": {},
     "output_type": "execute_result"
    }
   ],
   "source": [
    "### checking % null values\n",
    "col_null_check = round((leads_df.isnull().sum() * 100 / leads_df.shape[0]),2).sort_values(ascending=False)\n",
    "col_null_check"
   ]
  },
  {
   "cell_type": "code",
   "execution_count": 10,
   "id": "352d90c3",
   "metadata": {
    "execution": {
     "iopub.execute_input": "2021-07-15T16:07:30.806618Z",
     "iopub.status.busy": "2021-07-15T16:07:30.805603Z",
     "iopub.status.idle": "2021-07-15T16:07:30.855335Z",
     "shell.execute_reply": "2021-07-15T16:07:30.855833Z",
     "shell.execute_reply.started": "2021-07-15T16:05:31.202703Z"
    },
    "papermill": {
     "duration": 0.147507,
     "end_time": "2021-07-15T16:07:30.856014",
     "exception": false,
     "start_time": "2021-07-15T16:07:30.708507",
     "status": "completed"
    },
    "tags": []
   },
   "outputs": [
    {
     "data": {
      "text/plain": [
       "0"
      ]
     },
     "execution_count": 10,
     "metadata": {},
     "output_type": "execute_result"
    }
   ],
   "source": [
    "#Check for duplicate values\n",
    "leads_df.duplicated().sum()"
   ]
  },
  {
   "cell_type": "code",
   "execution_count": 11,
   "id": "bb934ac0",
   "metadata": {
    "execution": {
     "iopub.execute_input": "2021-07-15T16:07:31.049301Z",
     "iopub.status.busy": "2021-07-15T16:07:31.048276Z",
     "iopub.status.idle": "2021-07-15T16:07:31.090192Z",
     "shell.execute_reply": "2021-07-15T16:07:31.090765Z",
     "shell.execute_reply.started": "2021-07-15T16:05:31.256406Z"
    },
    "papermill": {
     "duration": 0.141042,
     "end_time": "2021-07-15T16:07:31.090964",
     "exception": false,
     "start_time": "2021-07-15T16:07:30.949922",
     "status": "completed"
    },
    "tags": []
   },
   "outputs": [
    {
     "data": {
      "text/html": [
       "<div>\n",
       "<style scoped>\n",
       "    .dataframe tbody tr th:only-of-type {\n",
       "        vertical-align: middle;\n",
       "    }\n",
       "\n",
       "    .dataframe tbody tr th {\n",
       "        vertical-align: top;\n",
       "    }\n",
       "\n",
       "    .dataframe thead th {\n",
       "        text-align: right;\n",
       "    }\n",
       "</style>\n",
       "<table border=\"1\" class=\"dataframe\">\n",
       "  <thead>\n",
       "    <tr style=\"text-align: right;\">\n",
       "      <th></th>\n",
       "      <th>Prospect ID</th>\n",
       "      <th>Lead Number</th>\n",
       "      <th>Lead Origin</th>\n",
       "      <th>Lead Source</th>\n",
       "      <th>Do Not Email</th>\n",
       "      <th>Do Not Call</th>\n",
       "      <th>Converted</th>\n",
       "      <th>TotalVisits</th>\n",
       "      <th>Total Time Spent on Website</th>\n",
       "      <th>Page Views Per Visit</th>\n",
       "      <th>Last Activity</th>\n",
       "      <th>Country</th>\n",
       "      <th>What is your current occupation</th>\n",
       "      <th>What matters most to you in choosing a course</th>\n",
       "      <th>Search</th>\n",
       "      <th>Magazine</th>\n",
       "      <th>Newspaper Article</th>\n",
       "      <th>X Education Forums</th>\n",
       "      <th>Newspaper</th>\n",
       "      <th>Digital Advertisement</th>\n",
       "      <th>Through Recommendations</th>\n",
       "      <th>Receive More Updates About Our Courses</th>\n",
       "      <th>Update me on Supply Chain Content</th>\n",
       "      <th>Get updates on DM Content</th>\n",
       "      <th>I agree to pay the amount through cheque</th>\n",
       "      <th>A free copy of Mastering The Interview</th>\n",
       "      <th>Last Notable Activity</th>\n",
       "    </tr>\n",
       "  </thead>\n",
       "  <tbody>\n",
       "    <tr>\n",
       "      <th>0</th>\n",
       "      <td>7927b2df-8bba-4d29-b9a2-b6e0beafe620</td>\n",
       "      <td>660737</td>\n",
       "      <td>API</td>\n",
       "      <td>Olark Chat</td>\n",
       "      <td>No</td>\n",
       "      <td>No</td>\n",
       "      <td>0</td>\n",
       "      <td>0.0</td>\n",
       "      <td>0</td>\n",
       "      <td>0.0</td>\n",
       "      <td>Page Visited on Website</td>\n",
       "      <td>NaN</td>\n",
       "      <td>Unemployed</td>\n",
       "      <td>Better Career Prospects</td>\n",
       "      <td>No</td>\n",
       "      <td>No</td>\n",
       "      <td>No</td>\n",
       "      <td>No</td>\n",
       "      <td>No</td>\n",
       "      <td>No</td>\n",
       "      <td>No</td>\n",
       "      <td>No</td>\n",
       "      <td>No</td>\n",
       "      <td>No</td>\n",
       "      <td>No</td>\n",
       "      <td>No</td>\n",
       "      <td>Modified</td>\n",
       "    </tr>\n",
       "    <tr>\n",
       "      <th>1</th>\n",
       "      <td>2a272436-5132-4136-86fa-dcc88c88f482</td>\n",
       "      <td>660728</td>\n",
       "      <td>API</td>\n",
       "      <td>Organic Search</td>\n",
       "      <td>No</td>\n",
       "      <td>No</td>\n",
       "      <td>0</td>\n",
       "      <td>5.0</td>\n",
       "      <td>674</td>\n",
       "      <td>2.5</td>\n",
       "      <td>Email Opened</td>\n",
       "      <td>India</td>\n",
       "      <td>Unemployed</td>\n",
       "      <td>Better Career Prospects</td>\n",
       "      <td>No</td>\n",
       "      <td>No</td>\n",
       "      <td>No</td>\n",
       "      <td>No</td>\n",
       "      <td>No</td>\n",
       "      <td>No</td>\n",
       "      <td>No</td>\n",
       "      <td>No</td>\n",
       "      <td>No</td>\n",
       "      <td>No</td>\n",
       "      <td>No</td>\n",
       "      <td>No</td>\n",
       "      <td>Email Opened</td>\n",
       "    </tr>\n",
       "    <tr>\n",
       "      <th>2</th>\n",
       "      <td>8cc8c611-a219-4f35-ad23-fdfd2656bd8a</td>\n",
       "      <td>660727</td>\n",
       "      <td>Landing Page Submission</td>\n",
       "      <td>Direct Traffic</td>\n",
       "      <td>No</td>\n",
       "      <td>No</td>\n",
       "      <td>1</td>\n",
       "      <td>2.0</td>\n",
       "      <td>1532</td>\n",
       "      <td>2.0</td>\n",
       "      <td>Email Opened</td>\n",
       "      <td>India</td>\n",
       "      <td>Student</td>\n",
       "      <td>Better Career Prospects</td>\n",
       "      <td>No</td>\n",
       "      <td>No</td>\n",
       "      <td>No</td>\n",
       "      <td>No</td>\n",
       "      <td>No</td>\n",
       "      <td>No</td>\n",
       "      <td>No</td>\n",
       "      <td>No</td>\n",
       "      <td>No</td>\n",
       "      <td>No</td>\n",
       "      <td>No</td>\n",
       "      <td>Yes</td>\n",
       "      <td>Email Opened</td>\n",
       "    </tr>\n",
       "    <tr>\n",
       "      <th>3</th>\n",
       "      <td>0cc2df48-7cf4-4e39-9de9-19797f9b38cc</td>\n",
       "      <td>660719</td>\n",
       "      <td>Landing Page Submission</td>\n",
       "      <td>Direct Traffic</td>\n",
       "      <td>No</td>\n",
       "      <td>No</td>\n",
       "      <td>0</td>\n",
       "      <td>1.0</td>\n",
       "      <td>305</td>\n",
       "      <td>1.0</td>\n",
       "      <td>Unreachable</td>\n",
       "      <td>India</td>\n",
       "      <td>Unemployed</td>\n",
       "      <td>Better Career Prospects</td>\n",
       "      <td>No</td>\n",
       "      <td>No</td>\n",
       "      <td>No</td>\n",
       "      <td>No</td>\n",
       "      <td>No</td>\n",
       "      <td>No</td>\n",
       "      <td>No</td>\n",
       "      <td>No</td>\n",
       "      <td>No</td>\n",
       "      <td>No</td>\n",
       "      <td>No</td>\n",
       "      <td>No</td>\n",
       "      <td>Modified</td>\n",
       "    </tr>\n",
       "    <tr>\n",
       "      <th>4</th>\n",
       "      <td>3256f628-e534-4826-9d63-4a8b88782852</td>\n",
       "      <td>660681</td>\n",
       "      <td>Landing Page Submission</td>\n",
       "      <td>Google</td>\n",
       "      <td>No</td>\n",
       "      <td>No</td>\n",
       "      <td>1</td>\n",
       "      <td>2.0</td>\n",
       "      <td>1428</td>\n",
       "      <td>1.0</td>\n",
       "      <td>Converted to Lead</td>\n",
       "      <td>India</td>\n",
       "      <td>Unemployed</td>\n",
       "      <td>Better Career Prospects</td>\n",
       "      <td>No</td>\n",
       "      <td>No</td>\n",
       "      <td>No</td>\n",
       "      <td>No</td>\n",
       "      <td>No</td>\n",
       "      <td>No</td>\n",
       "      <td>No</td>\n",
       "      <td>No</td>\n",
       "      <td>No</td>\n",
       "      <td>No</td>\n",
       "      <td>No</td>\n",
       "      <td>No</td>\n",
       "      <td>Modified</td>\n",
       "    </tr>\n",
       "  </tbody>\n",
       "</table>\n",
       "</div>"
      ],
      "text/plain": [
       "                            Prospect ID  Lead Number              Lead Origin  \\\n",
       "0  7927b2df-8bba-4d29-b9a2-b6e0beafe620       660737                      API   \n",
       "1  2a272436-5132-4136-86fa-dcc88c88f482       660728                      API   \n",
       "2  8cc8c611-a219-4f35-ad23-fdfd2656bd8a       660727  Landing Page Submission   \n",
       "3  0cc2df48-7cf4-4e39-9de9-19797f9b38cc       660719  Landing Page Submission   \n",
       "4  3256f628-e534-4826-9d63-4a8b88782852       660681  Landing Page Submission   \n",
       "\n",
       "      Lead Source Do Not Email Do Not Call  Converted  TotalVisits  \\\n",
       "0      Olark Chat           No          No          0          0.0   \n",
       "1  Organic Search           No          No          0          5.0   \n",
       "2  Direct Traffic           No          No          1          2.0   \n",
       "3  Direct Traffic           No          No          0          1.0   \n",
       "4          Google           No          No          1          2.0   \n",
       "\n",
       "   Total Time Spent on Website  Page Views Per Visit            Last Activity  \\\n",
       "0                            0                   0.0  Page Visited on Website   \n",
       "1                          674                   2.5             Email Opened   \n",
       "2                         1532                   2.0             Email Opened   \n",
       "3                          305                   1.0              Unreachable   \n",
       "4                         1428                   1.0        Converted to Lead   \n",
       "\n",
       "  Country What is your current occupation  \\\n",
       "0     NaN                      Unemployed   \n",
       "1   India                      Unemployed   \n",
       "2   India                         Student   \n",
       "3   India                      Unemployed   \n",
       "4   India                      Unemployed   \n",
       "\n",
       "  What matters most to you in choosing a course Search Magazine  \\\n",
       "0                       Better Career Prospects     No       No   \n",
       "1                       Better Career Prospects     No       No   \n",
       "2                       Better Career Prospects     No       No   \n",
       "3                       Better Career Prospects     No       No   \n",
       "4                       Better Career Prospects     No       No   \n",
       "\n",
       "  Newspaper Article X Education Forums Newspaper Digital Advertisement  \\\n",
       "0                No                 No        No                    No   \n",
       "1                No                 No        No                    No   \n",
       "2                No                 No        No                    No   \n",
       "3                No                 No        No                    No   \n",
       "4                No                 No        No                    No   \n",
       "\n",
       "  Through Recommendations Receive More Updates About Our Courses  \\\n",
       "0                      No                                     No   \n",
       "1                      No                                     No   \n",
       "2                      No                                     No   \n",
       "3                      No                                     No   \n",
       "4                      No                                     No   \n",
       "\n",
       "  Update me on Supply Chain Content Get updates on DM Content  \\\n",
       "0                                No                        No   \n",
       "1                                No                        No   \n",
       "2                                No                        No   \n",
       "3                                No                        No   \n",
       "4                                No                        No   \n",
       "\n",
       "  I agree to pay the amount through cheque  \\\n",
       "0                                       No   \n",
       "1                                       No   \n",
       "2                                       No   \n",
       "3                                       No   \n",
       "4                                       No   \n",
       "\n",
       "  A free copy of Mastering The Interview Last Notable Activity  \n",
       "0                                     No              Modified  \n",
       "1                                     No          Email Opened  \n",
       "2                                    Yes          Email Opened  \n",
       "3                                     No              Modified  \n",
       "4                                     No              Modified  "
      ]
     },
     "execution_count": 11,
     "metadata": {},
     "output_type": "execute_result"
    }
   ],
   "source": [
    "### droppping columns with more than close to 30% of null values\n",
    "\n",
    "cols_del = col_null_check[col_null_check >= 30].index\n",
    "\n",
    "leads_df.drop(columns = cols_del , inplace=True)\n",
    "leads_df.head()"
   ]
  },
  {
   "cell_type": "code",
   "execution_count": 12,
   "id": "1a39f7dc",
   "metadata": {
    "execution": {
     "iopub.execute_input": "2021-07-15T16:07:31.311392Z",
     "iopub.status.busy": "2021-07-15T16:07:31.310444Z",
     "iopub.status.idle": "2021-07-15T16:07:31.315201Z",
     "shell.execute_reply": "2021-07-15T16:07:31.315686Z",
     "shell.execute_reply.started": "2021-07-15T16:05:31.300494Z"
    },
    "papermill": {
     "duration": 0.130655,
     "end_time": "2021-07-15T16:07:31.315889",
     "exception": false,
     "start_time": "2021-07-15T16:07:31.185234",
     "status": "completed"
    },
    "tags": []
   },
   "outputs": [
    {
     "data": {
      "text/html": [
       "<div>\n",
       "<style scoped>\n",
       "    .dataframe tbody tr th:only-of-type {\n",
       "        vertical-align: middle;\n",
       "    }\n",
       "\n",
       "    .dataframe tbody tr th {\n",
       "        vertical-align: top;\n",
       "    }\n",
       "\n",
       "    .dataframe thead th {\n",
       "        text-align: right;\n",
       "    }\n",
       "</style>\n",
       "<table border=\"1\" class=\"dataframe\">\n",
       "  <thead>\n",
       "    <tr style=\"text-align: right;\">\n",
       "      <th></th>\n",
       "      <th>Lead Origin</th>\n",
       "      <th>Lead Source</th>\n",
       "      <th>Do Not Email</th>\n",
       "      <th>Do Not Call</th>\n",
       "      <th>Converted</th>\n",
       "      <th>TotalVisits</th>\n",
       "      <th>Total Time Spent on Website</th>\n",
       "      <th>Page Views Per Visit</th>\n",
       "      <th>Last Activity</th>\n",
       "      <th>Country</th>\n",
       "      <th>What is your current occupation</th>\n",
       "      <th>What matters most to you in choosing a course</th>\n",
       "      <th>Search</th>\n",
       "      <th>Magazine</th>\n",
       "      <th>Newspaper Article</th>\n",
       "      <th>X Education Forums</th>\n",
       "      <th>Newspaper</th>\n",
       "      <th>Digital Advertisement</th>\n",
       "      <th>Through Recommendations</th>\n",
       "      <th>Receive More Updates About Our Courses</th>\n",
       "      <th>Update me on Supply Chain Content</th>\n",
       "      <th>Get updates on DM Content</th>\n",
       "      <th>I agree to pay the amount through cheque</th>\n",
       "      <th>A free copy of Mastering The Interview</th>\n",
       "      <th>Last Notable Activity</th>\n",
       "    </tr>\n",
       "  </thead>\n",
       "  <tbody>\n",
       "    <tr>\n",
       "      <th>0</th>\n",
       "      <td>API</td>\n",
       "      <td>Olark Chat</td>\n",
       "      <td>No</td>\n",
       "      <td>No</td>\n",
       "      <td>0</td>\n",
       "      <td>0.0</td>\n",
       "      <td>0</td>\n",
       "      <td>0.0</td>\n",
       "      <td>Page Visited on Website</td>\n",
       "      <td>NaN</td>\n",
       "      <td>Unemployed</td>\n",
       "      <td>Better Career Prospects</td>\n",
       "      <td>No</td>\n",
       "      <td>No</td>\n",
       "      <td>No</td>\n",
       "      <td>No</td>\n",
       "      <td>No</td>\n",
       "      <td>No</td>\n",
       "      <td>No</td>\n",
       "      <td>No</td>\n",
       "      <td>No</td>\n",
       "      <td>No</td>\n",
       "      <td>No</td>\n",
       "      <td>No</td>\n",
       "      <td>Modified</td>\n",
       "    </tr>\n",
       "    <tr>\n",
       "      <th>1</th>\n",
       "      <td>API</td>\n",
       "      <td>Organic Search</td>\n",
       "      <td>No</td>\n",
       "      <td>No</td>\n",
       "      <td>0</td>\n",
       "      <td>5.0</td>\n",
       "      <td>674</td>\n",
       "      <td>2.5</td>\n",
       "      <td>Email Opened</td>\n",
       "      <td>India</td>\n",
       "      <td>Unemployed</td>\n",
       "      <td>Better Career Prospects</td>\n",
       "      <td>No</td>\n",
       "      <td>No</td>\n",
       "      <td>No</td>\n",
       "      <td>No</td>\n",
       "      <td>No</td>\n",
       "      <td>No</td>\n",
       "      <td>No</td>\n",
       "      <td>No</td>\n",
       "      <td>No</td>\n",
       "      <td>No</td>\n",
       "      <td>No</td>\n",
       "      <td>No</td>\n",
       "      <td>Email Opened</td>\n",
       "    </tr>\n",
       "    <tr>\n",
       "      <th>2</th>\n",
       "      <td>Landing Page Submission</td>\n",
       "      <td>Direct Traffic</td>\n",
       "      <td>No</td>\n",
       "      <td>No</td>\n",
       "      <td>1</td>\n",
       "      <td>2.0</td>\n",
       "      <td>1532</td>\n",
       "      <td>2.0</td>\n",
       "      <td>Email Opened</td>\n",
       "      <td>India</td>\n",
       "      <td>Student</td>\n",
       "      <td>Better Career Prospects</td>\n",
       "      <td>No</td>\n",
       "      <td>No</td>\n",
       "      <td>No</td>\n",
       "      <td>No</td>\n",
       "      <td>No</td>\n",
       "      <td>No</td>\n",
       "      <td>No</td>\n",
       "      <td>No</td>\n",
       "      <td>No</td>\n",
       "      <td>No</td>\n",
       "      <td>No</td>\n",
       "      <td>Yes</td>\n",
       "      <td>Email Opened</td>\n",
       "    </tr>\n",
       "    <tr>\n",
       "      <th>3</th>\n",
       "      <td>Landing Page Submission</td>\n",
       "      <td>Direct Traffic</td>\n",
       "      <td>No</td>\n",
       "      <td>No</td>\n",
       "      <td>0</td>\n",
       "      <td>1.0</td>\n",
       "      <td>305</td>\n",
       "      <td>1.0</td>\n",
       "      <td>Unreachable</td>\n",
       "      <td>India</td>\n",
       "      <td>Unemployed</td>\n",
       "      <td>Better Career Prospects</td>\n",
       "      <td>No</td>\n",
       "      <td>No</td>\n",
       "      <td>No</td>\n",
       "      <td>No</td>\n",
       "      <td>No</td>\n",
       "      <td>No</td>\n",
       "      <td>No</td>\n",
       "      <td>No</td>\n",
       "      <td>No</td>\n",
       "      <td>No</td>\n",
       "      <td>No</td>\n",
       "      <td>No</td>\n",
       "      <td>Modified</td>\n",
       "    </tr>\n",
       "    <tr>\n",
       "      <th>4</th>\n",
       "      <td>Landing Page Submission</td>\n",
       "      <td>Google</td>\n",
       "      <td>No</td>\n",
       "      <td>No</td>\n",
       "      <td>1</td>\n",
       "      <td>2.0</td>\n",
       "      <td>1428</td>\n",
       "      <td>1.0</td>\n",
       "      <td>Converted to Lead</td>\n",
       "      <td>India</td>\n",
       "      <td>Unemployed</td>\n",
       "      <td>Better Career Prospects</td>\n",
       "      <td>No</td>\n",
       "      <td>No</td>\n",
       "      <td>No</td>\n",
       "      <td>No</td>\n",
       "      <td>No</td>\n",
       "      <td>No</td>\n",
       "      <td>No</td>\n",
       "      <td>No</td>\n",
       "      <td>No</td>\n",
       "      <td>No</td>\n",
       "      <td>No</td>\n",
       "      <td>No</td>\n",
       "      <td>Modified</td>\n",
       "    </tr>\n",
       "  </tbody>\n",
       "</table>\n",
       "</div>"
      ],
      "text/plain": [
       "               Lead Origin     Lead Source Do Not Email Do Not Call  \\\n",
       "0                      API      Olark Chat           No          No   \n",
       "1                      API  Organic Search           No          No   \n",
       "2  Landing Page Submission  Direct Traffic           No          No   \n",
       "3  Landing Page Submission  Direct Traffic           No          No   \n",
       "4  Landing Page Submission          Google           No          No   \n",
       "\n",
       "   Converted  TotalVisits  Total Time Spent on Website  Page Views Per Visit  \\\n",
       "0          0          0.0                            0                   0.0   \n",
       "1          0          5.0                          674                   2.5   \n",
       "2          1          2.0                         1532                   2.0   \n",
       "3          0          1.0                          305                   1.0   \n",
       "4          1          2.0                         1428                   1.0   \n",
       "\n",
       "             Last Activity Country What is your current occupation  \\\n",
       "0  Page Visited on Website     NaN                      Unemployed   \n",
       "1             Email Opened   India                      Unemployed   \n",
       "2             Email Opened   India                         Student   \n",
       "3              Unreachable   India                      Unemployed   \n",
       "4        Converted to Lead   India                      Unemployed   \n",
       "\n",
       "  What matters most to you in choosing a course Search Magazine  \\\n",
       "0                       Better Career Prospects     No       No   \n",
       "1                       Better Career Prospects     No       No   \n",
       "2                       Better Career Prospects     No       No   \n",
       "3                       Better Career Prospects     No       No   \n",
       "4                       Better Career Prospects     No       No   \n",
       "\n",
       "  Newspaper Article X Education Forums Newspaper Digital Advertisement  \\\n",
       "0                No                 No        No                    No   \n",
       "1                No                 No        No                    No   \n",
       "2                No                 No        No                    No   \n",
       "3                No                 No        No                    No   \n",
       "4                No                 No        No                    No   \n",
       "\n",
       "  Through Recommendations Receive More Updates About Our Courses  \\\n",
       "0                      No                                     No   \n",
       "1                      No                                     No   \n",
       "2                      No                                     No   \n",
       "3                      No                                     No   \n",
       "4                      No                                     No   \n",
       "\n",
       "  Update me on Supply Chain Content Get updates on DM Content  \\\n",
       "0                                No                        No   \n",
       "1                                No                        No   \n",
       "2                                No                        No   \n",
       "3                                No                        No   \n",
       "4                                No                        No   \n",
       "\n",
       "  I agree to pay the amount through cheque  \\\n",
       "0                                       No   \n",
       "1                                       No   \n",
       "2                                       No   \n",
       "3                                       No   \n",
       "4                                       No   \n",
       "\n",
       "  A free copy of Mastering The Interview Last Notable Activity  \n",
       "0                                     No              Modified  \n",
       "1                                     No          Email Opened  \n",
       "2                                    Yes          Email Opened  \n",
       "3                                     No              Modified  \n",
       "4                                     No              Modified  "
      ]
     },
     "execution_count": 12,
     "metadata": {},
     "output_type": "execute_result"
    }
   ],
   "source": [
    "### dropping columns that are not required as its index column\n",
    "\n",
    "leads_df.drop(columns = [\"Prospect ID\" , \"Lead Number\"] , inplace=True)\n",
    "leads_df.head()"
   ]
  },
  {
   "cell_type": "markdown",
   "id": "26809684",
   "metadata": {
    "papermill": {
     "duration": 0.09362,
     "end_time": "2021-07-15T16:07:31.505163",
     "exception": false,
     "start_time": "2021-07-15T16:07:31.411543",
     "status": "completed"
    },
    "tags": []
   },
   "source": [
    "<br>\n",
    "<br>"
   ]
  },
  {
   "cell_type": "markdown",
   "id": "e333b16a",
   "metadata": {
    "papermill": {
     "duration": 0.094109,
     "end_time": "2021-07-15T16:07:31.694988",
     "exception": false,
     "start_time": "2021-07-15T16:07:31.600879",
     "status": "completed"
    },
    "tags": []
   },
   "source": [
    "## <font color=\"blue\">Understanding & imputing other null columns </font>"
   ]
  },
  {
   "cell_type": "code",
   "execution_count": 13,
   "id": "61554cde",
   "metadata": {
    "execution": {
     "iopub.execute_input": "2021-07-15T16:07:31.889434Z",
     "iopub.status.busy": "2021-07-15T16:07:31.888715Z",
     "iopub.status.idle": "2021-07-15T16:07:31.918403Z",
     "shell.execute_reply": "2021-07-15T16:07:31.918932Z",
     "shell.execute_reply.started": "2021-07-15T16:05:31.339412Z"
    },
    "papermill": {
     "duration": 0.12877,
     "end_time": "2021-07-15T16:07:31.919105",
     "exception": false,
     "start_time": "2021-07-15T16:07:31.790335",
     "status": "completed"
    },
    "tags": []
   },
   "outputs": [
    {
     "data": {
      "text/plain": [
       "What matters most to you in choosing a course    29.32\n",
       "What is your current occupation                  29.11\n",
       "Country                                          26.63\n",
       "TotalVisits                                       1.48\n",
       "Page Views Per Visit                              1.48\n",
       "Last Activity                                     1.11\n",
       "Lead Source                                       0.39\n",
       "dtype: float64"
      ]
     },
     "execution_count": 13,
     "metadata": {},
     "output_type": "execute_result"
    }
   ],
   "source": [
    "### columns to consider for imputing\n",
    "col_null_check = round((leads_df.isnull().sum() * 100 / leads_df.shape[0]),2).sort_values(ascending=False)\n",
    "col_null_check[col_null_check > 0]"
   ]
  },
  {
   "cell_type": "code",
   "execution_count": 14,
   "id": "312c9857",
   "metadata": {
    "execution": {
     "iopub.execute_input": "2021-07-15T16:07:32.113815Z",
     "iopub.status.busy": "2021-07-15T16:07:32.113100Z",
     "iopub.status.idle": "2021-07-15T16:07:32.123370Z",
     "shell.execute_reply": "2021-07-15T16:07:32.122659Z",
     "shell.execute_reply.started": "2021-07-15T16:05:31.379742Z"
    },
    "papermill": {
     "duration": 0.108512,
     "end_time": "2021-07-15T16:07:32.123515",
     "exception": false,
     "start_time": "2021-07-15T16:07:32.015003",
     "status": "completed"
    },
    "tags": []
   },
   "outputs": [],
   "source": [
    "### replacing Lead Source value with mode value as its a categorical column\n",
    "leads_df[\"Lead Source\"].fillna(leads_df[\"Lead Source\"].mode()[0], inplace=True)"
   ]
  },
  {
   "cell_type": "code",
   "execution_count": 15,
   "id": "14c7ca68",
   "metadata": {
    "execution": {
     "iopub.execute_input": "2021-07-15T16:07:32.327635Z",
     "iopub.status.busy": "2021-07-15T16:07:32.326914Z",
     "iopub.status.idle": "2021-07-15T16:07:32.330211Z",
     "shell.execute_reply": "2021-07-15T16:07:32.330734Z",
     "shell.execute_reply.started": "2021-07-15T16:05:31.391100Z"
    },
    "papermill": {
     "duration": 0.108608,
     "end_time": "2021-07-15T16:07:32.330923",
     "exception": false,
     "start_time": "2021-07-15T16:07:32.222315",
     "status": "completed"
    },
    "tags": []
   },
   "outputs": [
    {
     "data": {
      "text/plain": [
       "Google               31.428571\n",
       "Direct Traffic       27.521645\n",
       "Olark Chat           18.993506\n",
       "Organic Search       12.489177\n",
       "Reference             5.779221\n",
       "Welingak Website      1.536797\n",
       "Referral Sites        1.352814\n",
       "Facebook              0.595238\n",
       "bing                  0.064935\n",
       "google                0.054113\n",
       "Click2call            0.043290\n",
       "Social Media          0.021645\n",
       "Press_Release         0.021645\n",
       "Live Chat             0.021645\n",
       "youtubechannel        0.010823\n",
       "Pay per Click Ads     0.010823\n",
       "welearnblog_Home      0.010823\n",
       "WeLearn               0.010823\n",
       "NC_EDM                0.010823\n",
       "blog                  0.010823\n",
       "testone               0.010823\n",
       "Name: Lead Source, dtype: float64"
      ]
     },
     "execution_count": 15,
     "metadata": {},
     "output_type": "execute_result"
    }
   ],
   "source": [
    "### checking % of values so that we can merge low ones into one.\n",
    "leads_df[\"Lead Source\"].value_counts(normalize=True,dropna=False)* 100"
   ]
  },
  {
   "cell_type": "code",
   "execution_count": 16,
   "id": "a2f46631",
   "metadata": {
    "execution": {
     "iopub.execute_input": "2021-07-15T16:07:32.523085Z",
     "iopub.status.busy": "2021-07-15T16:07:32.522444Z",
     "iopub.status.idle": "2021-07-15T16:07:32.527920Z",
     "shell.execute_reply": "2021-07-15T16:07:32.528440Z",
     "shell.execute_reply.started": "2021-07-15T16:05:31.417341Z"
    },
    "papermill": {
     "duration": 0.10311,
     "end_time": "2021-07-15T16:07:32.528623",
     "exception": false,
     "start_time": "2021-07-15T16:07:32.425513",
     "status": "completed"
    },
    "tags": []
   },
   "outputs": [],
   "source": [
    "### converting google to Google in Lead Source column so make it same.\n",
    "leads_df[\"Lead Source\"] = leads_df[\"Lead Source\"].replace(\"google\",\"Google\")"
   ]
  },
  {
   "cell_type": "code",
   "execution_count": 17,
   "id": "1df742c7",
   "metadata": {
    "execution": {
     "iopub.execute_input": "2021-07-15T16:07:32.772264Z",
     "iopub.status.busy": "2021-07-15T16:07:32.771632Z",
     "iopub.status.idle": "2021-07-15T16:07:32.783753Z",
     "shell.execute_reply": "2021-07-15T16:07:32.783185Z",
     "shell.execute_reply.started": "2021-07-15T16:05:31.427169Z"
    },
    "papermill": {
     "duration": 0.108748,
     "end_time": "2021-07-15T16:07:32.783919",
     "exception": false,
     "start_time": "2021-07-15T16:07:32.675171",
     "status": "completed"
    },
    "tags": []
   },
   "outputs": [
    {
     "data": {
      "text/plain": [
       "Reference            5.779221\n",
       "Welingak Website     1.536797\n",
       "Referral Sites       1.352814\n",
       "Facebook             0.595238\n",
       "bing                 0.064935\n",
       "Click2call           0.043290\n",
       "Social Media         0.021645\n",
       "Press_Release        0.021645\n",
       "Live Chat            0.021645\n",
       "WeLearn              0.010823\n",
       "youtubechannel       0.010823\n",
       "Pay per Click Ads    0.010823\n",
       "welearnblog_Home     0.010823\n",
       "NC_EDM               0.010823\n",
       "blog                 0.010823\n",
       "testone              0.010823\n",
       "Name: Lead Source, dtype: float64"
      ]
     },
     "execution_count": 17,
     "metadata": {},
     "output_type": "execute_result"
    }
   ],
   "source": [
    "### lead source column to merge\n",
    "to_merge = leads_df[\"Lead Source\"].value_counts(normalize=True,dropna=False)* 100\n",
    "to_merge[to_merge < 10]"
   ]
  },
  {
   "cell_type": "code",
   "execution_count": 18,
   "id": "e64e92f4",
   "metadata": {
    "execution": {
     "iopub.execute_input": "2021-07-15T16:07:32.996124Z",
     "iopub.status.busy": "2021-07-15T16:07:32.985887Z",
     "iopub.status.idle": "2021-07-15T16:07:35.639464Z",
     "shell.execute_reply": "2021-07-15T16:07:35.639988Z",
     "shell.execute_reply.started": "2021-07-15T16:05:31.451716Z"
    },
    "papermill": {
     "duration": 2.760538,
     "end_time": "2021-07-15T16:07:35.640167",
     "exception": false,
     "start_time": "2021-07-15T16:07:32.879629",
     "status": "completed"
    },
    "tags": []
   },
   "outputs": [
    {
     "data": {
      "text/plain": [
       "Google            31.482684\n",
       "Direct Traffic    27.521645\n",
       "Olark Chat        18.993506\n",
       "Organic Search    12.489177\n",
       "Others             9.512987\n",
       "Name: Lead Source, dtype: float64"
      ]
     },
     "execution_count": 18,
     "metadata": {},
     "output_type": "execute_result"
    }
   ],
   "source": [
    "### mereging below 10% to others\n",
    "leads_df[\"Lead Source\"] = leads_df[\"Lead Source\"].apply(lambda x: 'Others' if x in to_merge[to_merge < 10].index else x)\n",
    "leads_df[\"Lead Source\"].value_counts(normalize=True,dropna=False)* 100"
   ]
  },
  {
   "cell_type": "code",
   "execution_count": 19,
   "id": "c3b308ca",
   "metadata": {
    "execution": {
     "iopub.execute_input": "2021-07-15T16:07:35.840828Z",
     "iopub.status.busy": "2021-07-15T16:07:35.839734Z",
     "iopub.status.idle": "2021-07-15T16:07:35.842397Z",
     "shell.execute_reply": "2021-07-15T16:07:35.842846Z",
     "shell.execute_reply.started": "2021-07-15T16:05:34.264308Z"
    },
    "papermill": {
     "duration": 0.107866,
     "end_time": "2021-07-15T16:07:35.843021",
     "exception": false,
     "start_time": "2021-07-15T16:07:35.735155",
     "status": "completed"
    },
    "tags": []
   },
   "outputs": [],
   "source": [
    "### replacing Last Activity value with mode value as its a categorical column\n",
    "\n",
    "leads_df[\"Last Activity\"].fillna(leads_df[\"Last Activity\"].mode()[0], inplace=True)"
   ]
  },
  {
   "cell_type": "code",
   "execution_count": 20,
   "id": "c8828f10",
   "metadata": {
    "execution": {
     "iopub.execute_input": "2021-07-15T16:07:36.049772Z",
     "iopub.status.busy": "2021-07-15T16:07:36.048864Z",
     "iopub.status.idle": "2021-07-15T16:07:36.052324Z",
     "shell.execute_reply": "2021-07-15T16:07:36.052954Z",
     "shell.execute_reply.started": "2021-07-15T16:05:34.276114Z"
    },
    "papermill": {
     "duration": 0.113308,
     "end_time": "2021-07-15T16:07:36.053130",
     "exception": false,
     "start_time": "2021-07-15T16:07:35.939822",
     "status": "completed"
    },
    "tags": []
   },
   "outputs": [
    {
     "data": {
      "text/plain": [
       "Email Opened                    38.311688\n",
       "SMS Sent                        29.707792\n",
       "Olark Chat Conversation         10.530303\n",
       "Page Visited on Website          6.926407\n",
       "Converted to Lead                4.632035\n",
       "Email Bounced                    3.528139\n",
       "Email Link Clicked               2.889610\n",
       "Form Submitted on Website        1.255411\n",
       "Unreachable                      1.006494\n",
       "Unsubscribed                     0.660173\n",
       "Had a Phone Conversation         0.324675\n",
       "Approached upfront               0.097403\n",
       "View in browser link Clicked     0.064935\n",
       "Email Marked Spam                0.021645\n",
       "Email Received                   0.021645\n",
       "Resubscribed to emails           0.010823\n",
       "Visited Booth in Tradeshow       0.010823\n",
       "Name: Last Activity, dtype: float64"
      ]
     },
     "execution_count": 20,
     "metadata": {},
     "output_type": "execute_result"
    }
   ],
   "source": [
    "### checking % of values so that we can merge low ones into one.\n",
    "leads_df[\"Last Activity\"].value_counts(normalize=True,dropna=False)* 100"
   ]
  },
  {
   "cell_type": "code",
   "execution_count": 21,
   "id": "ea739652",
   "metadata": {
    "execution": {
     "iopub.execute_input": "2021-07-15T16:07:36.249634Z",
     "iopub.status.busy": "2021-07-15T16:07:36.248634Z",
     "iopub.status.idle": "2021-07-15T16:07:38.977681Z",
     "shell.execute_reply": "2021-07-15T16:07:38.978266Z",
     "shell.execute_reply.started": "2021-07-15T16:05:34.301180Z"
    },
    "papermill": {
     "duration": 2.829382,
     "end_time": "2021-07-15T16:07:38.978503",
     "exception": false,
     "start_time": "2021-07-15T16:07:36.149121",
     "status": "completed"
    },
    "tags": []
   },
   "outputs": [
    {
     "data": {
      "text/plain": [
       "Email Opened               38.311688\n",
       "SMS Sent                   29.707792\n",
       "Others                     21.450216\n",
       "Olark Chat Conversation    10.530303\n",
       "Name: Last Activity, dtype: float64"
      ]
     },
     "execution_count": 21,
     "metadata": {},
     "output_type": "execute_result"
    }
   ],
   "source": [
    "### lead source column to merge\n",
    "to_merge = leads_df[\"Last Activity\"].value_counts(normalize=True,dropna=False)* 100\n",
    "\n",
    "### mereging below 10% to others\n",
    "leads_df[\"Last Activity\"] = leads_df[\"Last Activity\"].apply(lambda x: 'Others' if x in to_merge[to_merge < 10].index else x)\n",
    "leads_df[\"Last Activity\"].value_counts(normalize=True,dropna=False)* 100"
   ]
  },
  {
   "cell_type": "code",
   "execution_count": 22,
   "id": "b0f38f2e",
   "metadata": {
    "execution": {
     "iopub.execute_input": "2021-07-15T16:07:39.184682Z",
     "iopub.status.busy": "2021-07-15T16:07:39.183594Z",
     "iopub.status.idle": "2021-07-15T16:07:39.355103Z",
     "shell.execute_reply": "2021-07-15T16:07:39.354423Z",
     "shell.execute_reply.started": "2021-07-15T16:05:37.045741Z"
    },
    "papermill": {
     "duration": 0.275737,
     "end_time": "2021-07-15T16:07:39.355293",
     "exception": false,
     "start_time": "2021-07-15T16:07:39.079556",
     "status": "completed"
    },
    "tags": []
   },
   "outputs": [
    {
     "data": {
      "text/plain": [
       "<AxesSubplot:xlabel='TotalVisits'>"
      ]
     },
     "execution_count": 22,
     "metadata": {},
     "output_type": "execute_result"
    },
    {
     "data": {
      "image/png": "[encoded data removed]",
      "text/plain": [
       "<Figure size 432x288 with 1 Axes>"
      ]
     },
     "metadata": {
      "needs_background": "light"
     },
     "output_type": "display_data"
    }
   ],
   "source": [
    "#### checking outliers in TotalVisits column\n",
    "\n",
    "sns.boxplot(leads_df[\"TotalVisits\"])"
   ]
  },
  {
   "cell_type": "code",
   "execution_count": 23,
   "id": "3e36e3cb",
   "metadata": {
    "execution": {
     "iopub.execute_input": "2021-07-15T16:07:39.556289Z",
     "iopub.status.busy": "2021-07-15T16:07:39.555408Z",
     "iopub.status.idle": "2021-07-15T16:07:39.560459Z",
     "shell.execute_reply": "2021-07-15T16:07:39.560937Z",
     "shell.execute_reply.started": "2021-07-15T16:05:37.219592Z"
    },
    "papermill": {
     "duration": 0.107168,
     "end_time": "2021-07-15T16:07:39.561131",
     "exception": false,
     "start_time": "2021-07-15T16:07:39.453963",
     "status": "completed"
    },
    "tags": []
   },
   "outputs": [],
   "source": [
    "### replacing TotalVisits value with median value as it has outliers\n",
    "\n",
    "leads_df[\"TotalVisits\"].fillna(leads_df[\"TotalVisits\"].median(), inplace=True)"
   ]
  },
  {
   "cell_type": "code",
   "execution_count": 24,
   "id": "fd3f3b04",
   "metadata": {
    "execution": {
     "iopub.execute_input": "2021-07-15T16:07:39.782476Z",
     "iopub.status.busy": "2021-07-15T16:07:39.781423Z",
     "iopub.status.idle": "2021-07-15T16:07:39.888841Z",
     "shell.execute_reply": "2021-07-15T16:07:39.888164Z",
     "shell.execute_reply.started": "2021-07-15T16:05:37.227989Z"
    },
    "papermill": {
     "duration": 0.23155,
     "end_time": "2021-07-15T16:07:39.888983",
     "exception": false,
     "start_time": "2021-07-15T16:07:39.657433",
     "status": "completed"
    },
    "tags": []
   },
   "outputs": [
    {
     "data": {
      "text/plain": [
       "<AxesSubplot:xlabel='Page Views Per Visit'>"
      ]
     },
     "execution_count": 24,
     "metadata": {},
     "output_type": "execute_result"
    },
    {
     "data": {
      "image/png": "[encoded data removed]",
      "text/plain": [
       "<Figure size 432x288 with 1 Axes>"
      ]
     },
     "metadata": {
      "needs_background": "light"
     },
     "output_type": "display_data"
    }
   ],
   "source": [
    "#### checking outliers in Page Views Per Visit column\n",
    "\n",
    "sns.boxplot(leads_df[\"Page Views Per Visit\"])"
   ]
  },
  {
   "cell_type": "code",
   "execution_count": 25,
   "id": "3c5450d8",
   "metadata": {
    "execution": {
     "iopub.execute_input": "2021-07-15T16:07:40.093309Z",
     "iopub.status.busy": "2021-07-15T16:07:40.092468Z",
     "iopub.status.idle": "2021-07-15T16:07:40.096369Z",
     "shell.execute_reply": "2021-07-15T16:07:40.095838Z",
     "shell.execute_reply.started": "2021-07-15T16:05:37.374133Z"
    },
    "papermill": {
     "duration": 0.107505,
     "end_time": "2021-07-15T16:07:40.096519",
     "exception": false,
     "start_time": "2021-07-15T16:07:39.989014",
     "status": "completed"
    },
    "tags": []
   },
   "outputs": [],
   "source": [
    "### replacing Page Views Per Visit value with median value as it has outliers\n",
    "\n",
    "leads_df[\"Page Views Per Visit\"].fillna(leads_df[\"Page Views Per Visit\"].median(), inplace=True)"
   ]
  },
  {
   "cell_type": "code",
   "execution_count": 26,
   "id": "1505b292",
   "metadata": {
    "execution": {
     "iopub.execute_input": "2021-07-15T16:07:40.302004Z",
     "iopub.status.busy": "2021-07-15T16:07:40.301263Z",
     "iopub.status.idle": "2021-07-15T16:07:40.305181Z",
     "shell.execute_reply": "2021-07-15T16:07:40.304651Z",
     "shell.execute_reply.started": "2021-07-15T16:05:37.380691Z"
    },
    "papermill": {
     "duration": 0.111703,
     "end_time": "2021-07-15T16:07:40.305330",
     "exception": false,
     "start_time": "2021-07-15T16:07:40.193627",
     "status": "completed"
    },
    "tags": []
   },
   "outputs": [
    {
     "data": {
      "text/plain": [
       "Unemployed              60.606061\n",
       "NaN                     29.112554\n",
       "Working Professional     7.640693\n",
       "Student                  2.272727\n",
       "Other                    0.173160\n",
       "Housewife                0.108225\n",
       "Businessman              0.086580\n",
       "Name: What is your current occupation, dtype: float64"
      ]
     },
     "execution_count": 26,
     "metadata": {},
     "output_type": "execute_result"
    }
   ],
   "source": [
    "### checking values in What is your current occupation\n",
    "leads_df[\"What is your current occupation\"].value_counts(normalize=True,dropna=False)* 100"
   ]
  },
  {
   "cell_type": "code",
   "execution_count": 27,
   "id": "1d719ed6",
   "metadata": {
    "execution": {
     "iopub.execute_input": "2021-07-15T16:07:40.525133Z",
     "iopub.status.busy": "2021-07-15T16:07:40.524131Z",
     "iopub.status.idle": "2021-07-15T16:07:40.528046Z",
     "shell.execute_reply": "2021-07-15T16:07:40.528532Z",
     "shell.execute_reply.started": "2021-07-15T16:05:37.403375Z"
    },
    "papermill": {
     "duration": 0.122927,
     "end_time": "2021-07-15T16:07:40.528718",
     "exception": false,
     "start_time": "2021-07-15T16:07:40.405791",
     "status": "completed"
    },
    "tags": []
   },
   "outputs": [
    {
     "data": {
      "text/plain": [
       "Unemployed              0.606061\n",
       "Not Specified           0.291126\n",
       "Working Professional    0.076407\n",
       "Student                 0.022727\n",
       "Other                   0.001732\n",
       "Housewife               0.001082\n",
       "Businessman             0.000866\n",
       "Name: What is your current occupation, dtype: float64"
      ]
     },
     "execution_count": 27,
     "metadata": {},
     "output_type": "execute_result"
    }
   ],
   "source": [
    "### converting null to not specified\n",
    "leads_df[\"What is your current occupation\"].replace(np.nan , \"Not Specified\" , inplace=True)\n",
    "leads_df[\"What is your current occupation\"].value_counts(dropna=False , normalize=True)"
   ]
  },
  {
   "cell_type": "code",
   "execution_count": 28,
   "id": "c29f114d",
   "metadata": {
    "execution": {
     "iopub.execute_input": "2021-07-15T16:07:40.742487Z",
     "iopub.status.busy": "2021-07-15T16:07:40.741506Z",
     "iopub.status.idle": "2021-07-15T16:07:40.745862Z",
     "shell.execute_reply": "2021-07-15T16:07:40.745220Z",
     "shell.execute_reply.started": "2021-07-15T16:05:37.426433Z"
    },
    "papermill": {
     "duration": 0.117267,
     "end_time": "2021-07-15T16:07:40.746001",
     "exception": false,
     "start_time": "2021-07-15T16:07:40.628734",
     "status": "completed"
    },
    "tags": []
   },
   "outputs": [
    {
     "data": {
      "text/plain": [
       "Unemployed              0.606061\n",
       "Not Specified           0.291126\n",
       "Working Professional    0.076407\n",
       "Other                   0.026407\n",
       "Name: What is your current occupation, dtype: float64"
      ]
     },
     "execution_count": 28,
     "metadata": {},
     "output_type": "execute_result"
    }
   ],
   "source": [
    "### mereging below 5% to others\n",
    "to_merge = [\"Student\" ,\"Housewife\", \"Businessman\"]\n",
    "leads_df[\"What is your current occupation\"] = leads_df[\"What is your current occupation\"].apply(lambda x: 'Other' if x in to_merge else x)\n",
    "leads_df[\"What is your current occupation\"].value_counts(dropna=False , normalize=True)"
   ]
  },
  {
   "cell_type": "code",
   "execution_count": 29,
   "id": "d5b9b5f7",
   "metadata": {
    "execution": {
     "iopub.execute_input": "2021-07-15T16:07:40.958709Z",
     "iopub.status.busy": "2021-07-15T16:07:40.957737Z",
     "iopub.status.idle": "2021-07-15T16:07:40.962672Z",
     "shell.execute_reply": "2021-07-15T16:07:40.961983Z",
     "shell.execute_reply.started": "2021-07-15T16:05:37.445004Z"
    },
    "papermill": {
     "duration": 0.117605,
     "end_time": "2021-07-15T16:07:40.962834",
     "exception": false,
     "start_time": "2021-07-15T16:07:40.845229",
     "status": "completed"
    },
    "tags": []
   },
   "outputs": [
    {
     "data": {
      "text/plain": [
       "Better Career Prospects      70.649351\n",
       "NaN                          29.318182\n",
       "Flexibility & Convenience     0.021645\n",
       "Other                         0.010823\n",
       "Name: What matters most to you in choosing a course, dtype: float64"
      ]
     },
     "execution_count": 29,
     "metadata": {},
     "output_type": "execute_result"
    }
   ],
   "source": [
    "### checking values in What matters most to you in choosing a course\n",
    "leads_df[\"What matters most to you in choosing a course\"].value_counts(normalize=True,dropna=False)* 100"
   ]
  },
  {
   "cell_type": "code",
   "execution_count": 30,
   "id": "60e923f9",
   "metadata": {
    "execution": {
     "iopub.execute_input": "2021-07-15T16:07:41.177712Z",
     "iopub.status.busy": "2021-07-15T16:07:41.176998Z",
     "iopub.status.idle": "2021-07-15T16:07:41.180266Z",
     "shell.execute_reply": "2021-07-15T16:07:41.180825Z",
     "shell.execute_reply.started": "2021-07-15T16:05:37.468848Z"
    },
    "papermill": {
     "duration": 0.117817,
     "end_time": "2021-07-15T16:07:41.180997",
     "exception": false,
     "start_time": "2021-07-15T16:07:41.063180",
     "status": "completed"
    },
    "tags": []
   },
   "outputs": [
    {
     "data": {
      "text/plain": [
       "Better Career Prospects      70.649351\n",
       "Not Specified                29.318182\n",
       "Flexibility & Convenience     0.021645\n",
       "Other                         0.010823\n",
       "Name: What matters most to you in choosing a course, dtype: float64"
      ]
     },
     "execution_count": 30,
     "metadata": {},
     "output_type": "execute_result"
    }
   ],
   "source": [
    "### converting null to not specified\n",
    "leads_df[\"What matters most to you in choosing a course\"].replace(np.nan , \"Not Specified\" , inplace=True)\n",
    "leads_df[\"What matters most to you in choosing a course\"].value_counts(dropna=False , normalize=True) * 100"
   ]
  },
  {
   "cell_type": "code",
   "execution_count": 31,
   "id": "06c4e5b5",
   "metadata": {
    "execution": {
     "iopub.execute_input": "2021-07-15T16:07:41.396029Z",
     "iopub.status.busy": "2021-07-15T16:07:41.395080Z",
     "iopub.status.idle": "2021-07-15T16:07:41.399117Z",
     "shell.execute_reply": "2021-07-15T16:07:41.399578Z",
     "shell.execute_reply.started": "2021-07-15T16:05:37.491435Z"
    },
    "papermill": {
     "duration": 0.119729,
     "end_time": "2021-07-15T16:07:41.399763",
     "exception": false,
     "start_time": "2021-07-15T16:07:41.280034",
     "status": "completed"
    },
    "tags": []
   },
   "outputs": [
    {
     "data": {
      "text/plain": [
       "Better Career Prospects    70.649351\n",
       "Not Specified              29.318182\n",
       "Other                       0.032468\n",
       "Name: What matters most to you in choosing a course, dtype: float64"
      ]
     },
     "execution_count": 31,
     "metadata": {},
     "output_type": "execute_result"
    }
   ],
   "source": [
    "### mereging below 1% to others\n",
    "to_merge = [\"Flexibility & Convenience\"]\n",
    "leads_df[\"What matters most to you in choosing a course\"] = leads_df[\"What matters most to you in choosing a course\"].apply(lambda x: 'Other' if x in to_merge else x)\n",
    "leads_df[\"What matters most to you in choosing a course\"].value_counts(dropna=False , normalize=True) * 100"
   ]
  },
  {
   "cell_type": "code",
   "execution_count": 32,
   "id": "0536e485",
   "metadata": {
    "execution": {
     "iopub.execute_input": "2021-07-15T16:07:41.608584Z",
     "iopub.status.busy": "2021-07-15T16:07:41.607827Z",
     "iopub.status.idle": "2021-07-15T16:07:41.611952Z",
     "shell.execute_reply": "2021-07-15T16:07:41.611437Z",
     "shell.execute_reply.started": "2021-07-15T16:05:37.517618Z"
    },
    "papermill": {
     "duration": 0.113625,
     "end_time": "2021-07-15T16:07:41.612088",
     "exception": false,
     "start_time": "2021-07-15T16:07:41.498463",
     "status": "completed"
    },
    "tags": []
   },
   "outputs": [
    {
     "data": {
      "text/plain": [
       "India                   70.259740\n",
       "NaN                     26.634199\n",
       "United States            0.746753\n",
       "United Arab Emirates     0.573593\n",
       "Singapore                0.259740\n",
       "Saudi Arabia             0.227273\n",
       "United Kingdom           0.162338\n",
       "Australia                0.140693\n",
       "Qatar                    0.108225\n",
       "Hong Kong                0.075758\n",
       "Bahrain                  0.075758\n",
       "Oman                     0.064935\n",
       "France                   0.064935\n",
       "unknown                  0.054113\n",
       "Nigeria                  0.043290\n",
       "South Africa             0.043290\n",
       "Kuwait                   0.043290\n",
       "Germany                  0.043290\n",
       "Canada                   0.043290\n",
       "Sweden                   0.032468\n",
       "Netherlands              0.021645\n",
       "Ghana                    0.021645\n",
       "Italy                    0.021645\n",
       "Asia/Pacific Region      0.021645\n",
       "Uganda                   0.021645\n",
       "Philippines              0.021645\n",
       "China                    0.021645\n",
       "Belgium                  0.021645\n",
       "Bangladesh               0.021645\n",
       "Russia                   0.010823\n",
       "Switzerland              0.010823\n",
       "Denmark                  0.010823\n",
       "Indonesia                0.010823\n",
       "Tanzania                 0.010823\n",
       "Malaysia                 0.010823\n",
       "Kenya                    0.010823\n",
       "Sri Lanka                0.010823\n",
       "Liberia                  0.010823\n",
       "Vietnam                  0.010823\n",
       "Name: Country, dtype: float64"
      ]
     },
     "execution_count": 32,
     "metadata": {},
     "output_type": "execute_result"
    }
   ],
   "source": [
    "### checking % values in Country\n",
    "leads_df[\"Country\"].value_counts(normalize=True,dropna=False)* 100"
   ]
  },
  {
   "cell_type": "code",
   "execution_count": 33,
   "id": "842d7d2a",
   "metadata": {
    "execution": {
     "iopub.execute_input": "2021-07-15T16:07:41.826490Z",
     "iopub.status.busy": "2021-07-15T16:07:41.825466Z",
     "iopub.status.idle": "2021-07-15T16:07:41.829565Z",
     "shell.execute_reply": "2021-07-15T16:07:41.830032Z",
     "shell.execute_reply.started": "2021-07-15T16:05:37.541253Z"
    },
    "papermill": {
     "duration": 0.118144,
     "end_time": "2021-07-15T16:07:41.830214",
     "exception": false,
     "start_time": "2021-07-15T16:07:41.712070",
     "status": "completed"
    },
    "tags": []
   },
   "outputs": [
    {
     "data": {
      "text/plain": [
       "India                   70.259740\n",
       "Not Specified           26.634199\n",
       "United States            0.746753\n",
       "United Arab Emirates     0.573593\n",
       "Singapore                0.259740\n",
       "Saudi Arabia             0.227273\n",
       "United Kingdom           0.162338\n",
       "Australia                0.140693\n",
       "Qatar                    0.108225\n",
       "Bahrain                  0.075758\n",
       "Hong Kong                0.075758\n",
       "Oman                     0.064935\n",
       "France                   0.064935\n",
       "unknown                  0.054113\n",
       "Nigeria                  0.043290\n",
       "South Africa             0.043290\n",
       "Kuwait                   0.043290\n",
       "Germany                  0.043290\n",
       "Canada                   0.043290\n",
       "Sweden                   0.032468\n",
       "Belgium                  0.021645\n",
       "Italy                    0.021645\n",
       "Netherlands              0.021645\n",
       "Asia/Pacific Region      0.021645\n",
       "Uganda                   0.021645\n",
       "Philippines              0.021645\n",
       "China                    0.021645\n",
       "Ghana                    0.021645\n",
       "Bangladesh               0.021645\n",
       "Denmark                  0.010823\n",
       "Russia                   0.010823\n",
       "Switzerland              0.010823\n",
       "Liberia                  0.010823\n",
       "Tanzania                 0.010823\n",
       "Vietnam                  0.010823\n",
       "Indonesia                0.010823\n",
       "Kenya                    0.010823\n",
       "Malaysia                 0.010823\n",
       "Sri Lanka                0.010823\n",
       "Name: Country, dtype: float64"
      ]
     },
     "execution_count": 33,
     "metadata": {},
     "output_type": "execute_result"
    }
   ],
   "source": [
    "### converting null to not specified\n",
    "leads_df[\"Country\"].replace(np.nan , \"Not Specified\" , inplace=True)\n",
    "leads_df[\"Country\"].value_counts(dropna=False , normalize=True) * 100"
   ]
  },
  {
   "cell_type": "code",
   "execution_count": 34,
   "id": "8800d428",
   "metadata": {
    "execution": {
     "iopub.execute_input": "2021-07-15T16:07:42.040957Z",
     "iopub.status.busy": "2021-07-15T16:07:42.039914Z",
     "iopub.status.idle": "2021-07-15T16:07:42.055430Z",
     "shell.execute_reply": "2021-07-15T16:07:42.055914Z",
     "shell.execute_reply.started": "2021-07-15T16:05:37.563152Z"
    },
    "papermill": {
     "duration": 0.12295,
     "end_time": "2021-07-15T16:07:42.056097",
     "exception": false,
     "start_time": "2021-07-15T16:07:41.933147",
     "status": "completed"
    },
    "tags": []
   },
   "outputs": [
    {
     "data": {
      "text/plain": [
       "India            70.259740\n",
       "Not Specified    26.634199\n",
       "Other             3.106061\n",
       "Name: Country, dtype: float64"
      ]
     },
     "execution_count": 34,
     "metadata": {},
     "output_type": "execute_result"
    }
   ],
   "source": [
    "### mereging below 1% to others\n",
    "to_merge = [\"India\" , \"Not Specified\"]\n",
    "leads_df[\"Country\"] = leads_df[\"Country\"].apply(lambda x: 'Other' if x not in to_merge else x)\n",
    "leads_df[\"Country\"].value_counts(dropna=False , normalize=True) * 100"
   ]
  },
  {
   "cell_type": "code",
   "execution_count": 35,
   "id": "a4610432",
   "metadata": {
    "execution": {
     "iopub.execute_input": "2021-07-15T16:07:42.266448Z",
     "iopub.status.busy": "2021-07-15T16:07:42.265447Z",
     "iopub.status.idle": "2021-07-15T16:07:42.296669Z",
     "shell.execute_reply": "2021-07-15T16:07:42.296033Z",
     "shell.execute_reply.started": "2021-07-15T16:05:37.588332Z"
    },
    "papermill": {
     "duration": 0.137617,
     "end_time": "2021-07-15T16:07:42.296846",
     "exception": false,
     "start_time": "2021-07-15T16:07:42.159229",
     "status": "completed"
    },
    "tags": []
   },
   "outputs": [
    {
     "data": {
      "text/plain": [
       "Series([], dtype: float64)"
      ]
     },
     "execution_count": 35,
     "metadata": {},
     "output_type": "execute_result"
    }
   ],
   "source": [
    "### final check for any null values\n",
    "\n",
    "col_null_check = round((leads_df.isnull().sum() * 100 / leads_df.shape[0]),2).sort_values(ascending=False)\n",
    "col_null_check[col_null_check > 0]"
   ]
  },
  {
   "cell_type": "code",
   "execution_count": 36,
   "id": "3833fd44",
   "metadata": {
    "execution": {
     "iopub.execute_input": "2021-07-15T16:07:42.505892Z",
     "iopub.status.busy": "2021-07-15T16:07:42.504908Z",
     "iopub.status.idle": "2021-07-15T16:07:42.540145Z",
     "shell.execute_reply": "2021-07-15T16:07:42.540651Z",
     "shell.execute_reply.started": "2021-07-15T16:05:37.621341Z"
    },
    "papermill": {
     "duration": 0.139572,
     "end_time": "2021-07-15T16:07:42.540847",
     "exception": false,
     "start_time": "2021-07-15T16:07:42.401275",
     "status": "completed"
    },
    "tags": []
   },
   "outputs": [
    {
     "name": "stdout",
     "output_type": "stream",
     "text": [
      "<class 'pandas.core.frame.DataFrame'>\n",
      "RangeIndex: 9240 entries, 0 to 9239\n",
      "Data columns (total 25 columns):\n",
      " #   Column                                         Non-Null Count  Dtype  \n",
      "---  ------                                         --------------  -----  \n",
      " 0   Lead Origin                                    9240 non-null   object \n",
      " 1   Lead Source                                    9240 non-null   object \n",
      " 2   Do Not Email                                   9240 non-null   object \n",
      " 3   Do Not Call                                    9240 non-null   object \n",
      " 4   Converted                                      9240 non-null   int64  \n",
      " 5   TotalVisits                                    9240 non-null   float64\n",
      " 6   Total Time Spent on Website                    9240 non-null   int64  \n",
      " 7   Page Views Per Visit                           9240 non-null   float64\n",
      " 8   Last Activity                                  9240 non-null   object \n",
      " 9   Country                                        9240 non-null   object \n",
      " 10  What is your current occupation                9240 non-null   object \n",
      " 11  What matters most to you in choosing a course  9240 non-null   object \n",
      " 12  Search                                         9240 non-null   object \n",
      " 13  Magazine                                       9240 non-null   object \n",
      " 14  Newspaper Article                              9240 non-null   object \n",
      " 15  X Education Forums                             9240 non-null   object \n",
      " 16  Newspaper                                      9240 non-null   object \n",
      " 17  Digital Advertisement                          9240 non-null   object \n",
      " 18  Through Recommendations                        9240 non-null   object \n",
      " 19  Receive More Updates About Our Courses         9240 non-null   object \n",
      " 20  Update me on Supply Chain Content              9240 non-null   object \n",
      " 21  Get updates on DM Content                      9240 non-null   object \n",
      " 22  I agree to pay the amount through cheque       9240 non-null   object \n",
      " 23  A free copy of Mastering The Interview         9240 non-null   object \n",
      " 24  Last Notable Activity                          9240 non-null   object \n",
      "dtypes: float64(2), int64(2), object(21)\n",
      "memory usage: 1.8+ MB\n"
     ]
    }
   ],
   "source": [
    "### checking datatype of the columns\n",
    "leads_df.info()"
   ]
  },
  {
   "cell_type": "code",
   "execution_count": 37,
   "id": "6d447490",
   "metadata": {
    "execution": {
     "iopub.execute_input": "2021-07-15T16:07:42.748591Z",
     "iopub.status.busy": "2021-07-15T16:07:42.747520Z",
     "iopub.status.idle": "2021-07-15T16:07:42.849724Z",
     "shell.execute_reply": "2021-07-15T16:07:42.848738Z",
     "shell.execute_reply.started": "2021-07-15T16:05:37.663345Z"
    },
    "papermill": {
     "duration": 0.206492,
     "end_time": "2021-07-15T16:07:42.849933",
     "exception": false,
     "start_time": "2021-07-15T16:07:42.643441",
     "status": "completed"
    },
    "tags": []
   },
   "outputs": [
    {
     "name": "stdout",
     "output_type": "stream",
     "text": [
      "Distinct Values in Column : Lead Origin\n",
      "\n",
      " Landing Page Submission    4886\n",
      "API                        3580\n",
      "Lead Add Form               718\n",
      "Lead Import                  55\n",
      "Quick Add Form                1\n",
      "Name: Lead Origin, dtype: int64\n",
      "************************************\n",
      "\n",
      "\n",
      "Distinct Values in Column : Lead Source\n",
      "\n",
      " Google            2909\n",
      "Direct Traffic    2543\n",
      "Olark Chat        1755\n",
      "Organic Search    1154\n",
      "Others             879\n",
      "Name: Lead Source, dtype: int64\n",
      "************************************\n",
      "\n",
      "\n",
      "Distinct Values in Column : Do Not Email\n",
      "\n",
      " No     8506\n",
      "Yes     734\n",
      "Name: Do Not Email, dtype: int64\n",
      "************************************\n",
      "\n",
      "\n",
      "Distinct Values in Column : Do Not Call\n",
      "\n",
      " No     9238\n",
      "Yes       2\n",
      "Name: Do Not Call, dtype: int64\n",
      "************************************\n",
      "\n",
      "\n",
      "Distinct Values in Column : Converted\n",
      "\n",
      " 0    5679\n",
      "1    3561\n",
      "Name: Converted, dtype: int64\n",
      "************************************\n",
      "\n",
      "\n",
      "Distinct Values in Column : TotalVisits\n",
      "\n",
      " 0.0      2189\n",
      "2.0      1680\n",
      "3.0      1443\n",
      "4.0      1120\n",
      "5.0       783\n",
      "6.0       466\n",
      "1.0       395\n",
      "7.0       309\n",
      "8.0       224\n",
      "9.0       164\n",
      "10.0      114\n",
      "11.0       86\n",
      "13.0       48\n",
      "12.0       45\n",
      "14.0       36\n",
      "16.0       21\n",
      "15.0       18\n",
      "17.0       16\n",
      "18.0       15\n",
      "20.0       12\n",
      "19.0        9\n",
      "21.0        6\n",
      "23.0        6\n",
      "25.0        5\n",
      "24.0        5\n",
      "27.0        5\n",
      "22.0        3\n",
      "28.0        2\n",
      "29.0        2\n",
      "26.0        2\n",
      "115.0       1\n",
      "41.0        1\n",
      "55.0        1\n",
      "251.0       1\n",
      "141.0       1\n",
      "32.0        1\n",
      "42.0        1\n",
      "74.0        1\n",
      "43.0        1\n",
      "30.0        1\n",
      "54.0        1\n",
      "Name: TotalVisits, dtype: int64\n",
      "************************************\n",
      "\n",
      "\n",
      "Distinct Values in Column : Total Time Spent on Website\n",
      "\n",
      " 0       2193\n",
      "60        19\n",
      "127       18\n",
      "75        18\n",
      "74        18\n",
      "        ... \n",
      "620        1\n",
      "628        1\n",
      "684        1\n",
      "724        1\n",
      "1975       1\n",
      "Name: Total Time Spent on Website, Length: 1731, dtype: int64\n",
      "************************************\n",
      "\n",
      "\n",
      "Distinct Values in Column : Page Views Per Visit\n",
      "\n",
      " 0.00    2189\n",
      "2.00    1932\n",
      "3.00    1196\n",
      "4.00     896\n",
      "1.00     651\n",
      "        ... \n",
      "2.13       1\n",
      "4.40       1\n",
      "6.67       1\n",
      "8.33       1\n",
      "2.45       1\n",
      "Name: Page Views Per Visit, Length: 114, dtype: int64\n",
      "************************************\n",
      "\n",
      "\n",
      "Distinct Values in Column : Last Activity\n",
      "\n",
      " Email Opened               3540\n",
      "SMS Sent                   2745\n",
      "Others                     1982\n",
      "Olark Chat Conversation     973\n",
      "Name: Last Activity, dtype: int64\n",
      "************************************\n",
      "\n",
      "\n",
      "Distinct Values in Column : Country\n",
      "\n",
      " India            6492\n",
      "Not Specified    2461\n",
      "Other             287\n",
      "Name: Country, dtype: int64\n",
      "************************************\n",
      "\n",
      "\n",
      "Distinct Values in Column : What is your current occupation\n",
      "\n",
      " Unemployed              5600\n",
      "Not Specified           2690\n",
      "Working Professional     706\n",
      "Other                    244\n",
      "Name: What is your current occupation, dtype: int64\n",
      "************************************\n",
      "\n",
      "\n",
      "Distinct Values in Column : What matters most to you in choosing a course\n",
      "\n",
      " Better Career Prospects    6528\n",
      "Not Specified              2709\n",
      "Other                         3\n",
      "Name: What matters most to you in choosing a course, dtype: int64\n",
      "************************************\n",
      "\n",
      "\n",
      "Distinct Values in Column : Search\n",
      "\n",
      " No     9226\n",
      "Yes      14\n",
      "Name: Search, dtype: int64\n",
      "************************************\n",
      "\n",
      "\n",
      "Distinct Values in Column : Magazine\n",
      "\n",
      " No    9240\n",
      "Name: Magazine, dtype: int64\n",
      "************************************\n",
      "\n",
      "\n",
      "Distinct Values in Column : Newspaper Article\n",
      "\n",
      " No     9238\n",
      "Yes       2\n",
      "Name: Newspaper Article, dtype: int64\n",
      "************************************\n",
      "\n",
      "\n",
      "Distinct Values in Column : X Education Forums\n",
      "\n",
      " No     9239\n",
      "Yes       1\n",
      "Name: X Education Forums, dtype: int64\n",
      "************************************\n",
      "\n",
      "\n",
      "Distinct Values in Column : Newspaper\n",
      "\n",
      " No     9239\n",
      "Yes       1\n",
      "Name: Newspaper, dtype: int64\n",
      "************************************\n",
      "\n",
      "\n",
      "Distinct Values in Column : Digital Advertisement\n",
      "\n",
      " No     9236\n",
      "Yes       4\n",
      "Name: Digital Advertisement, dtype: int64\n",
      "************************************\n",
      "\n",
      "\n",
      "Distinct Values in Column : Through Recommendations\n",
      "\n",
      " No     9233\n",
      "Yes       7\n",
      "Name: Through Recommendations, dtype: int64\n",
      "************************************\n",
      "\n",
      "\n",
      "Distinct Values in Column : Receive More Updates About Our Courses\n",
      "\n",
      " No    9240\n",
      "Name: Receive More Updates About Our Courses, dtype: int64\n",
      "************************************\n",
      "\n",
      "\n",
      "Distinct Values in Column : Update me on Supply Chain Content\n",
      "\n",
      " No    9240\n",
      "Name: Update me on Supply Chain Content, dtype: int64\n",
      "************************************\n",
      "\n",
      "\n",
      "Distinct Values in Column : Get updates on DM Content\n",
      "\n",
      " No    9240\n",
      "Name: Get updates on DM Content, dtype: int64\n",
      "************************************\n",
      "\n",
      "\n",
      "Distinct Values in Column : I agree to pay the amount through cheque\n",
      "\n",
      " No    9240\n",
      "Name: I agree to pay the amount through cheque, dtype: int64\n",
      "************************************\n",
      "\n",
      "\n",
      "Distinct Values in Column : A free copy of Mastering The Interview\n",
      "\n",
      " No     6352\n",
      "Yes    2888\n",
      "Name: A free copy of Mastering The Interview, dtype: int64\n",
      "************************************\n",
      "\n",
      "\n",
      "Distinct Values in Column : Last Notable Activity\n",
      "\n",
      " Modified                        3407\n",
      "Email Opened                    2827\n",
      "SMS Sent                        2172\n",
      "Page Visited on Website          318\n",
      "Olark Chat Conversation          183\n",
      "Email Link Clicked               173\n",
      "Email Bounced                     60\n",
      "Unsubscribed                      47\n",
      "Unreachable                       32\n",
      "Had a Phone Conversation          14\n",
      "Email Marked Spam                  2\n",
      "Email Received                     1\n",
      "View in browser link Clicked       1\n",
      "Resubscribed to emails             1\n",
      "Approached upfront                 1\n",
      "Form Submitted on Website          1\n",
      "Name: Last Notable Activity, dtype: int64\n",
      "************************************\n",
      "\n",
      "\n"
     ]
    }
   ],
   "source": [
    "### checking distinct values in columns\n",
    "\n",
    "for cols in leads_df.columns:\n",
    "    print(\"Distinct Values in Column :\" , cols)\n",
    "    print(\"\\n\",leads_df[cols].value_counts())\n",
    "    print(\"************************************\\n\\n\")\n",
    "    "
   ]
  },
  {
   "cell_type": "code",
   "execution_count": 38,
   "id": "b0d9763f",
   "metadata": {
    "execution": {
     "iopub.execute_input": "2021-07-15T16:07:43.078445Z",
     "iopub.status.busy": "2021-07-15T16:07:43.077027Z",
     "iopub.status.idle": "2021-07-15T16:07:43.081443Z",
     "shell.execute_reply": "2021-07-15T16:07:43.080851Z",
     "shell.execute_reply.started": "2021-07-15T16:05:37.778470Z"
    },
    "papermill": {
     "duration": 0.117764,
     "end_time": "2021-07-15T16:07:43.081591",
     "exception": false,
     "start_time": "2021-07-15T16:07:42.963827",
     "status": "completed"
    },
    "tags": []
   },
   "outputs": [],
   "source": [
    "### removing columns where we have only NO values or very very low Yes. As these won't impact model\n",
    "cols = [\"Search\",\"Through Recommendations\",\"Digital Advertisement\",\"Do Not Call\" ,\"Magazine\",\"Newspaper Article\",\"X Education Forums\",\"Newspaper\", \"Receive More Updates About Our Courses\",\"Update me on Supply Chain Content\",\"Get updates on DM Content\",\"I agree to pay the amount through cheque\"]\n",
    "\n",
    "leads_df.drop(columns=cols,inplace=True)"
   ]
  },
  {
   "cell_type": "code",
   "execution_count": 39,
   "id": "b42cb302",
   "metadata": {
    "execution": {
     "iopub.execute_input": "2021-07-15T16:07:43.298819Z",
     "iopub.status.busy": "2021-07-15T16:07:43.298046Z",
     "iopub.status.idle": "2021-07-15T16:07:43.301883Z",
     "shell.execute_reply": "2021-07-15T16:07:43.301166Z",
     "shell.execute_reply.started": "2021-07-15T16:05:37.788910Z"
    },
    "papermill": {
     "duration": 0.117572,
     "end_time": "2021-07-15T16:07:43.302026",
     "exception": false,
     "start_time": "2021-07-15T16:07:43.184454",
     "status": "completed"
    },
    "tags": []
   },
   "outputs": [
    {
     "data": {
      "text/plain": [
       "Modified                        36.872294\n",
       "Email Opened                    30.595238\n",
       "SMS Sent                        23.506494\n",
       "Page Visited on Website          3.441558\n",
       "Olark Chat Conversation          1.980519\n",
       "Email Link Clicked               1.872294\n",
       "Email Bounced                    0.649351\n",
       "Unsubscribed                     0.508658\n",
       "Unreachable                      0.346320\n",
       "Had a Phone Conversation         0.151515\n",
       "Email Marked Spam                0.021645\n",
       "Email Received                   0.010823\n",
       "View in browser link Clicked     0.010823\n",
       "Resubscribed to emails           0.010823\n",
       "Approached upfront               0.010823\n",
       "Form Submitted on Website        0.010823\n",
       "Name: Last Notable Activity, dtype: float64"
      ]
     },
     "execution_count": 39,
     "metadata": {},
     "output_type": "execute_result"
    }
   ],
   "source": [
    "### checking % values in Last Notable Activity\n",
    "leads_df[\"Last Notable Activity\"].value_counts(dropna=False , normalize=True) * 100"
   ]
  },
  {
   "cell_type": "code",
   "execution_count": 40,
   "id": "2b495958",
   "metadata": {
    "execution": {
     "iopub.execute_input": "2021-07-15T16:07:43.527887Z",
     "iopub.status.busy": "2021-07-15T16:07:43.526748Z",
     "iopub.status.idle": "2021-07-15T16:07:46.136510Z",
     "shell.execute_reply": "2021-07-15T16:07:46.135754Z",
     "shell.execute_reply.started": "2021-07-15T16:05:37.808074Z"
    },
    "papermill": {
     "duration": 2.729373,
     "end_time": "2021-07-15T16:07:46.136677",
     "exception": false,
     "start_time": "2021-07-15T16:07:43.407304",
     "status": "completed"
    },
    "tags": []
   },
   "outputs": [
    {
     "data": {
      "text/plain": [
       "Modified        36.872294\n",
       "Email Opened    30.595238\n",
       "SMS Sent        23.506494\n",
       "Other            9.025974\n",
       "Name: Last Notable Activity, dtype: float64"
      ]
     },
     "execution_count": 40,
     "metadata": {},
     "output_type": "execute_result"
    }
   ],
   "source": [
    "### Last Notable Activity column to merge\n",
    "to_merge = leads_df[\"Last Notable Activity\"].value_counts(normalize=True,dropna=False)* 100\n",
    "\n",
    "### mereging below 10% to other\n",
    "leads_df[\"Last Notable Activity\"] = leads_df[\"Last Notable Activity\"].apply(lambda x: 'Other' if x in to_merge[to_merge < 10].index else x)\n",
    "leads_df[\"Last Notable Activity\"].value_counts(normalize=True,dropna=False)* 100"
   ]
  },
  {
   "cell_type": "code",
   "execution_count": 41,
   "id": "b30f002e",
   "metadata": {
    "execution": {
     "iopub.execute_input": "2021-07-15T16:07:46.396627Z",
     "iopub.status.busy": "2021-07-15T16:07:46.395675Z",
     "iopub.status.idle": "2021-07-15T16:07:46.400739Z",
     "shell.execute_reply": "2021-07-15T16:07:46.399839Z",
     "shell.execute_reply.started": "2021-07-15T16:05:40.569710Z"
    },
    "papermill": {
     "duration": 0.136963,
     "end_time": "2021-07-15T16:07:46.400902",
     "exception": false,
     "start_time": "2021-07-15T16:07:46.263939",
     "status": "completed"
    },
    "tags": []
   },
   "outputs": [
    {
     "data": {
      "text/html": [
       "<div>\n",
       "<style scoped>\n",
       "    .dataframe tbody tr th:only-of-type {\n",
       "        vertical-align: middle;\n",
       "    }\n",
       "\n",
       "    .dataframe tbody tr th {\n",
       "        vertical-align: top;\n",
       "    }\n",
       "\n",
       "    .dataframe thead th {\n",
       "        text-align: right;\n",
       "    }\n",
       "</style>\n",
       "<table border=\"1\" class=\"dataframe\">\n",
       "  <thead>\n",
       "    <tr style=\"text-align: right;\">\n",
       "      <th></th>\n",
       "      <th>Lead Origin</th>\n",
       "      <th>Lead Source</th>\n",
       "      <th>Do Not Email</th>\n",
       "      <th>Converted</th>\n",
       "      <th>TotalVisits</th>\n",
       "      <th>Total Time Spent on Website</th>\n",
       "      <th>Page Views Per Visit</th>\n",
       "      <th>Last Activity</th>\n",
       "      <th>Country</th>\n",
       "      <th>What is your current occupation</th>\n",
       "      <th>What matters most to you in choosing a course</th>\n",
       "      <th>A free copy of Mastering The Interview</th>\n",
       "      <th>Last Notable Activity</th>\n",
       "    </tr>\n",
       "  </thead>\n",
       "  <tbody>\n",
       "    <tr>\n",
       "      <th>0</th>\n",
       "      <td>API</td>\n",
       "      <td>Olark Chat</td>\n",
       "      <td>No</td>\n",
       "      <td>0</td>\n",
       "      <td>0.0</td>\n",
       "      <td>0</td>\n",
       "      <td>0.0</td>\n",
       "      <td>Others</td>\n",
       "      <td>Not Specified</td>\n",
       "      <td>Unemployed</td>\n",
       "      <td>Better Career Prospects</td>\n",
       "      <td>No</td>\n",
       "      <td>Modified</td>\n",
       "    </tr>\n",
       "    <tr>\n",
       "      <th>1</th>\n",
       "      <td>API</td>\n",
       "      <td>Organic Search</td>\n",
       "      <td>No</td>\n",
       "      <td>0</td>\n",
       "      <td>5.0</td>\n",
       "      <td>674</td>\n",
       "      <td>2.5</td>\n",
       "      <td>Email Opened</td>\n",
       "      <td>India</td>\n",
       "      <td>Unemployed</td>\n",
       "      <td>Better Career Prospects</td>\n",
       "      <td>No</td>\n",
       "      <td>Email Opened</td>\n",
       "    </tr>\n",
       "    <tr>\n",
       "      <th>2</th>\n",
       "      <td>Landing Page Submission</td>\n",
       "      <td>Direct Traffic</td>\n",
       "      <td>No</td>\n",
       "      <td>1</td>\n",
       "      <td>2.0</td>\n",
       "      <td>1532</td>\n",
       "      <td>2.0</td>\n",
       "      <td>Email Opened</td>\n",
       "      <td>India</td>\n",
       "      <td>Other</td>\n",
       "      <td>Better Career Prospects</td>\n",
       "      <td>Yes</td>\n",
       "      <td>Email Opened</td>\n",
       "    </tr>\n",
       "    <tr>\n",
       "      <th>3</th>\n",
       "      <td>Landing Page Submission</td>\n",
       "      <td>Direct Traffic</td>\n",
       "      <td>No</td>\n",
       "      <td>0</td>\n",
       "      <td>1.0</td>\n",
       "      <td>305</td>\n",
       "      <td>1.0</td>\n",
       "      <td>Others</td>\n",
       "      <td>India</td>\n",
       "      <td>Unemployed</td>\n",
       "      <td>Better Career Prospects</td>\n",
       "      <td>No</td>\n",
       "      <td>Modified</td>\n",
       "    </tr>\n",
       "    <tr>\n",
       "      <th>4</th>\n",
       "      <td>Landing Page Submission</td>\n",
       "      <td>Google</td>\n",
       "      <td>No</td>\n",
       "      <td>1</td>\n",
       "      <td>2.0</td>\n",
       "      <td>1428</td>\n",
       "      <td>1.0</td>\n",
       "      <td>Others</td>\n",
       "      <td>India</td>\n",
       "      <td>Unemployed</td>\n",
       "      <td>Better Career Prospects</td>\n",
       "      <td>No</td>\n",
       "      <td>Modified</td>\n",
       "    </tr>\n",
       "  </tbody>\n",
       "</table>\n",
       "</div>"
      ],
      "text/plain": [
       "               Lead Origin     Lead Source Do Not Email  Converted  \\\n",
       "0                      API      Olark Chat           No          0   \n",
       "1                      API  Organic Search           No          0   \n",
       "2  Landing Page Submission  Direct Traffic           No          1   \n",
       "3  Landing Page Submission  Direct Traffic           No          0   \n",
       "4  Landing Page Submission          Google           No          1   \n",
       "\n",
       "   TotalVisits  Total Time Spent on Website  Page Views Per Visit  \\\n",
       "0          0.0                            0                   0.0   \n",
       "1          5.0                          674                   2.5   \n",
       "2          2.0                         1532                   2.0   \n",
       "3          1.0                          305                   1.0   \n",
       "4          2.0                         1428                   1.0   \n",
       "\n",
       "  Last Activity        Country What is your current occupation  \\\n",
       "0        Others  Not Specified                      Unemployed   \n",
       "1  Email Opened          India                      Unemployed   \n",
       "2  Email Opened          India                           Other   \n",
       "3        Others          India                      Unemployed   \n",
       "4        Others          India                      Unemployed   \n",
       "\n",
       "  What matters most to you in choosing a course  \\\n",
       "0                       Better Career Prospects   \n",
       "1                       Better Career Prospects   \n",
       "2                       Better Career Prospects   \n",
       "3                       Better Career Prospects   \n",
       "4                       Better Career Prospects   \n",
       "\n",
       "  A free copy of Mastering The Interview Last Notable Activity  \n",
       "0                                     No              Modified  \n",
       "1                                     No          Email Opened  \n",
       "2                                    Yes          Email Opened  \n",
       "3                                     No              Modified  \n",
       "4                                     No              Modified  "
      ]
     },
     "execution_count": 41,
     "metadata": {},
     "output_type": "execute_result"
    }
   ],
   "source": [
    "### checking final list of columns\n",
    "leads_df.head()"
   ]
  },
  {
   "cell_type": "markdown",
   "id": "680014e6",
   "metadata": {
    "papermill": {
     "duration": 0.104315,
     "end_time": "2021-07-15T16:07:46.610740",
     "exception": false,
     "start_time": "2021-07-15T16:07:46.506425",
     "status": "completed"
    },
    "tags": []
   },
   "source": [
    "<br>\n",
    "<br>"
   ]
  },
  {
   "cell_type": "markdown",
   "id": "679d2a71",
   "metadata": {
    "papermill": {
     "duration": 0.104116,
     "end_time": "2021-07-15T16:07:46.820164",
     "exception": false,
     "start_time": "2021-07-15T16:07:46.716048",
     "status": "completed"
    },
    "tags": []
   },
   "source": [
    "## <font color=\"blue\">Converting categorical column data for ML Model preparation </font>"
   ]
  },
  {
   "cell_type": "code",
   "execution_count": 42,
   "id": "a29feea7",
   "metadata": {
    "execution": {
     "iopub.execute_input": "2021-07-15T16:07:47.052753Z",
     "iopub.status.busy": "2021-07-15T16:07:47.049792Z",
     "iopub.status.idle": "2021-07-15T16:07:47.084694Z",
     "shell.execute_reply": "2021-07-15T16:07:47.084134Z",
     "shell.execute_reply.started": "2021-07-15T16:05:40.597477Z"
    },
    "papermill": {
     "duration": 0.156698,
     "end_time": "2021-07-15T16:07:47.084848",
     "exception": false,
     "start_time": "2021-07-15T16:07:46.928150",
     "status": "completed"
    },
    "tags": []
   },
   "outputs": [
    {
     "data": {
      "text/html": [
       "<div>\n",
       "<style scoped>\n",
       "    .dataframe tbody tr th:only-of-type {\n",
       "        vertical-align: middle;\n",
       "    }\n",
       "\n",
       "    .dataframe tbody tr th {\n",
       "        vertical-align: top;\n",
       "    }\n",
       "\n",
       "    .dataframe thead th {\n",
       "        text-align: right;\n",
       "    }\n",
       "</style>\n",
       "<table border=\"1\" class=\"dataframe\">\n",
       "  <thead>\n",
       "    <tr style=\"text-align: right;\">\n",
       "      <th></th>\n",
       "      <th>Lead Origin</th>\n",
       "      <th>Lead Source</th>\n",
       "      <th>Do Not Email</th>\n",
       "      <th>Converted</th>\n",
       "      <th>TotalVisits</th>\n",
       "      <th>Total Time Spent on Website</th>\n",
       "      <th>Page Views Per Visit</th>\n",
       "      <th>Last Activity</th>\n",
       "      <th>Country</th>\n",
       "      <th>What is your current occupation</th>\n",
       "      <th>What matters most to you in choosing a course</th>\n",
       "      <th>A free copy of Mastering The Interview</th>\n",
       "      <th>Last Notable Activity</th>\n",
       "    </tr>\n",
       "  </thead>\n",
       "  <tbody>\n",
       "    <tr>\n",
       "      <th>0</th>\n",
       "      <td>API</td>\n",
       "      <td>Olark Chat</td>\n",
       "      <td>0</td>\n",
       "      <td>0</td>\n",
       "      <td>0.0</td>\n",
       "      <td>0</td>\n",
       "      <td>0.0</td>\n",
       "      <td>Others</td>\n",
       "      <td>Not Specified</td>\n",
       "      <td>Unemployed</td>\n",
       "      <td>Better Career Prospects</td>\n",
       "      <td>0</td>\n",
       "      <td>Modified</td>\n",
       "    </tr>\n",
       "    <tr>\n",
       "      <th>1</th>\n",
       "      <td>API</td>\n",
       "      <td>Organic Search</td>\n",
       "      <td>0</td>\n",
       "      <td>0</td>\n",
       "      <td>5.0</td>\n",
       "      <td>674</td>\n",
       "      <td>2.5</td>\n",
       "      <td>Email Opened</td>\n",
       "      <td>India</td>\n",
       "      <td>Unemployed</td>\n",
       "      <td>Better Career Prospects</td>\n",
       "      <td>0</td>\n",
       "      <td>Email Opened</td>\n",
       "    </tr>\n",
       "    <tr>\n",
       "      <th>2</th>\n",
       "      <td>Landing Page Submission</td>\n",
       "      <td>Direct Traffic</td>\n",
       "      <td>0</td>\n",
       "      <td>1</td>\n",
       "      <td>2.0</td>\n",
       "      <td>1532</td>\n",
       "      <td>2.0</td>\n",
       "      <td>Email Opened</td>\n",
       "      <td>India</td>\n",
       "      <td>Other</td>\n",
       "      <td>Better Career Prospects</td>\n",
       "      <td>1</td>\n",
       "      <td>Email Opened</td>\n",
       "    </tr>\n",
       "    <tr>\n",
       "      <th>3</th>\n",
       "      <td>Landing Page Submission</td>\n",
       "      <td>Direct Traffic</td>\n",
       "      <td>0</td>\n",
       "      <td>0</td>\n",
       "      <td>1.0</td>\n",
       "      <td>305</td>\n",
       "      <td>1.0</td>\n",
       "      <td>Others</td>\n",
       "      <td>India</td>\n",
       "      <td>Unemployed</td>\n",
       "      <td>Better Career Prospects</td>\n",
       "      <td>0</td>\n",
       "      <td>Modified</td>\n",
       "    </tr>\n",
       "    <tr>\n",
       "      <th>4</th>\n",
       "      <td>Landing Page Submission</td>\n",
       "      <td>Google</td>\n",
       "      <td>0</td>\n",
       "      <td>1</td>\n",
       "      <td>2.0</td>\n",
       "      <td>1428</td>\n",
       "      <td>1.0</td>\n",
       "      <td>Others</td>\n",
       "      <td>India</td>\n",
       "      <td>Unemployed</td>\n",
       "      <td>Better Career Prospects</td>\n",
       "      <td>0</td>\n",
       "      <td>Modified</td>\n",
       "    </tr>\n",
       "  </tbody>\n",
       "</table>\n",
       "</div>"
      ],
      "text/plain": [
       "               Lead Origin     Lead Source  Do Not Email  Converted  \\\n",
       "0                      API      Olark Chat             0          0   \n",
       "1                      API  Organic Search             0          0   \n",
       "2  Landing Page Submission  Direct Traffic             0          1   \n",
       "3  Landing Page Submission  Direct Traffic             0          0   \n",
       "4  Landing Page Submission          Google             0          1   \n",
       "\n",
       "   TotalVisits  Total Time Spent on Website  Page Views Per Visit  \\\n",
       "0          0.0                            0                   0.0   \n",
       "1          5.0                          674                   2.5   \n",
       "2          2.0                         1532                   2.0   \n",
       "3          1.0                          305                   1.0   \n",
       "4          2.0                         1428                   1.0   \n",
       "\n",
       "  Last Activity        Country What is your current occupation  \\\n",
       "0        Others  Not Specified                      Unemployed   \n",
       "1  Email Opened          India                      Unemployed   \n",
       "2  Email Opened          India                           Other   \n",
       "3        Others          India                      Unemployed   \n",
       "4        Others          India                      Unemployed   \n",
       "\n",
       "  What matters most to you in choosing a course  \\\n",
       "0                       Better Career Prospects   \n",
       "1                       Better Career Prospects   \n",
       "2                       Better Career Prospects   \n",
       "3                       Better Career Prospects   \n",
       "4                       Better Career Prospects   \n",
       "\n",
       "   A free copy of Mastering The Interview Last Notable Activity  \n",
       "0                                       0              Modified  \n",
       "1                                       0          Email Opened  \n",
       "2                                       1          Email Opened  \n",
       "3                                       0              Modified  \n",
       "4                                       0              Modified  "
      ]
     },
     "execution_count": 42,
     "metadata": {},
     "output_type": "execute_result"
    }
   ],
   "source": [
    "### converting all \"Yes\" to 1 and \"No\" to 0\n",
    "\n",
    "cols = [\"Do Not Email\",\"A free copy of Mastering The Interview\"]\n",
    "\n",
    "leads_df[cols] = leads_df[cols].replace({\"Yes\":1,\"No\":0,\"yes\":1,\"no\":0})\n",
    "\n",
    "### cnverting binary columns to int from object\n",
    "leads_df[cols] = leads_df[cols].astype(\"int\")\n",
    "\n",
    "leads_df.head()\n"
   ]
  },
  {
   "cell_type": "code",
   "execution_count": 43,
   "id": "00cfc3a2",
   "metadata": {
    "execution": {
     "iopub.execute_input": "2021-07-15T16:07:47.308224Z",
     "iopub.status.busy": "2021-07-15T16:07:47.307548Z",
     "iopub.status.idle": "2021-07-15T16:07:47.319913Z",
     "shell.execute_reply": "2021-07-15T16:07:47.320542Z",
     "shell.execute_reply.started": "2021-07-15T16:05:40.642656Z"
    },
    "papermill": {
     "duration": 0.130482,
     "end_time": "2021-07-15T16:07:47.320725",
     "exception": false,
     "start_time": "2021-07-15T16:07:47.190243",
     "status": "completed"
    },
    "tags": []
   },
   "outputs": [
    {
     "name": "stdout",
     "output_type": "stream",
     "text": [
      "<class 'pandas.core.frame.DataFrame'>\n",
      "RangeIndex: 9240 entries, 0 to 9239\n",
      "Data columns (total 13 columns):\n",
      " #   Column                                         Non-Null Count  Dtype  \n",
      "---  ------                                         --------------  -----  \n",
      " 0   Lead Origin                                    9240 non-null   object \n",
      " 1   Lead Source                                    9240 non-null   object \n",
      " 2   Do Not Email                                   9240 non-null   int64  \n",
      " 3   Converted                                      9240 non-null   int64  \n",
      " 4   TotalVisits                                    9240 non-null   float64\n",
      " 5   Total Time Spent on Website                    9240 non-null   int64  \n",
      " 6   Page Views Per Visit                           9240 non-null   float64\n",
      " 7   Last Activity                                  9240 non-null   object \n",
      " 8   Country                                        9240 non-null   object \n",
      " 9   What is your current occupation                9240 non-null   object \n",
      " 10  What matters most to you in choosing a course  9240 non-null   object \n",
      " 11  A free copy of Mastering The Interview         9240 non-null   int64  \n",
      " 12  Last Notable Activity                          9240 non-null   object \n",
      "dtypes: float64(2), int64(4), object(7)\n",
      "memory usage: 938.6+ KB\n"
     ]
    }
   ],
   "source": [
    "leads_df.info()"
   ]
  },
  {
   "cell_type": "code",
   "execution_count": 44,
   "id": "d1c4c869",
   "metadata": {
    "execution": {
     "iopub.execute_input": "2021-07-15T16:07:47.539180Z",
     "iopub.status.busy": "2021-07-15T16:07:47.534164Z",
     "iopub.status.idle": "2021-07-15T16:07:47.582177Z",
     "shell.execute_reply": "2021-07-15T16:07:47.581633Z",
     "shell.execute_reply.started": "2021-07-15T16:05:40.671641Z"
    },
    "papermill": {
     "duration": 0.158225,
     "end_time": "2021-07-15T16:07:47.582324",
     "exception": false,
     "start_time": "2021-07-15T16:07:47.424099",
     "status": "completed"
    },
    "tags": []
   },
   "outputs": [
    {
     "data": {
      "text/html": [
       "<div>\n",
       "<style scoped>\n",
       "    .dataframe tbody tr th:only-of-type {\n",
       "        vertical-align: middle;\n",
       "    }\n",
       "\n",
       "    .dataframe tbody tr th {\n",
       "        vertical-align: top;\n",
       "    }\n",
       "\n",
       "    .dataframe thead th {\n",
       "        text-align: right;\n",
       "    }\n",
       "</style>\n",
       "<table border=\"1\" class=\"dataframe\">\n",
       "  <thead>\n",
       "    <tr style=\"text-align: right;\">\n",
       "      <th></th>\n",
       "      <th>Do Not Email</th>\n",
       "      <th>Converted</th>\n",
       "      <th>TotalVisits</th>\n",
       "      <th>Total Time Spent on Website</th>\n",
       "      <th>Page Views Per Visit</th>\n",
       "      <th>A free copy of Mastering The Interview</th>\n",
       "      <th>What matters most to you in choosing a course_Not Specified</th>\n",
       "      <th>What matters most to you in choosing a course_Other</th>\n",
       "      <th>Country_Not Specified</th>\n",
       "      <th>Country_Other</th>\n",
       "      <th>What is your current occupation_Other</th>\n",
       "      <th>What is your current occupation_Unemployed</th>\n",
       "      <th>What is your current occupation_Working Professional</th>\n",
       "      <th>Lead Origin_Landing Page Submission</th>\n",
       "      <th>Lead Origin_Lead Add Form</th>\n",
       "      <th>Lead Origin_Lead Import</th>\n",
       "      <th>Lead Origin_Quick Add Form</th>\n",
       "      <th>Lead Source_Google</th>\n",
       "      <th>Lead Source_Olark Chat</th>\n",
       "      <th>Lead Source_Organic Search</th>\n",
       "      <th>Lead Source_Others</th>\n",
       "      <th>Last Activity_Olark Chat Conversation</th>\n",
       "      <th>Last Activity_Others</th>\n",
       "      <th>Last Activity_SMS Sent</th>\n",
       "      <th>Last Notable Activity_Modified</th>\n",
       "      <th>Last Notable Activity_Other</th>\n",
       "      <th>Last Notable Activity_SMS Sent</th>\n",
       "    </tr>\n",
       "  </thead>\n",
       "  <tbody>\n",
       "    <tr>\n",
       "      <th>0</th>\n",
       "      <td>0</td>\n",
       "      <td>0</td>\n",
       "      <td>0.0</td>\n",
       "      <td>0</td>\n",
       "      <td>0.0</td>\n",
       "      <td>0</td>\n",
       "      <td>0</td>\n",
       "      <td>0</td>\n",
       "      <td>1</td>\n",
       "      <td>0</td>\n",
       "      <td>0</td>\n",
       "      <td>1</td>\n",
       "      <td>0</td>\n",
       "      <td>0</td>\n",
       "      <td>0</td>\n",
       "      <td>0</td>\n",
       "      <td>0</td>\n",
       "      <td>0</td>\n",
       "      <td>1</td>\n",
       "      <td>0</td>\n",
       "      <td>0</td>\n",
       "      <td>0</td>\n",
       "      <td>1</td>\n",
       "      <td>0</td>\n",
       "      <td>1</td>\n",
       "      <td>0</td>\n",
       "      <td>0</td>\n",
       "    </tr>\n",
       "    <tr>\n",
       "      <th>1</th>\n",
       "      <td>0</td>\n",
       "      <td>0</td>\n",
       "      <td>5.0</td>\n",
       "      <td>674</td>\n",
       "      <td>2.5</td>\n",
       "      <td>0</td>\n",
       "      <td>0</td>\n",
       "      <td>0</td>\n",
       "      <td>0</td>\n",
       "      <td>0</td>\n",
       "      <td>0</td>\n",
       "      <td>1</td>\n",
       "      <td>0</td>\n",
       "      <td>0</td>\n",
       "      <td>0</td>\n",
       "      <td>0</td>\n",
       "      <td>0</td>\n",
       "      <td>0</td>\n",
       "      <td>0</td>\n",
       "      <td>1</td>\n",
       "      <td>0</td>\n",
       "      <td>0</td>\n",
       "      <td>0</td>\n",
       "      <td>0</td>\n",
       "      <td>0</td>\n",
       "      <td>0</td>\n",
       "      <td>0</td>\n",
       "    </tr>\n",
       "    <tr>\n",
       "      <th>2</th>\n",
       "      <td>0</td>\n",
       "      <td>1</td>\n",
       "      <td>2.0</td>\n",
       "      <td>1532</td>\n",
       "      <td>2.0</td>\n",
       "      <td>1</td>\n",
       "      <td>0</td>\n",
       "      <td>0</td>\n",
       "      <td>0</td>\n",
       "      <td>0</td>\n",
       "      <td>1</td>\n",
       "      <td>0</td>\n",
       "      <td>0</td>\n",
       "      <td>1</td>\n",
       "      <td>0</td>\n",
       "      <td>0</td>\n",
       "      <td>0</td>\n",
       "      <td>0</td>\n",
       "      <td>0</td>\n",
       "      <td>0</td>\n",
       "      <td>0</td>\n",
       "      <td>0</td>\n",
       "      <td>0</td>\n",
       "      <td>0</td>\n",
       "      <td>0</td>\n",
       "      <td>0</td>\n",
       "      <td>0</td>\n",
       "    </tr>\n",
       "    <tr>\n",
       "      <th>3</th>\n",
       "      <td>0</td>\n",
       "      <td>0</td>\n",
       "      <td>1.0</td>\n",
       "      <td>305</td>\n",
       "      <td>1.0</td>\n",
       "      <td>0</td>\n",
       "      <td>0</td>\n",
       "      <td>0</td>\n",
       "      <td>0</td>\n",
       "      <td>0</td>\n",
       "      <td>0</td>\n",
       "      <td>1</td>\n",
       "      <td>0</td>\n",
       "      <td>1</td>\n",
       "      <td>0</td>\n",
       "      <td>0</td>\n",
       "      <td>0</td>\n",
       "      <td>0</td>\n",
       "      <td>0</td>\n",
       "      <td>0</td>\n",
       "      <td>0</td>\n",
       "      <td>0</td>\n",
       "      <td>1</td>\n",
       "      <td>0</td>\n",
       "      <td>1</td>\n",
       "      <td>0</td>\n",
       "      <td>0</td>\n",
       "    </tr>\n",
       "    <tr>\n",
       "      <th>4</th>\n",
       "      <td>0</td>\n",
       "      <td>1</td>\n",
       "      <td>2.0</td>\n",
       "      <td>1428</td>\n",
       "      <td>1.0</td>\n",
       "      <td>0</td>\n",
       "      <td>0</td>\n",
       "      <td>0</td>\n",
       "      <td>0</td>\n",
       "      <td>0</td>\n",
       "      <td>0</td>\n",
       "      <td>1</td>\n",
       "      <td>0</td>\n",
       "      <td>1</td>\n",
       "      <td>0</td>\n",
       "      <td>0</td>\n",
       "      <td>0</td>\n",
       "      <td>1</td>\n",
       "      <td>0</td>\n",
       "      <td>0</td>\n",
       "      <td>0</td>\n",
       "      <td>0</td>\n",
       "      <td>1</td>\n",
       "      <td>0</td>\n",
       "      <td>1</td>\n",
       "      <td>0</td>\n",
       "      <td>0</td>\n",
       "    </tr>\n",
       "  </tbody>\n",
       "</table>\n",
       "</div>"
      ],
      "text/plain": [
       "   Do Not Email  Converted  TotalVisits  Total Time Spent on Website  \\\n",
       "0             0          0          0.0                            0   \n",
       "1             0          0          5.0                          674   \n",
       "2             0          1          2.0                         1532   \n",
       "3             0          0          1.0                          305   \n",
       "4             0          1          2.0                         1428   \n",
       "\n",
       "   Page Views Per Visit  A free copy of Mastering The Interview  \\\n",
       "0                   0.0                                       0   \n",
       "1                   2.5                                       0   \n",
       "2                   2.0                                       1   \n",
       "3                   1.0                                       0   \n",
       "4                   1.0                                       0   \n",
       "\n",
       "   What matters most to you in choosing a course_Not Specified  \\\n",
       "0                                                  0             \n",
       "1                                                  0             \n",
       "2                                                  0             \n",
       "3                                                  0             \n",
       "4                                                  0             \n",
       "\n",
       "   What matters most to you in choosing a course_Other  Country_Not Specified  \\\n",
       "0                                                  0                        1   \n",
       "1                                                  0                        0   \n",
       "2                                                  0                        0   \n",
       "3                                                  0                        0   \n",
       "4                                                  0                        0   \n",
       "\n",
       "   Country_Other  What is your current occupation_Other  \\\n",
       "0              0                                      0   \n",
       "1              0                                      0   \n",
       "2              0                                      1   \n",
       "3              0                                      0   \n",
       "4              0                                      0   \n",
       "\n",
       "   What is your current occupation_Unemployed  \\\n",
       "0                                           1   \n",
       "1                                           1   \n",
       "2                                           0   \n",
       "3                                           1   \n",
       "4                                           1   \n",
       "\n",
       "   What is your current occupation_Working Professional  \\\n",
       "0                                                  0      \n",
       "1                                                  0      \n",
       "2                                                  0      \n",
       "3                                                  0      \n",
       "4                                                  0      \n",
       "\n",
       "   Lead Origin_Landing Page Submission  Lead Origin_Lead Add Form  \\\n",
       "0                                    0                          0   \n",
       "1                                    0                          0   \n",
       "2                                    1                          0   \n",
       "3                                    1                          0   \n",
       "4                                    1                          0   \n",
       "\n",
       "   Lead Origin_Lead Import  Lead Origin_Quick Add Form  Lead Source_Google  \\\n",
       "0                        0                           0                   0   \n",
       "1                        0                           0                   0   \n",
       "2                        0                           0                   0   \n",
       "3                        0                           0                   0   \n",
       "4                        0                           0                   1   \n",
       "\n",
       "   Lead Source_Olark Chat  Lead Source_Organic Search  Lead Source_Others  \\\n",
       "0                       1                           0                   0   \n",
       "1                       0                           1                   0   \n",
       "2                       0                           0                   0   \n",
       "3                       0                           0                   0   \n",
       "4                       0                           0                   0   \n",
       "\n",
       "   Last Activity_Olark Chat Conversation  Last Activity_Others  \\\n",
       "0                                      0                     1   \n",
       "1                                      0                     0   \n",
       "2                                      0                     0   \n",
       "3                                      0                     1   \n",
       "4                                      0                     1   \n",
       "\n",
       "   Last Activity_SMS Sent  Last Notable Activity_Modified  \\\n",
       "0                       0                               1   \n",
       "1                       0                               0   \n",
       "2                       0                               0   \n",
       "3                       0                               1   \n",
       "4                       0                               1   \n",
       "\n",
       "   Last Notable Activity_Other  Last Notable Activity_SMS Sent  \n",
       "0                            0                               0  \n",
       "1                            0                               0  \n",
       "2                            0                               0  \n",
       "3                            0                               0  \n",
       "4                            0                               0  "
      ]
     },
     "execution_count": 44,
     "metadata": {},
     "output_type": "execute_result"
    }
   ],
   "source": [
    "### converting dummy columns\n",
    "cols = [\"What matters most to you in choosing a course\",\"Country\",\"What is your current occupation\",\"Lead Origin\",\"Lead Source\",\"Last Activity\",\"Last Notable Activity\"]\n",
    "\n",
    "dummy = pd.get_dummies(leads_df[cols] ,drop_first=True)\n",
    "leads_df = pd.concat([leads_df , dummy] , axis=1)\n",
    "leads_df.drop(columns=cols , inplace=True)\n",
    "\n",
    "leads_df.head()"
   ]
  },
  {
   "cell_type": "code",
   "execution_count": 45,
   "id": "e385134e",
   "metadata": {
    "execution": {
     "iopub.execute_input": "2021-07-15T16:07:47.801097Z",
     "iopub.status.busy": "2021-07-15T16:07:47.800423Z",
     "iopub.status.idle": "2021-07-15T16:07:47.803059Z",
     "shell.execute_reply": "2021-07-15T16:07:47.803700Z",
     "shell.execute_reply.started": "2021-07-15T16:05:40.727774Z"
    },
    "papermill": {
     "duration": 0.114582,
     "end_time": "2021-07-15T16:07:47.804040",
     "exception": false,
     "start_time": "2021-07-15T16:07:47.689458",
     "status": "completed"
    },
    "tags": []
   },
   "outputs": [
    {
     "data": {
      "text/plain": [
       "(9240, 27)"
      ]
     },
     "execution_count": 45,
     "metadata": {},
     "output_type": "execute_result"
    }
   ],
   "source": [
    "### getting final shape\n",
    "leads_df.shape"
   ]
  },
  {
   "cell_type": "markdown",
   "id": "3ea3504e",
   "metadata": {
    "papermill": {
     "duration": 0.10962,
     "end_time": "2021-07-15T16:07:48.020824",
     "exception": false,
     "start_time": "2021-07-15T16:07:47.911204",
     "status": "completed"
    },
    "tags": []
   },
   "source": [
    "<br>\n",
    "<br>"
   ]
  },
  {
   "cell_type": "markdown",
   "id": "eda8ede7",
   "metadata": {
    "papermill": {
     "duration": 0.105178,
     "end_time": "2021-07-15T16:07:48.234153",
     "exception": false,
     "start_time": "2021-07-15T16:07:48.128975",
     "status": "completed"
    },
    "tags": []
   },
   "source": [
    "## <font color=\"blue\"> Checking Churn Ratio in the data</font>"
   ]
  },
  {
   "cell_type": "code",
   "execution_count": 46,
   "id": "efaedca0",
   "metadata": {
    "execution": {
     "iopub.execute_input": "2021-07-15T16:07:48.451840Z",
     "iopub.status.busy": "2021-07-15T16:07:48.451131Z",
     "iopub.status.idle": "2021-07-15T16:07:48.462111Z",
     "shell.execute_reply": "2021-07-15T16:07:48.461582Z",
     "shell.execute_reply.started": "2021-07-15T16:05:40.737867Z"
    },
    "papermill": {
     "duration": 0.122539,
     "end_time": "2021-07-15T16:07:48.462283",
     "exception": false,
     "start_time": "2021-07-15T16:07:48.339744",
     "status": "completed"
    },
    "tags": []
   },
   "outputs": [
    {
     "data": {
      "text/plain": [
       "0    61.46\n",
       "1    38.54\n",
       "Name: Converted, dtype: float64"
      ]
     },
     "execution_count": 46,
     "metadata": {},
     "output_type": "execute_result"
    }
   ],
   "source": [
    "round(leads_df.Converted.value_counts(normalize=True)* 100,2)"
   ]
  },
  {
   "cell_type": "code",
   "execution_count": 47,
   "id": "78278301",
   "metadata": {
    "execution": {
     "iopub.execute_input": "2021-07-15T16:07:48.680603Z",
     "iopub.status.busy": "2021-07-15T16:07:48.679914Z",
     "iopub.status.idle": "2021-07-15T16:07:48.804816Z",
     "shell.execute_reply": "2021-07-15T16:07:48.805329Z",
     "shell.execute_reply.started": "2021-07-15T16:05:40.755521Z"
    },
    "papermill": {
     "duration": 0.234,
     "end_time": "2021-07-15T16:07:48.805559",
     "exception": false,
     "start_time": "2021-07-15T16:07:48.571559",
     "status": "completed"
    },
    "tags": []
   },
   "outputs": [
    {
     "data": {
      "text/plain": [
       "<AxesSubplot:xlabel='Converted', ylabel='count'>"
      ]
     },
     "execution_count": 47,
     "metadata": {},
     "output_type": "execute_result"
    },
    {
     "data": {
      "image/png": "[encoded data removed]",
      "text/plain": [
       "<Figure size 432x288 with 1 Axes>"
      ]
     },
     "metadata": {
      "needs_background": "light"
     },
     "output_type": "display_data"
    }
   ],
   "source": [
    "sns.countplot(leads_df.Converted)"
   ]
  },
  {
   "cell_type": "markdown",
   "id": "6d148306",
   "metadata": {
    "papermill": {
     "duration": 0.108169,
     "end_time": "2021-07-15T16:07:49.022307",
     "exception": false,
     "start_time": "2021-07-15T16:07:48.914138",
     "status": "completed"
    },
    "tags": []
   },
   "source": [
    "<br>\n",
    "<br>"
   ]
  },
  {
   "cell_type": "markdown",
   "id": "ae82c582",
   "metadata": {
    "papermill": {
     "duration": 0.112282,
     "end_time": "2021-07-15T16:07:49.241980",
     "exception": false,
     "start_time": "2021-07-15T16:07:49.129698",
     "status": "completed"
    },
    "tags": []
   },
   "source": [
    "## <font color=\"blue\">Train Test Split </font>\n"
   ]
  },
  {
   "cell_type": "code",
   "execution_count": 48,
   "id": "ded15029",
   "metadata": {
    "execution": {
     "iopub.execute_input": "2021-07-15T16:07:49.459174Z",
     "iopub.status.busy": "2021-07-15T16:07:49.458319Z",
     "iopub.status.idle": "2021-07-15T16:07:49.477817Z",
     "shell.execute_reply": "2021-07-15T16:07:49.477085Z",
     "shell.execute_reply.started": "2021-07-15T16:05:40.924638Z"
    },
    "papermill": {
     "duration": 0.129716,
     "end_time": "2021-07-15T16:07:49.477967",
     "exception": false,
     "start_time": "2021-07-15T16:07:49.348251",
     "status": "completed"
    },
    "tags": []
   },
   "outputs": [],
   "source": [
    "from sklearn.model_selection import train_test_split"
   ]
  },
  {
   "cell_type": "code",
   "execution_count": 49,
   "id": "dedabee6",
   "metadata": {
    "execution": {
     "iopub.execute_input": "2021-07-15T16:07:49.700517Z",
     "iopub.status.busy": "2021-07-15T16:07:49.699596Z",
     "iopub.status.idle": "2021-07-15T16:07:49.709588Z",
     "shell.execute_reply": "2021-07-15T16:07:49.710094Z",
     "shell.execute_reply.started": "2021-07-15T16:05:40.947184Z"
    },
    "papermill": {
     "duration": 0.123737,
     "end_time": "2021-07-15T16:07:49.710291",
     "exception": false,
     "start_time": "2021-07-15T16:07:49.586554",
     "status": "completed"
    },
    "tags": []
   },
   "outputs": [
    {
     "name": "stdout",
     "output_type": "stream",
     "text": [
      "leads_df_train :  (6468, 27)\n",
      "leads_df_test :  (2772, 27)\n"
     ]
    }
   ],
   "source": [
    "leads_df_train , leads_df_test = train_test_split(leads_df , train_size=0.7 , random_state=100)\n",
    "\n",
    "print(\"leads_df_train : \" , leads_df_train.shape)\n",
    "print(\"leads_df_test : \" , leads_df_test.shape)\n"
   ]
  },
  {
   "cell_type": "markdown",
   "id": "67cfd6fa",
   "metadata": {
    "papermill": {
     "duration": 0.106852,
     "end_time": "2021-07-15T16:07:49.925318",
     "exception": false,
     "start_time": "2021-07-15T16:07:49.818466",
     "status": "completed"
    },
    "tags": []
   },
   "source": [
    "<br>\n",
    "<br>"
   ]
  },
  {
   "cell_type": "markdown",
   "id": "3917f138",
   "metadata": {
    "papermill": {
     "duration": 0.107782,
     "end_time": "2021-07-15T16:07:50.145752",
     "exception": false,
     "start_time": "2021-07-15T16:07:50.037970",
     "status": "completed"
    },
    "tags": []
   },
   "source": [
    "## <font color=\"blue\">Scalling the Train & Test Data </font>"
   ]
  },
  {
   "cell_type": "code",
   "execution_count": 50,
   "id": "c94ac78c",
   "metadata": {
    "execution": {
     "iopub.execute_input": "2021-07-15T16:07:50.367582Z",
     "iopub.status.busy": "2021-07-15T16:07:50.366845Z",
     "iopub.status.idle": "2021-07-15T16:07:50.369944Z",
     "shell.execute_reply": "2021-07-15T16:07:50.370439Z",
     "shell.execute_reply.started": "2021-07-15T16:05:40.962656Z"
    },
    "papermill": {
     "duration": 0.117367,
     "end_time": "2021-07-15T16:07:50.370631",
     "exception": false,
     "start_time": "2021-07-15T16:07:50.253264",
     "status": "completed"
    },
    "tags": []
   },
   "outputs": [],
   "source": [
    "from sklearn.preprocessing import StandardScaler"
   ]
  },
  {
   "cell_type": "code",
   "execution_count": 51,
   "id": "8cf8a152",
   "metadata": {
    "execution": {
     "iopub.execute_input": "2021-07-15T16:07:50.598669Z",
     "iopub.status.busy": "2021-07-15T16:07:50.597928Z",
     "iopub.status.idle": "2021-07-15T16:07:50.619772Z",
     "shell.execute_reply": "2021-07-15T16:07:50.620339Z",
     "shell.execute_reply.started": "2021-07-15T16:05:40.971120Z"
    },
    "papermill": {
     "duration": 0.139513,
     "end_time": "2021-07-15T16:07:50.620556",
     "exception": false,
     "start_time": "2021-07-15T16:07:50.481043",
     "status": "completed"
    },
    "tags": []
   },
   "outputs": [
    {
     "data": {
      "text/html": [
       "<div>\n",
       "<style scoped>\n",
       "    .dataframe tbody tr th:only-of-type {\n",
       "        vertical-align: middle;\n",
       "    }\n",
       "\n",
       "    .dataframe tbody tr th {\n",
       "        vertical-align: top;\n",
       "    }\n",
       "\n",
       "    .dataframe thead th {\n",
       "        text-align: right;\n",
       "    }\n",
       "</style>\n",
       "<table border=\"1\" class=\"dataframe\">\n",
       "  <thead>\n",
       "    <tr style=\"text-align: right;\">\n",
       "      <th></th>\n",
       "      <th>TotalVisits</th>\n",
       "      <th>Total Time Spent on Website</th>\n",
       "      <th>Page Views Per Visit</th>\n",
       "    </tr>\n",
       "  </thead>\n",
       "  <tbody>\n",
       "    <tr>\n",
       "      <th>1871</th>\n",
       "      <td>-0.656434</td>\n",
       "      <td>-0.885371</td>\n",
       "      <td>-1.085519</td>\n",
       "    </tr>\n",
       "    <tr>\n",
       "      <th>6795</th>\n",
       "      <td>0.100767</td>\n",
       "      <td>0.005716</td>\n",
       "      <td>-0.470569</td>\n",
       "    </tr>\n",
       "    <tr>\n",
       "      <th>3516</th>\n",
       "      <td>0.290067</td>\n",
       "      <td>-0.691418</td>\n",
       "      <td>0.070401</td>\n",
       "    </tr>\n",
       "    <tr>\n",
       "      <th>8105</th>\n",
       "      <td>0.290067</td>\n",
       "      <td>1.365219</td>\n",
       "      <td>1.226321</td>\n",
       "    </tr>\n",
       "    <tr>\n",
       "      <th>3934</th>\n",
       "      <td>-0.656434</td>\n",
       "      <td>-0.885371</td>\n",
       "      <td>-1.085519</td>\n",
       "    </tr>\n",
       "  </tbody>\n",
       "</table>\n",
       "</div>"
      ],
      "text/plain": [
       "      TotalVisits  Total Time Spent on Website  Page Views Per Visit\n",
       "1871    -0.656434                    -0.885371             -1.085519\n",
       "6795     0.100767                     0.005716             -0.470569\n",
       "3516     0.290067                    -0.691418              0.070401\n",
       "8105     0.290067                     1.365219              1.226321\n",
       "3934    -0.656434                    -0.885371             -1.085519"
      ]
     },
     "execution_count": 51,
     "metadata": {},
     "output_type": "execute_result"
    }
   ],
   "source": [
    "### scalling only the non-binary columns data Train DF\n",
    "\n",
    "cols = [\"TotalVisits\",\"Total Time Spent on Website\",\"Page Views Per Visit\"]\n",
    "\n",
    "scaler = StandardScaler()\n",
    "\n",
    "leads_df_train[cols] = scaler.fit_transform(leads_df_train[cols])\n",
    "\n",
    "leads_df_train[cols].head()"
   ]
  },
  {
   "cell_type": "code",
   "execution_count": 52,
   "id": "7b3cdb3e",
   "metadata": {
    "execution": {
     "iopub.execute_input": "2021-07-15T16:07:50.858912Z",
     "iopub.status.busy": "2021-07-15T16:07:50.852315Z",
     "iopub.status.idle": "2021-07-15T16:07:50.871605Z",
     "shell.execute_reply": "2021-07-15T16:07:50.870879Z",
     "shell.execute_reply.started": "2021-07-15T16:05:41.012436Z"
    },
    "papermill": {
     "duration": 0.138878,
     "end_time": "2021-07-15T16:07:50.871760",
     "exception": false,
     "start_time": "2021-07-15T16:07:50.732882",
     "status": "completed"
    },
    "tags": []
   },
   "outputs": [
    {
     "data": {
      "text/html": [
       "<div>\n",
       "<style scoped>\n",
       "    .dataframe tbody tr th:only-of-type {\n",
       "        vertical-align: middle;\n",
       "    }\n",
       "\n",
       "    .dataframe tbody tr th {\n",
       "        vertical-align: top;\n",
       "    }\n",
       "\n",
       "    .dataframe thead th {\n",
       "        text-align: right;\n",
       "    }\n",
       "</style>\n",
       "<table border=\"1\" class=\"dataframe\">\n",
       "  <thead>\n",
       "    <tr style=\"text-align: right;\">\n",
       "      <th></th>\n",
       "      <th>TotalVisits</th>\n",
       "      <th>Total Time Spent on Website</th>\n",
       "      <th>Page Views Per Visit</th>\n",
       "    </tr>\n",
       "  </thead>\n",
       "  <tbody>\n",
       "    <tr>\n",
       "      <th>4269</th>\n",
       "      <td>0.857967</td>\n",
       "      <td>0.964504</td>\n",
       "      <td>2.613424</td>\n",
       "    </tr>\n",
       "    <tr>\n",
       "      <th>2376</th>\n",
       "      <td>-0.656434</td>\n",
       "      <td>-0.885371</td>\n",
       "      <td>-1.085519</td>\n",
       "    </tr>\n",
       "    <tr>\n",
       "      <th>7766</th>\n",
       "      <td>0.290067</td>\n",
       "      <td>-0.777416</td>\n",
       "      <td>1.226321</td>\n",
       "    </tr>\n",
       "    <tr>\n",
       "      <th>9199</th>\n",
       "      <td>-0.656434</td>\n",
       "      <td>-0.885371</td>\n",
       "      <td>-1.085519</td>\n",
       "    </tr>\n",
       "    <tr>\n",
       "      <th>4359</th>\n",
       "      <td>-0.656434</td>\n",
       "      <td>-0.885371</td>\n",
       "      <td>-1.085519</td>\n",
       "    </tr>\n",
       "  </tbody>\n",
       "</table>\n",
       "</div>"
      ],
      "text/plain": [
       "      TotalVisits  Total Time Spent on Website  Page Views Per Visit\n",
       "4269     0.857967                     0.964504              2.613424\n",
       "2376    -0.656434                    -0.885371             -1.085519\n",
       "7766     0.290067                    -0.777416              1.226321\n",
       "9199    -0.656434                    -0.885371             -1.085519\n",
       "4359    -0.656434                    -0.885371             -1.085519"
      ]
     },
     "execution_count": 52,
     "metadata": {},
     "output_type": "execute_result"
    }
   ],
   "source": [
    "### scalling only the non-binary columns data of Test DF\n",
    "\n",
    "cols = [\"TotalVisits\",\"Total Time Spent on Website\",\"Page Views Per Visit\"]\n",
    "\n",
    "leads_df_test[cols] = scaler.transform(leads_df_test[cols])\n",
    "\n",
    "leads_df_test[cols].head()"
   ]
  },
  {
   "cell_type": "markdown",
   "id": "cf448c7c",
   "metadata": {
    "papermill": {
     "duration": 0.113054,
     "end_time": "2021-07-15T16:07:51.100762",
     "exception": false,
     "start_time": "2021-07-15T16:07:50.987708",
     "status": "completed"
    },
    "tags": []
   },
   "source": [
    "<br>\n",
    "<br>"
   ]
  },
  {
   "cell_type": "markdown",
   "id": "59c9e76c",
   "metadata": {
    "papermill": {
     "duration": 0.108337,
     "end_time": "2021-07-15T16:07:51.319133",
     "exception": false,
     "start_time": "2021-07-15T16:07:51.210796",
     "status": "completed"
    },
    "tags": []
   },
   "source": [
    "## <font color=\"blue\">Creating X & Y Train and Test </font>"
   ]
  },
  {
   "cell_type": "code",
   "execution_count": 53,
   "id": "20c0f737",
   "metadata": {
    "execution": {
     "iopub.execute_input": "2021-07-15T16:07:51.543658Z",
     "iopub.status.busy": "2021-07-15T16:07:51.542959Z",
     "iopub.status.idle": "2021-07-15T16:07:51.546722Z",
     "shell.execute_reply": "2021-07-15T16:07:51.546057Z",
     "shell.execute_reply.started": "2021-07-15T16:05:41.040161Z"
    },
    "papermill": {
     "duration": 0.119377,
     "end_time": "2021-07-15T16:07:51.546872",
     "exception": false,
     "start_time": "2021-07-15T16:07:51.427495",
     "status": "completed"
    },
    "tags": []
   },
   "outputs": [],
   "source": [
    "Y_Train = leads_df_train.pop(\"Converted\")"
   ]
  },
  {
   "cell_type": "code",
   "execution_count": 54,
   "id": "9f397fd0",
   "metadata": {
    "execution": {
     "iopub.execute_input": "2021-07-15T16:07:51.769247Z",
     "iopub.status.busy": "2021-07-15T16:07:51.768532Z",
     "iopub.status.idle": "2021-07-15T16:07:51.771245Z",
     "shell.execute_reply": "2021-07-15T16:07:51.772025Z",
     "shell.execute_reply.started": "2021-07-15T16:05:41.047652Z"
    },
    "papermill": {
     "duration": 0.116453,
     "end_time": "2021-07-15T16:07:51.772252",
     "exception": false,
     "start_time": "2021-07-15T16:07:51.655799",
     "status": "completed"
    },
    "tags": []
   },
   "outputs": [],
   "source": [
    "X_Train = leads_df_train"
   ]
  },
  {
   "cell_type": "code",
   "execution_count": 55,
   "id": "fcb25d29",
   "metadata": {
    "execution": {
     "iopub.execute_input": "2021-07-15T16:07:52.002749Z",
     "iopub.status.busy": "2021-07-15T16:07:52.001829Z",
     "iopub.status.idle": "2021-07-15T16:07:52.005752Z",
     "shell.execute_reply": "2021-07-15T16:07:52.005162Z",
     "shell.execute_reply.started": "2021-07-15T16:05:41.062214Z"
    },
    "papermill": {
     "duration": 0.122722,
     "end_time": "2021-07-15T16:07:52.005899",
     "exception": false,
     "start_time": "2021-07-15T16:07:51.883177",
     "status": "completed"
    },
    "tags": []
   },
   "outputs": [],
   "source": [
    "Y_Test = leads_df_test.pop(\"Converted\")"
   ]
  },
  {
   "cell_type": "code",
   "execution_count": 56,
   "id": "4d34d4eb",
   "metadata": {
    "execution": {
     "iopub.execute_input": "2021-07-15T16:07:52.237051Z",
     "iopub.status.busy": "2021-07-15T16:07:52.236300Z",
     "iopub.status.idle": "2021-07-15T16:07:52.239550Z",
     "shell.execute_reply": "2021-07-15T16:07:52.238977Z",
     "shell.execute_reply.started": "2021-07-15T16:05:41.076341Z"
    },
    "papermill": {
     "duration": 0.122266,
     "end_time": "2021-07-15T16:07:52.239714",
     "exception": false,
     "start_time": "2021-07-15T16:07:52.117448",
     "status": "completed"
    },
    "tags": []
   },
   "outputs": [],
   "source": [
    "X_Test = leads_df_test"
   ]
  },
  {
   "cell_type": "markdown",
   "id": "2dfd42e8",
   "metadata": {
    "papermill": {
     "duration": 0.109819,
     "end_time": "2021-07-15T16:07:52.458765",
     "exception": false,
     "start_time": "2021-07-15T16:07:52.348946",
     "status": "completed"
    },
    "tags": []
   },
   "source": [
    "<br>\n",
    "<br>"
   ]
  },
  {
   "cell_type": "markdown",
   "id": "ec4f70cf",
   "metadata": {
    "papermill": {
     "duration": 0.107922,
     "end_time": "2021-07-15T16:07:52.679191",
     "exception": false,
     "start_time": "2021-07-15T16:07:52.571269",
     "status": "completed"
    },
    "tags": []
   },
   "source": [
    "## <font color=\"blue\">Logistic Regression Model Creation </font>"
   ]
  },
  {
   "cell_type": "markdown",
   "id": "2fff3c93",
   "metadata": {
    "papermill": {
     "duration": 0.110768,
     "end_time": "2021-07-15T16:07:52.898619",
     "exception": false,
     "start_time": "2021-07-15T16:07:52.787851",
     "status": "completed"
    },
    "tags": []
   },
   "source": [
    "#### <font color=\"green\">Step - 1:  RFE </font>"
   ]
  },
  {
   "cell_type": "code",
   "execution_count": 57,
   "id": "07900839",
   "metadata": {
    "execution": {
     "iopub.execute_input": "2021-07-15T16:07:53.120316Z",
     "iopub.status.busy": "2021-07-15T16:07:53.119539Z",
     "iopub.status.idle": "2021-07-15T16:07:53.304469Z",
     "shell.execute_reply": "2021-07-15T16:07:53.305055Z",
     "shell.execute_reply.started": "2021-07-15T16:05:41.091352Z"
    },
    "papermill": {
     "duration": 0.297515,
     "end_time": "2021-07-15T16:07:53.305291",
     "exception": false,
     "start_time": "2021-07-15T16:07:53.007776",
     "status": "completed"
    },
    "tags": []
   },
   "outputs": [],
   "source": [
    "from sklearn.linear_model import LogisticRegression\n",
    "from sklearn.feature_selection import RFE"
   ]
  },
  {
   "cell_type": "code",
   "execution_count": 58,
   "id": "53b82fe7",
   "metadata": {
    "execution": {
     "iopub.execute_input": "2021-07-15T16:07:53.538632Z",
     "iopub.status.busy": "2021-07-15T16:07:53.537188Z",
     "iopub.status.idle": "2021-07-15T16:07:55.162500Z",
     "shell.execute_reply": "2021-07-15T16:07:55.163424Z",
     "shell.execute_reply.started": "2021-07-15T16:05:41.400168Z"
    },
    "papermill": {
     "duration": 1.742742,
     "end_time": "2021-07-15T16:07:55.163735",
     "exception": false,
     "start_time": "2021-07-15T16:07:53.420993",
     "status": "completed"
    },
    "tags": []
   },
   "outputs": [],
   "source": [
    "logreg = LogisticRegression()\n",
    "### taking best 15 features\n",
    "rfe = RFE(logreg , 15)\n",
    "rfe = rfe.fit(X_Train,Y_Train)"
   ]
  },
  {
   "cell_type": "code",
   "execution_count": 59,
   "id": "eb323fe5",
   "metadata": {
    "execution": {
     "iopub.execute_input": "2021-07-15T16:07:55.448656Z",
     "iopub.status.busy": "2021-07-15T16:07:55.447682Z",
     "iopub.status.idle": "2021-07-15T16:07:55.452453Z",
     "shell.execute_reply": "2021-07-15T16:07:55.451810Z",
     "shell.execute_reply.started": "2021-07-15T16:05:43.113298Z"
    },
    "papermill": {
     "duration": 0.13014,
     "end_time": "2021-07-15T16:07:55.452593",
     "exception": false,
     "start_time": "2021-07-15T16:07:55.322453",
     "status": "completed"
    },
    "tags": []
   },
   "outputs": [
    {
     "data": {
      "text/html": [
       "<div>\n",
       "<style scoped>\n",
       "    .dataframe tbody tr th:only-of-type {\n",
       "        vertical-align: middle;\n",
       "    }\n",
       "\n",
       "    .dataframe tbody tr th {\n",
       "        vertical-align: top;\n",
       "    }\n",
       "\n",
       "    .dataframe thead th {\n",
       "        text-align: right;\n",
       "    }\n",
       "</style>\n",
       "<table border=\"1\" class=\"dataframe\">\n",
       "  <thead>\n",
       "    <tr style=\"text-align: right;\">\n",
       "      <th></th>\n",
       "      <th>Features</th>\n",
       "      <th>Support</th>\n",
       "      <th>Ranking</th>\n",
       "    </tr>\n",
       "  </thead>\n",
       "  <tbody>\n",
       "    <tr>\n",
       "      <th>0</th>\n",
       "      <td>Do Not Email</td>\n",
       "      <td>True</td>\n",
       "      <td>1</td>\n",
       "    </tr>\n",
       "    <tr>\n",
       "      <th>2</th>\n",
       "      <td>Total Time Spent on Website</td>\n",
       "      <td>True</td>\n",
       "      <td>1</td>\n",
       "    </tr>\n",
       "    <tr>\n",
       "      <th>5</th>\n",
       "      <td>What matters most to you in choosing a course_...</td>\n",
       "      <td>True</td>\n",
       "      <td>1</td>\n",
       "    </tr>\n",
       "    <tr>\n",
       "      <th>7</th>\n",
       "      <td>Country_Not Specified</td>\n",
       "      <td>True</td>\n",
       "      <td>1</td>\n",
       "    </tr>\n",
       "    <tr>\n",
       "      <th>11</th>\n",
       "      <td>What is your current occupation_Working Profes...</td>\n",
       "      <td>True</td>\n",
       "      <td>1</td>\n",
       "    </tr>\n",
       "    <tr>\n",
       "      <th>13</th>\n",
       "      <td>Lead Origin_Lead Add Form</td>\n",
       "      <td>True</td>\n",
       "      <td>1</td>\n",
       "    </tr>\n",
       "    <tr>\n",
       "      <th>14</th>\n",
       "      <td>Lead Origin_Lead Import</td>\n",
       "      <td>True</td>\n",
       "      <td>1</td>\n",
       "    </tr>\n",
       "    <tr>\n",
       "      <th>17</th>\n",
       "      <td>Lead Source_Olark Chat</td>\n",
       "      <td>True</td>\n",
       "      <td>1</td>\n",
       "    </tr>\n",
       "    <tr>\n",
       "      <th>19</th>\n",
       "      <td>Lead Source_Others</td>\n",
       "      <td>True</td>\n",
       "      <td>1</td>\n",
       "    </tr>\n",
       "    <tr>\n",
       "      <th>20</th>\n",
       "      <td>Last Activity_Olark Chat Conversation</td>\n",
       "      <td>True</td>\n",
       "      <td>1</td>\n",
       "    </tr>\n",
       "    <tr>\n",
       "      <th>21</th>\n",
       "      <td>Last Activity_Others</td>\n",
       "      <td>True</td>\n",
       "      <td>1</td>\n",
       "    </tr>\n",
       "    <tr>\n",
       "      <th>22</th>\n",
       "      <td>Last Activity_SMS Sent</td>\n",
       "      <td>True</td>\n",
       "      <td>1</td>\n",
       "    </tr>\n",
       "    <tr>\n",
       "      <th>23</th>\n",
       "      <td>Last Notable Activity_Modified</td>\n",
       "      <td>True</td>\n",
       "      <td>1</td>\n",
       "    </tr>\n",
       "    <tr>\n",
       "      <th>24</th>\n",
       "      <td>Last Notable Activity_Other</td>\n",
       "      <td>True</td>\n",
       "      <td>1</td>\n",
       "    </tr>\n",
       "    <tr>\n",
       "      <th>25</th>\n",
       "      <td>Last Notable Activity_SMS Sent</td>\n",
       "      <td>True</td>\n",
       "      <td>1</td>\n",
       "    </tr>\n",
       "  </tbody>\n",
       "</table>\n",
       "</div>"
      ],
      "text/plain": [
       "                                             Features  Support  Ranking\n",
       "0                                        Do Not Email     True        1\n",
       "2                         Total Time Spent on Website     True        1\n",
       "5   What matters most to you in choosing a course_...     True        1\n",
       "7                               Country_Not Specified     True        1\n",
       "11  What is your current occupation_Working Profes...     True        1\n",
       "13                          Lead Origin_Lead Add Form     True        1\n",
       "14                            Lead Origin_Lead Import     True        1\n",
       "17                             Lead Source_Olark Chat     True        1\n",
       "19                                 Lead Source_Others     True        1\n",
       "20              Last Activity_Olark Chat Conversation     True        1\n",
       "21                               Last Activity_Others     True        1\n",
       "22                             Last Activity_SMS Sent     True        1\n",
       "23                     Last Notable Activity_Modified     True        1\n",
       "24                        Last Notable Activity_Other     True        1\n",
       "25                     Last Notable Activity_SMS Sent     True        1"
      ]
     },
     "execution_count": 59,
     "metadata": {},
     "output_type": "execute_result"
    }
   ],
   "source": [
    "### listing the RFE columns\n",
    "rfe_df = pd.DataFrame(zip(X_Train.columns , rfe.support_ , rfe.ranking_) , columns=[\"Features\" ,\"Support\",\"Ranking\"])\n",
    "rfe_df[rfe_df.Support == True]"
   ]
  },
  {
   "cell_type": "markdown",
   "id": "bc5b1e15",
   "metadata": {
    "papermill": {
     "duration": 0.108219,
     "end_time": "2021-07-15T16:07:55.669270",
     "exception": false,
     "start_time": "2021-07-15T16:07:55.561051",
     "status": "completed"
    },
    "tags": []
   },
   "source": [
    "<br>"
   ]
  },
  {
   "cell_type": "markdown",
   "id": "0681e899",
   "metadata": {
    "papermill": {
     "duration": 0.110545,
     "end_time": "2021-07-15T16:07:55.889577",
     "exception": false,
     "start_time": "2021-07-15T16:07:55.779032",
     "status": "completed"
    },
    "tags": []
   },
   "source": [
    "#### <font color=\"green\">Step - 2:  Build Model </font>"
   ]
  },
  {
   "cell_type": "code",
   "execution_count": 60,
   "id": "962ff278",
   "metadata": {
    "execution": {
     "iopub.execute_input": "2021-07-15T16:07:56.118616Z",
     "iopub.status.busy": "2021-07-15T16:07:56.117651Z",
     "iopub.status.idle": "2021-07-15T16:07:57.056003Z",
     "shell.execute_reply": "2021-07-15T16:07:57.055278Z",
     "shell.execute_reply.started": "2021-07-15T16:05:43.145950Z"
    },
    "papermill": {
     "duration": 1.053037,
     "end_time": "2021-07-15T16:07:57.056151",
     "exception": false,
     "start_time": "2021-07-15T16:07:56.003114",
     "status": "completed"
    },
    "tags": []
   },
   "outputs": [],
   "source": [
    "import statsmodels.api as sm"
   ]
  },
  {
   "cell_type": "code",
   "execution_count": 61,
   "id": "6ae55cee",
   "metadata": {
    "execution": {
     "iopub.execute_input": "2021-07-15T16:07:57.320187Z",
     "iopub.status.busy": "2021-07-15T16:07:57.319214Z",
     "iopub.status.idle": "2021-07-15T16:07:57.323503Z",
     "shell.execute_reply": "2021-07-15T16:07:57.322855Z",
     "shell.execute_reply.started": "2021-07-15T16:05:44.010525Z"
    },
    "papermill": {
     "duration": 0.152592,
     "end_time": "2021-07-15T16:07:57.323650",
     "exception": false,
     "start_time": "2021-07-15T16:07:57.171058",
     "status": "completed"
    },
    "tags": []
   },
   "outputs": [
    {
     "data": {
      "text/plain": [
       "0                                          Do Not Email\n",
       "2                           Total Time Spent on Website\n",
       "5     What matters most to you in choosing a course_...\n",
       "7                                 Country_Not Specified\n",
       "11    What is your current occupation_Working Profes...\n",
       "13                            Lead Origin_Lead Add Form\n",
       "14                              Lead Origin_Lead Import\n",
       "17                               Lead Source_Olark Chat\n",
       "19                                   Lead Source_Others\n",
       "20                Last Activity_Olark Chat Conversation\n",
       "21                                 Last Activity_Others\n",
       "22                               Last Activity_SMS Sent\n",
       "23                       Last Notable Activity_Modified\n",
       "24                          Last Notable Activity_Other\n",
       "25                       Last Notable Activity_SMS Sent\n",
       "Name: Features, dtype: object"
      ]
     },
     "execution_count": 61,
     "metadata": {},
     "output_type": "execute_result"
    }
   ],
   "source": [
    "cols = rfe_df[rfe_df[\"Support\"] == True].iloc[:,0]\n",
    "cols"
   ]
  },
  {
   "cell_type": "markdown",
   "id": "b8856ccf",
   "metadata": {
    "papermill": {
     "duration": 0.108684,
     "end_time": "2021-07-15T16:07:57.541869",
     "exception": false,
     "start_time": "2021-07-15T16:07:57.433185",
     "status": "completed"
    },
    "tags": []
   },
   "source": [
    "<br>"
   ]
  },
  {
   "cell_type": "code",
   "execution_count": 62,
   "id": "2b3a69f5",
   "metadata": {
    "execution": {
     "iopub.execute_input": "2021-07-15T16:07:57.766881Z",
     "iopub.status.busy": "2021-07-15T16:07:57.765982Z",
     "iopub.status.idle": "2021-07-15T16:07:57.772149Z",
     "shell.execute_reply": "2021-07-15T16:07:57.771566Z",
     "shell.execute_reply.started": "2021-07-15T16:05:44.021510Z"
    },
    "papermill": {
     "duration": 0.12209,
     "end_time": "2021-07-15T16:07:57.772290",
     "exception": false,
     "start_time": "2021-07-15T16:07:57.650200",
     "status": "completed"
    },
    "tags": []
   },
   "outputs": [],
   "source": [
    "from statsmodels.stats.outliers_influence import variance_inflation_factor"
   ]
  },
  {
   "cell_type": "code",
   "execution_count": 63,
   "id": "f9f6528c",
   "metadata": {
    "execution": {
     "iopub.execute_input": "2021-07-15T16:07:58.001844Z",
     "iopub.status.busy": "2021-07-15T16:07:58.001076Z",
     "iopub.status.idle": "2021-07-15T16:07:58.006373Z",
     "shell.execute_reply": "2021-07-15T16:07:58.005668Z",
     "shell.execute_reply.started": "2021-07-15T16:05:44.040740Z"
    },
    "papermill": {
     "duration": 0.123068,
     "end_time": "2021-07-15T16:07:58.006538",
     "exception": false,
     "start_time": "2021-07-15T16:07:57.883470",
     "status": "completed"
    },
    "tags": []
   },
   "outputs": [],
   "source": [
    "### function to create logistic model and check p-value and VIF\n",
    "\n",
    "def create_Logistic_model(y_train, x_train , cols):\n",
    "    ## create log model\n",
    "    x_train_sm  = sm.add_constant(x_train[cols])\n",
    "    logsm = sm.GLM(y_train , x_train_sm , family=sm.families.Binomial())\n",
    "    res = logsm.fit()\n",
    "    print(res.summary())\n",
    "    \n",
    "    ## create VIF list\n",
    "    vif = pd.DataFrame()\n",
    "    vif[\"Features\"] = x_train_sm.columns\n",
    "    vif[\"VIF\"] = [variance_inflation_factor(x_train_sm.values , i) for i in range(x_train_sm.shape[1])]\n",
    "    vif[\"VIF\"] = round(vif[\"VIF\"],2)\n",
    "    vif = vif.sort_values(by=\"VIF\" , ascending=False)\n",
    "    print(\"\\n\" , vif)"
   ]
  },
  {
   "cell_type": "markdown",
   "id": "3011013f",
   "metadata": {
    "papermill": {
     "duration": 0.112583,
     "end_time": "2021-07-15T16:07:58.231899",
     "exception": false,
     "start_time": "2021-07-15T16:07:58.119316",
     "status": "completed"
    },
    "tags": []
   },
   "source": [
    "<br>"
   ]
  },
  {
   "cell_type": "code",
   "execution_count": 64,
   "id": "d846c0ad",
   "metadata": {
    "execution": {
     "iopub.execute_input": "2021-07-15T16:07:58.459614Z",
     "iopub.status.busy": "2021-07-15T16:07:58.458775Z",
     "iopub.status.idle": "2021-07-15T16:07:58.718694Z",
     "shell.execute_reply": "2021-07-15T16:07:58.720178Z",
     "shell.execute_reply.started": "2021-07-15T16:05:44.050461Z"
    },
    "papermill": {
     "duration": 0.375419,
     "end_time": "2021-07-15T16:07:58.720487",
     "exception": false,
     "start_time": "2021-07-15T16:07:58.345068",
     "status": "completed"
    },
    "tags": []
   },
   "outputs": [
    {
     "name": "stdout",
     "output_type": "stream",
     "text": [
      "                 Generalized Linear Model Regression Results                  \n",
      "==============================================================================\n",
      "Dep. Variable:              Converted   No. Observations:                 6468\n",
      "Model:                            GLM   Df Residuals:                     6452\n",
      "Model Family:                Binomial   Df Model:                           15\n",
      "Link Function:                  logit   Scale:                          1.0000\n",
      "Method:                          IRLS   Log-Likelihood:                -2628.3\n",
      "Date:                Thu, 15 Jul 2021   Deviance:                       5256.5\n",
      "Time:                        16:07:58   Pearson chi2:                 6.95e+03\n",
      "No. Iterations:                     6                                         \n",
      "Covariance Type:            nonrobust                                         \n",
      "===============================================================================================================================\n",
      "                                                                  coef    std err          z      P>|z|      [0.025      0.975]\n",
      "-------------------------------------------------------------------------------------------------------------------------------\n",
      "const                                                          -0.9786      0.066    -14.854      0.000      -1.108      -0.849\n",
      "Do Not Email                                                   -1.1508      0.172     -6.705      0.000      -1.487      -0.814\n",
      "Total Time Spent on Website                                     1.0901      0.040     27.062      0.000       1.011       1.169\n",
      "What matters most to you in choosing a course_Not Specified    -1.0844      0.088    -12.388      0.000      -1.256      -0.913\n",
      "Country_Not Specified                                           0.3777      0.242      1.562      0.118      -0.096       0.852\n",
      "What is your current occupation_Working Professional            2.5289      0.189     13.385      0.000       2.159       2.899\n",
      "Lead Origin_Lead Add Form                                       3.0105      0.367      8.194      0.000       2.290       3.731\n",
      "Lead Origin_Lead Import                                        -0.7739      0.615     -1.258      0.208      -1.980       0.432\n",
      "Lead Source_Olark Chat                                          0.9195      0.238      3.864      0.000       0.453       1.386\n",
      "Lead Source_Others                                              0.3112      0.253      1.232      0.218      -0.184       0.806\n",
      "Last Activity_Olark Chat Conversation                          -1.2874      0.209     -6.174      0.000      -1.696      -0.879\n",
      "Last Activity_Others                                           -0.6600      0.169     -3.903      0.000      -0.991      -0.329\n",
      "Last Activity_SMS Sent                                          0.5908      0.185      3.201      0.001       0.229       0.953\n",
      "Last Notable Activity_Modified                                 -0.3353      0.139     -2.405      0.016      -0.609      -0.062\n",
      "Last Notable Activity_Other                                     0.5819      0.208      2.805      0.005       0.175       0.989\n",
      "Last Notable Activity_SMS Sent                                  0.6339      0.204      3.113      0.002       0.235       1.033\n",
      "===============================================================================================================================\n",
      "\n",
      "                                              Features   VIF\n",
      "4                               Country_Not Specified  9.86\n",
      "8                              Lead Source_Olark Chat  7.67\n",
      "6                           Lead Origin_Lead Add Form  7.46\n",
      "15                     Last Notable Activity_SMS Sent  6.81\n",
      "12                             Last Activity_SMS Sent  6.22\n",
      "9                                  Lead Source_Others  4.34\n",
      "0                                               const  4.17\n",
      "13                     Last Notable Activity_Modified  3.93\n",
      "11                               Last Activity_Others  3.61\n",
      "14                        Last Notable Activity_Other  2.69\n",
      "10              Last Activity_Olark Chat Conversation  2.40\n",
      "7                             Lead Origin_Lead Import  1.48\n",
      "2                         Total Time Spent on Website  1.29\n",
      "3   What matters most to you in choosing a course_...  1.17\n",
      "1                                        Do Not Email  1.15\n",
      "5   What is your current occupation_Working Profes...  1.09\n"
     ]
    }
   ],
   "source": [
    "### model 1\n",
    "\n",
    "create_Logistic_model(Y_Train,X_Train,cols)"
   ]
  },
  {
   "cell_type": "code",
   "execution_count": 65,
   "id": "46f19e2f",
   "metadata": {
    "execution": {
     "iopub.execute_input": "2021-07-15T16:07:58.994519Z",
     "iopub.status.busy": "2021-07-15T16:07:58.993400Z",
     "iopub.status.idle": "2021-07-15T16:07:59.160093Z",
     "shell.execute_reply": "2021-07-15T16:07:59.161084Z",
     "shell.execute_reply.started": "2021-07-15T16:05:44.299168Z"
    },
    "papermill": {
     "duration": 0.28574,
     "end_time": "2021-07-15T16:07:59.161364",
     "exception": false,
     "start_time": "2021-07-15T16:07:58.875624",
     "status": "completed"
    },
    "tags": []
   },
   "outputs": [
    {
     "name": "stdout",
     "output_type": "stream",
     "text": [
      "                 Generalized Linear Model Regression Results                  \n",
      "==============================================================================\n",
      "Dep. Variable:              Converted   No. Observations:                 6468\n",
      "Model:                            GLM   Df Residuals:                     6453\n",
      "Model Family:                Binomial   Df Model:                           14\n",
      "Link Function:                  logit   Scale:                          1.0000\n",
      "Method:                          IRLS   Log-Likelihood:                -2629.0\n",
      "Date:                Thu, 15 Jul 2021   Deviance:                       5258.0\n",
      "Time:                        16:07:59   Pearson chi2:                 6.93e+03\n",
      "No. Iterations:                     6                                         \n",
      "Covariance Type:            nonrobust                                         \n",
      "===============================================================================================================================\n",
      "                                                                  coef    std err          z      P>|z|      [0.025      0.975]\n",
      "-------------------------------------------------------------------------------------------------------------------------------\n",
      "const                                                          -0.9716      0.066    -14.814      0.000      -1.100      -0.843\n",
      "Do Not Email                                                   -1.1623      0.172     -6.764      0.000      -1.499      -0.825\n",
      "Total Time Spent on Website                                     1.0888      0.040     27.050      0.000       1.010       1.168\n",
      "What matters most to you in choosing a course_Not Specified    -1.0820      0.088    -12.361      0.000      -1.254      -0.910\n",
      "Country_Not Specified                                           0.3753      0.242      1.553      0.120      -0.098       0.849\n",
      "What is your current occupation_Working Professional            2.5293      0.189     13.393      0.000       2.159       2.899\n",
      "Lead Origin_Lead Add Form                                       3.2914      0.289     11.381      0.000       2.725       3.858\n",
      "Lead Origin_Lead Import                                        -0.4765      0.565     -0.843      0.399      -1.584       0.631\n",
      "Lead Source_Olark Chat                                          0.9121      0.238      3.837      0.000       0.446       1.378\n",
      "Last Activity_Olark Chat Conversation                          -1.2846      0.208     -6.163      0.000      -1.693      -0.876\n",
      "Last Activity_Others                                           -0.6611      0.169     -3.910      0.000      -0.992      -0.330\n",
      "Last Activity_SMS Sent                                          0.5839      0.184      3.167      0.002       0.223       0.945\n",
      "Last Notable Activity_Modified                                 -0.3308      0.139     -2.375      0.018      -0.604      -0.058\n",
      "Last Notable Activity_Other                                     0.5855      0.207      2.822      0.005       0.179       0.992\n",
      "Last Notable Activity_SMS Sent                                  0.6372      0.204      3.131      0.002       0.238       1.036\n",
      "===============================================================================================================================\n",
      "\n",
      "                                              Features   VIF\n",
      "4                               Country_Not Specified  9.86\n",
      "8                              Lead Source_Olark Chat  7.66\n",
      "14                     Last Notable Activity_SMS Sent  6.81\n",
      "11                             Last Activity_SMS Sent  6.21\n",
      "6                           Lead Origin_Lead Add Form  4.37\n",
      "0                                               const  4.14\n",
      "12                     Last Notable Activity_Modified  3.93\n",
      "10                               Last Activity_Others  3.61\n",
      "13                        Last Notable Activity_Other  2.69\n",
      "9               Last Activity_Olark Chat Conversation  2.40\n",
      "2                         Total Time Spent on Website  1.29\n",
      "7                             Lead Origin_Lead Import  1.26\n",
      "3   What matters most to you in choosing a course_...  1.17\n",
      "1                                        Do Not Email  1.15\n",
      "5   What is your current occupation_Working Profes...  1.09\n"
     ]
    }
   ],
   "source": [
    "### model 2\n",
    "\n",
    "## removing column:Lead Source_Others Add Form with very high p-value > 0.05\n",
    "cols = cols[cols != \"Lead Source_Others\"]\n",
    "\n",
    "create_Logistic_model(Y_Train,X_Train,cols)"
   ]
  },
  {
   "cell_type": "code",
   "execution_count": 66,
   "id": "222ebd57",
   "metadata": {
    "execution": {
     "iopub.execute_input": "2021-07-15T16:07:59.432838Z",
     "iopub.status.busy": "2021-07-15T16:07:59.431310Z",
     "iopub.status.idle": "2021-07-15T16:07:59.599969Z",
     "shell.execute_reply": "2021-07-15T16:07:59.601069Z",
     "shell.execute_reply.started": "2021-07-15T16:05:44.507739Z"
    },
    "papermill": {
     "duration": 0.286276,
     "end_time": "2021-07-15T16:07:59.601364",
     "exception": false,
     "start_time": "2021-07-15T16:07:59.315088",
     "status": "completed"
    },
    "tags": []
   },
   "outputs": [
    {
     "name": "stdout",
     "output_type": "stream",
     "text": [
      "                 Generalized Linear Model Regression Results                  \n",
      "==============================================================================\n",
      "Dep. Variable:              Converted   No. Observations:                 6468\n",
      "Model:                            GLM   Df Residuals:                     6454\n",
      "Model Family:                Binomial   Df Model:                           13\n",
      "Link Function:                  logit   Scale:                          1.0000\n",
      "Method:                          IRLS   Log-Likelihood:                -2629.4\n",
      "Date:                Thu, 15 Jul 2021   Deviance:                       5258.7\n",
      "Time:                        16:07:59   Pearson chi2:                 6.92e+03\n",
      "No. Iterations:                     6                                         \n",
      "Covariance Type:            nonrobust                                         \n",
      "===============================================================================================================================\n",
      "                                                                  coef    std err          z      P>|z|      [0.025      0.975]\n",
      "-------------------------------------------------------------------------------------------------------------------------------\n",
      "const                                                          -0.9738      0.066    -14.860      0.000      -1.102      -0.845\n",
      "Do Not Email                                                   -1.1593      0.172     -6.749      0.000      -1.496      -0.823\n",
      "Total Time Spent on Website                                     1.0886      0.040     27.041      0.000       1.010       1.167\n",
      "What matters most to you in choosing a course_Not Specified    -1.0805      0.088    -12.344      0.000      -1.252      -0.909\n",
      "Country_Not Specified                                           0.2841      0.217      1.309      0.190      -0.141       0.709\n",
      "What is your current occupation_Working Professional            2.5293      0.189     13.397      0.000       2.159       2.899\n",
      "Lead Origin_Lead Add Form                                       3.3826      0.269     12.558      0.000       2.855       3.911\n",
      "Lead Source_Olark Chat                                          0.9977      0.216      4.620      0.000       0.574       1.421\n",
      "Last Activity_Olark Chat Conversation                          -1.2737      0.208     -6.119      0.000      -1.682      -0.866\n",
      "Last Activity_Others                                           -0.6526      0.169     -3.866      0.000      -0.983      -0.322\n",
      "Last Activity_SMS Sent                                          0.5875      0.184      3.189      0.001       0.226       0.949\n",
      "Last Notable Activity_Modified                                 -0.3381      0.139     -2.431      0.015      -0.611      -0.066\n",
      "Last Notable Activity_Other                                     0.5776      0.207      2.787      0.005       0.171       0.984\n",
      "Last Notable Activity_SMS Sent                                  0.6362      0.203      3.127      0.002       0.237       1.035\n",
      "===============================================================================================================================\n",
      "\n",
      "                                              Features   VIF\n",
      "4                               Country_Not Specified  7.97\n",
      "13                     Last Notable Activity_SMS Sent  6.81\n",
      "7                              Lead Source_Olark Chat  6.33\n",
      "10                             Last Activity_SMS Sent  6.21\n",
      "0                                               const  4.13\n",
      "11                     Last Notable Activity_Modified  3.92\n",
      "6                           Lead Origin_Lead Add Form  3.68\n",
      "9                                Last Activity_Others  3.60\n",
      "12                        Last Notable Activity_Other  2.69\n",
      "8               Last Activity_Olark Chat Conversation  2.39\n",
      "2                         Total Time Spent on Website  1.29\n",
      "3   What matters most to you in choosing a course_...  1.17\n",
      "1                                        Do Not Email  1.15\n",
      "5   What is your current occupation_Working Profes...  1.09\n"
     ]
    }
   ],
   "source": [
    "### model 3\n",
    "\n",
    "## removing column:Lead Origin_Lead Import with very high p-value > 0.05\n",
    "cols = cols[cols != \"Lead Origin_Lead Import\"]\n",
    "\n",
    "create_Logistic_model(Y_Train,X_Train,cols)"
   ]
  },
  {
   "cell_type": "code",
   "execution_count": 67,
   "id": "499a8045",
   "metadata": {
    "execution": {
     "iopub.execute_input": "2021-07-15T16:07:59.878655Z",
     "iopub.status.busy": "2021-07-15T16:07:59.877878Z",
     "iopub.status.idle": "2021-07-15T16:08:00.037978Z",
     "shell.execute_reply": "2021-07-15T16:08:00.039537Z",
     "shell.execute_reply.started": "2021-07-15T16:05:44.707763Z"
    },
    "papermill": {
     "duration": 0.282153,
     "end_time": "2021-07-15T16:08:00.039961",
     "exception": false,
     "start_time": "2021-07-15T16:07:59.757808",
     "status": "completed"
    },
    "tags": []
   },
   "outputs": [
    {
     "name": "stdout",
     "output_type": "stream",
     "text": [
      "                 Generalized Linear Model Regression Results                  \n",
      "==============================================================================\n",
      "Dep. Variable:              Converted   No. Observations:                 6468\n",
      "Model:                            GLM   Df Residuals:                     6455\n",
      "Model Family:                Binomial   Df Model:                           12\n",
      "Link Function:                  logit   Scale:                          1.0000\n",
      "Method:                          IRLS   Log-Likelihood:                -2630.2\n",
      "Date:                Thu, 15 Jul 2021   Deviance:                       5260.4\n",
      "Time:                        16:07:59   Pearson chi2:                 6.91e+03\n",
      "No. Iterations:                     6                                         \n",
      "Covariance Type:            nonrobust                                         \n",
      "===============================================================================================================================\n",
      "                                                                  coef    std err          z      P>|z|      [0.025      0.975]\n",
      "-------------------------------------------------------------------------------------------------------------------------------\n",
      "const                                                          -0.9674      0.065    -14.818      0.000      -1.095      -0.839\n",
      "Do Not Email                                                   -1.1523      0.171     -6.720      0.000      -1.488      -0.816\n",
      "Total Time Spent on Website                                     1.0810      0.040     27.170      0.000       1.003       1.159\n",
      "What matters most to you in choosing a course_Not Specified    -1.0786      0.088    -12.324      0.000      -1.250      -0.907\n",
      "What is your current occupation_Working Professional            2.5316      0.189     13.408      0.000       2.162       2.902\n",
      "Lead Origin_Lead Add Form                                       3.6446      0.182     20.073      0.000       3.289       4.000\n",
      "Lead Source_Olark Chat                                          1.2462      0.105     11.916      0.000       1.041       1.451\n",
      "Last Activity_Olark Chat Conversation                          -1.2762      0.208     -6.125      0.000      -1.685      -0.868\n",
      "Last Activity_Others                                           -0.6677      0.168     -3.965      0.000      -0.998      -0.338\n",
      "Last Activity_SMS Sent                                          0.5793      0.184      3.147      0.002       0.219       0.940\n",
      "Last Notable Activity_Modified                                 -0.3273      0.139     -2.359      0.018      -0.599      -0.055\n",
      "Last Notable Activity_Other                                     0.5873      0.207      2.835      0.005       0.181       0.993\n",
      "Last Notable Activity_SMS Sent                                  0.6446      0.203      3.171      0.002       0.246       1.043\n",
      "===============================================================================================================================\n",
      "\n",
      "                                              Features   VIF\n",
      "12                     Last Notable Activity_SMS Sent  6.80\n",
      "9                              Last Activity_SMS Sent  6.20\n",
      "0                                               const  4.11\n",
      "10                     Last Notable Activity_Modified  3.91\n",
      "8                                Last Activity_Others  3.58\n",
      "11                        Last Notable Activity_Other  2.68\n",
      "7               Last Activity_Olark Chat Conversation  2.39\n",
      "6                              Lead Source_Olark Chat  1.45\n",
      "2                         Total Time Spent on Website  1.26\n",
      "5                           Lead Origin_Lead Add Form  1.18\n",
      "3   What matters most to you in choosing a course_...  1.17\n",
      "1                                        Do Not Email  1.15\n",
      "4   What is your current occupation_Working Profes...  1.09\n"
     ]
    }
   ],
   "source": [
    "### model 4\n",
    "\n",
    "## removing column:Country_Not Specified  Received with very high p-value > 0.05\n",
    "cols = cols[cols != \"Country_Not Specified\"]\n",
    "\n",
    "create_Logistic_model(Y_Train,X_Train,cols)"
   ]
  },
  {
   "cell_type": "code",
   "execution_count": 68,
   "id": "3ee8a726",
   "metadata": {
    "execution": {
     "iopub.execute_input": "2021-07-15T16:08:00.314988Z",
     "iopub.status.busy": "2021-07-15T16:08:00.314153Z",
     "iopub.status.idle": "2021-07-15T16:08:00.458249Z",
     "shell.execute_reply": "2021-07-15T16:08:00.459313Z",
     "shell.execute_reply.started": "2021-07-15T16:05:44.898054Z"
    },
    "papermill": {
     "duration": 0.263353,
     "end_time": "2021-07-15T16:08:00.459618",
     "exception": false,
     "start_time": "2021-07-15T16:08:00.196265",
     "status": "completed"
    },
    "tags": []
   },
   "outputs": [
    {
     "name": "stdout",
     "output_type": "stream",
     "text": [
      "                 Generalized Linear Model Regression Results                  \n",
      "==============================================================================\n",
      "Dep. Variable:              Converted   No. Observations:                 6468\n",
      "Model:                            GLM   Df Residuals:                     6456\n",
      "Model Family:                Binomial   Df Model:                           11\n",
      "Link Function:                  logit   Scale:                          1.0000\n",
      "Method:                          IRLS   Log-Likelihood:                -2635.2\n",
      "Date:                Thu, 15 Jul 2021   Deviance:                       5270.5\n",
      "Time:                        16:08:00   Pearson chi2:                 6.81e+03\n",
      "No. Iterations:                     6                                         \n",
      "Covariance Type:            nonrobust                                         \n",
      "===============================================================================================================================\n",
      "                                                                  coef    std err          z      P>|z|      [0.025      0.975]\n",
      "-------------------------------------------------------------------------------------------------------------------------------\n",
      "const                                                          -0.9141      0.063    -14.567      0.000      -1.037      -0.791\n",
      "Do Not Email                                                   -1.1600      0.171     -6.764      0.000      -1.496      -0.824\n",
      "Total Time Spent on Website                                     1.0824      0.040     27.236      0.000       1.005       1.160\n",
      "What matters most to you in choosing a course_Not Specified    -1.1058      0.087    -12.701      0.000      -1.276      -0.935\n",
      "What is your current occupation_Working Professional            2.5395      0.189     13.428      0.000       2.169       2.910\n",
      "Lead Origin_Lead Add Form                                       3.6599      0.182     20.149      0.000       3.304       4.016\n",
      "Lead Source_Olark Chat                                          1.2592      0.104     12.055      0.000       1.054       1.464\n",
      "Last Activity_Olark Chat Conversation                          -1.0228      0.195     -5.258      0.000      -1.404      -0.642\n",
      "Last Activity_Others                                           -0.4126      0.150     -2.747      0.006      -0.707      -0.118\n",
      "Last Activity_SMS Sent                                          1.1071      0.079     13.941      0.000       0.951       1.263\n",
      "Last Notable Activity_Modified                                 -0.6328      0.103     -6.156      0.000      -0.834      -0.431\n",
      "Last Notable Activity_Other                                     0.2832      0.185      1.528      0.126      -0.080       0.646\n",
      "===============================================================================================================================\n",
      "\n",
      "                                              Features   VIF\n",
      "0                                               const  3.82\n",
      "8                                Last Activity_Others  2.71\n",
      "10                     Last Notable Activity_Modified  2.16\n",
      "11                        Last Notable Activity_Other  2.06\n",
      "7               Last Activity_Olark Chat Conversation  1.93\n",
      "6                              Lead Source_Olark Chat  1.44\n",
      "9                              Last Activity_SMS Sent  1.29\n",
      "2                         Total Time Spent on Website  1.26\n",
      "5                           Lead Origin_Lead Add Form  1.17\n",
      "3   What matters most to you in choosing a course_...  1.16\n",
      "1                                        Do Not Email  1.15\n",
      "4   What is your current occupation_Working Profes...  1.09\n"
     ]
    }
   ],
   "source": [
    "### model 5\n",
    "\n",
    "## removing column:Last Notable Activity_SMS Sent a Phone Conversation with very high VIF > 5\n",
    "cols = cols[cols != \"Last Notable Activity_SMS Sent\"]\n",
    "\n",
    "create_Logistic_model(Y_Train,X_Train,cols)"
   ]
  },
  {
   "cell_type": "code",
   "execution_count": 69,
   "id": "13c0900d",
   "metadata": {
    "execution": {
     "iopub.execute_input": "2021-07-15T16:08:00.733816Z",
     "iopub.status.busy": "2021-07-15T16:08:00.732723Z",
     "iopub.status.idle": "2021-07-15T16:08:00.855318Z",
     "shell.execute_reply": "2021-07-15T16:08:00.856430Z",
     "shell.execute_reply.started": "2021-07-15T16:05:45.071976Z"
    },
    "papermill": {
     "duration": 0.242295,
     "end_time": "2021-07-15T16:08:00.856713",
     "exception": false,
     "start_time": "2021-07-15T16:08:00.614418",
     "status": "completed"
    },
    "tags": []
   },
   "outputs": [
    {
     "name": "stdout",
     "output_type": "stream",
     "text": [
      "                 Generalized Linear Model Regression Results                  \n",
      "==============================================================================\n",
      "Dep. Variable:              Converted   No. Observations:                 6468\n",
      "Model:                            GLM   Df Residuals:                     6457\n",
      "Model Family:                Binomial   Df Model:                           10\n",
      "Link Function:                  logit   Scale:                          1.0000\n",
      "Method:                          IRLS   Log-Likelihood:                -2636.4\n",
      "Date:                Thu, 15 Jul 2021   Deviance:                       5272.8\n",
      "Time:                        16:08:00   Pearson chi2:                 6.80e+03\n",
      "No. Iterations:                     6                                         \n",
      "Covariance Type:            nonrobust                                         \n",
      "===============================================================================================================================\n",
      "                                                                  coef    std err          z      P>|z|      [0.025      0.975]\n",
      "-------------------------------------------------------------------------------------------------------------------------------\n",
      "const                                                          -0.9042      0.062    -14.491      0.000      -1.027      -0.782\n",
      "Do Not Email                                                   -1.1499      0.171     -6.718      0.000      -1.485      -0.814\n",
      "Total Time Spent on Website                                     1.0836      0.040     27.280      0.000       1.006       1.161\n",
      "What matters most to you in choosing a course_Not Specified    -1.0956      0.087    -12.624      0.000      -1.266      -0.926\n",
      "What is your current occupation_Working Professional            2.5366      0.189     13.425      0.000       2.166       2.907\n",
      "Lead Origin_Lead Add Form                                       3.6781      0.181     20.278      0.000       3.323       4.034\n",
      "Lead Source_Olark Chat                                          1.2659      0.104     12.117      0.000       1.061       1.471\n",
      "Last Activity_Olark Chat Conversation                          -0.8985      0.176     -5.095      0.000      -1.244      -0.553\n",
      "Last Activity_Others                                           -0.2563      0.109     -2.341      0.019      -0.471      -0.042\n",
      "Last Activity_SMS Sent                                          1.1101      0.079     13.965      0.000       0.954       1.266\n",
      "Last Notable Activity_Modified                                 -0.7202      0.086     -8.370      0.000      -0.889      -0.552\n",
      "===============================================================================================================================\n",
      "\n",
      "                                              Features   VIF\n",
      "0                                               const  3.75\n",
      "8                                Last Activity_Others  1.62\n",
      "7               Last Activity_Olark Chat Conversation  1.57\n",
      "6                              Lead Source_Olark Chat  1.44\n",
      "10                     Last Notable Activity_Modified  1.36\n",
      "9                              Last Activity_SMS Sent  1.29\n",
      "2                         Total Time Spent on Website  1.26\n",
      "5                           Lead Origin_Lead Add Form  1.16\n",
      "1                                        Do Not Email  1.15\n",
      "3   What matters most to you in choosing a course_...  1.15\n",
      "4   What is your current occupation_Working Profes...  1.09\n"
     ]
    }
   ],
   "source": [
    "### model 6\n",
    "\n",
    "## removing column:Last Notable Activity_Other with very high p-value > 0.05\n",
    "cols = cols[cols != \"Last Notable Activity_Other\"]\n",
    "\n",
    "create_Logistic_model(Y_Train,X_Train,cols)"
   ]
  },
  {
   "cell_type": "markdown",
   "id": "fee6523d",
   "metadata": {
    "papermill": {
     "duration": 0.115137,
     "end_time": "2021-07-15T16:08:01.135333",
     "exception": false,
     "start_time": "2021-07-15T16:08:01.020196",
     "status": "completed"
    },
    "tags": []
   },
   "source": [
    "#### <font color=\"green\"> Finally we got the final model where p-value of the features are below 0.05 and VIF below 5 </font>"
   ]
  },
  {
   "cell_type": "markdown",
   "id": "dca8da8c",
   "metadata": {
    "papermill": {
     "duration": 0.111009,
     "end_time": "2021-07-15T16:08:01.360291",
     "exception": false,
     "start_time": "2021-07-15T16:08:01.249282",
     "status": "completed"
    },
    "tags": []
   },
   "source": [
    "<br>"
   ]
  },
  {
   "cell_type": "markdown",
   "id": "0bd3db79",
   "metadata": {
    "papermill": {
     "duration": 0.110483,
     "end_time": "2021-07-15T16:08:01.582486",
     "exception": false,
     "start_time": "2021-07-15T16:08:01.472003",
     "status": "completed"
    },
    "tags": []
   },
   "source": [
    "#### <font color=\"green\">Step - 3:  Predict From Model </font>"
   ]
  },
  {
   "cell_type": "code",
   "execution_count": 70,
   "id": "6793103d",
   "metadata": {
    "execution": {
     "iopub.execute_input": "2021-07-15T16:08:01.816775Z",
     "iopub.status.busy": "2021-07-15T16:08:01.815699Z",
     "iopub.status.idle": "2021-07-15T16:08:01.861167Z",
     "shell.execute_reply": "2021-07-15T16:08:01.862091Z",
     "shell.execute_reply.started": "2021-07-15T16:05:45.271428Z"
    },
    "papermill": {
     "duration": 0.166807,
     "end_time": "2021-07-15T16:08:01.862407",
     "exception": false,
     "start_time": "2021-07-15T16:08:01.695600",
     "status": "completed"
    },
    "tags": []
   },
   "outputs": [],
   "source": [
    "## create final logistic model\n",
    "X_Train_sm  = sm.add_constant(X_Train[cols])\n",
    "logsm = sm.GLM(Y_Train , X_Train_sm , family=sm.families.Binomial())\n",
    "res = logsm.fit()"
   ]
  },
  {
   "cell_type": "code",
   "execution_count": 71,
   "id": "7abe524a",
   "metadata": {
    "execution": {
     "iopub.execute_input": "2021-07-15T16:08:02.144575Z",
     "iopub.status.busy": "2021-07-15T16:08:02.143489Z",
     "iopub.status.idle": "2021-07-15T16:08:02.155596Z",
     "shell.execute_reply": "2021-07-15T16:08:02.156669Z",
     "shell.execute_reply.started": "2021-07-15T16:05:45.429894Z"
    },
    "papermill": {
     "duration": 0.131157,
     "end_time": "2021-07-15T16:08:02.156952",
     "exception": false,
     "start_time": "2021-07-15T16:08:02.025795",
     "status": "completed"
    },
    "tags": []
   },
   "outputs": [
    {
     "data": {
      "text/plain": [
       "1871    0.35\n",
       "6795    0.29\n",
       "3516    0.40\n",
       "8105    0.84\n",
       "3934    0.21\n",
       "dtype: float64"
      ]
     },
     "execution_count": 71,
     "metadata": {},
     "output_type": "execute_result"
    }
   ],
   "source": [
    "### predict Y and round % to 2 decimal value\n",
    "Y_Train_Predict = res.predict(X_Train_sm)\n",
    "Y_Train_Predict = round(Y_Train_Predict , 2)\n",
    "Y_Train_Predict.head()"
   ]
  },
  {
   "cell_type": "code",
   "execution_count": 72,
   "id": "e0a6051e",
   "metadata": {
    "execution": {
     "iopub.execute_input": "2021-07-15T16:08:02.449105Z",
     "iopub.status.busy": "2021-07-15T16:08:02.448120Z",
     "iopub.status.idle": "2021-07-15T16:08:02.452459Z",
     "shell.execute_reply": "2021-07-15T16:08:02.452974Z",
     "shell.execute_reply.started": "2021-07-15T16:05:45.472467Z"
    },
    "papermill": {
     "duration": 0.132885,
     "end_time": "2021-07-15T16:08:02.453148",
     "exception": false,
     "start_time": "2021-07-15T16:08:02.320263",
     "status": "completed"
    },
    "tags": []
   },
   "outputs": [
    {
     "data": {
      "text/html": [
       "<div>\n",
       "<style scoped>\n",
       "    .dataframe tbody tr th:only-of-type {\n",
       "        vertical-align: middle;\n",
       "    }\n",
       "\n",
       "    .dataframe tbody tr th {\n",
       "        vertical-align: top;\n",
       "    }\n",
       "\n",
       "    .dataframe thead th {\n",
       "        text-align: right;\n",
       "    }\n",
       "</style>\n",
       "<table border=\"1\" class=\"dataframe\">\n",
       "  <thead>\n",
       "    <tr style=\"text-align: right;\">\n",
       "      <th></th>\n",
       "      <th>Churn_Original</th>\n",
       "      <th>Churn_Probability</th>\n",
       "    </tr>\n",
       "  </thead>\n",
       "  <tbody>\n",
       "    <tr>\n",
       "      <th>1871</th>\n",
       "      <td>0</td>\n",
       "      <td>0.35</td>\n",
       "    </tr>\n",
       "    <tr>\n",
       "      <th>6795</th>\n",
       "      <td>0</td>\n",
       "      <td>0.29</td>\n",
       "    </tr>\n",
       "    <tr>\n",
       "      <th>3516</th>\n",
       "      <td>0</td>\n",
       "      <td>0.40</td>\n",
       "    </tr>\n",
       "    <tr>\n",
       "      <th>8105</th>\n",
       "      <td>0</td>\n",
       "      <td>0.84</td>\n",
       "    </tr>\n",
       "    <tr>\n",
       "      <th>3934</th>\n",
       "      <td>0</td>\n",
       "      <td>0.21</td>\n",
       "    </tr>\n",
       "  </tbody>\n",
       "</table>\n",
       "</div>"
      ],
      "text/plain": [
       "      Churn_Original  Churn_Probability\n",
       "1871               0               0.35\n",
       "6795               0               0.29\n",
       "3516               0               0.40\n",
       "8105               0               0.84\n",
       "3934               0               0.21"
      ]
     },
     "execution_count": 72,
     "metadata": {},
     "output_type": "execute_result"
    }
   ],
   "source": [
    "### making the dataframe to check model stregth \n",
    "\n",
    "Y_Train_Predict_Final = pd.DataFrame({\"Churn_Original\": Y_Train.values , \"Churn_Probability\": Y_Train_Predict})\n",
    "Y_Train_Predict_Final.head()"
   ]
  },
  {
   "cell_type": "code",
   "execution_count": 73,
   "id": "b0b77755",
   "metadata": {
    "execution": {
     "iopub.execute_input": "2021-07-15T16:08:02.682697Z",
     "iopub.status.busy": "2021-07-15T16:08:02.681984Z",
     "iopub.status.idle": "2021-07-15T16:08:02.694988Z",
     "shell.execute_reply": "2021-07-15T16:08:02.695544Z",
     "shell.execute_reply.started": "2021-07-15T16:05:45.523330Z"
    },
    "papermill": {
     "duration": 0.129655,
     "end_time": "2021-07-15T16:08:02.695761",
     "exception": false,
     "start_time": "2021-07-15T16:08:02.566106",
     "status": "completed"
    },
    "tags": []
   },
   "outputs": [
    {
     "data": {
      "text/html": [
       "<div>\n",
       "<style scoped>\n",
       "    .dataframe tbody tr th:only-of-type {\n",
       "        vertical-align: middle;\n",
       "    }\n",
       "\n",
       "    .dataframe tbody tr th {\n",
       "        vertical-align: top;\n",
       "    }\n",
       "\n",
       "    .dataframe thead th {\n",
       "        text-align: right;\n",
       "    }\n",
       "</style>\n",
       "<table border=\"1\" class=\"dataframe\">\n",
       "  <thead>\n",
       "    <tr style=\"text-align: right;\">\n",
       "      <th></th>\n",
       "      <th>Customer_ID</th>\n",
       "      <th>Churn_Original</th>\n",
       "      <th>Churn_Probability</th>\n",
       "    </tr>\n",
       "  </thead>\n",
       "  <tbody>\n",
       "    <tr>\n",
       "      <th>1871</th>\n",
       "      <td>1871</td>\n",
       "      <td>0</td>\n",
       "      <td>0.35</td>\n",
       "    </tr>\n",
       "    <tr>\n",
       "      <th>6795</th>\n",
       "      <td>6795</td>\n",
       "      <td>0</td>\n",
       "      <td>0.29</td>\n",
       "    </tr>\n",
       "    <tr>\n",
       "      <th>3516</th>\n",
       "      <td>3516</td>\n",
       "      <td>0</td>\n",
       "      <td>0.40</td>\n",
       "    </tr>\n",
       "    <tr>\n",
       "      <th>8105</th>\n",
       "      <td>8105</td>\n",
       "      <td>0</td>\n",
       "      <td>0.84</td>\n",
       "    </tr>\n",
       "    <tr>\n",
       "      <th>3934</th>\n",
       "      <td>3934</td>\n",
       "      <td>0</td>\n",
       "      <td>0.21</td>\n",
       "    </tr>\n",
       "  </tbody>\n",
       "</table>\n",
       "</div>"
      ],
      "text/plain": [
       "      Customer_ID  Churn_Original  Churn_Probability\n",
       "1871         1871               0               0.35\n",
       "6795         6795               0               0.29\n",
       "3516         3516               0               0.40\n",
       "8105         8105               0               0.84\n",
       "3934         3934               0               0.21"
      ]
     },
     "execution_count": 73,
     "metadata": {},
     "output_type": "execute_result"
    }
   ],
   "source": [
    "Y_Train_Predict_Final[\"Customer_ID\"] = Y_Train.index\n",
    "Y_Train_Predict_Final = Y_Train_Predict_Final[[\"Customer_ID\" , \"Churn_Original\" , \"Churn_Probability\"]]\n",
    "\n",
    "Y_Train_Predict_Final.head()"
   ]
  },
  {
   "cell_type": "markdown",
   "id": "43eb7a77",
   "metadata": {
    "papermill": {
     "duration": 0.114682,
     "end_time": "2021-07-15T16:08:02.926124",
     "exception": false,
     "start_time": "2021-07-15T16:08:02.811442",
     "status": "completed"
    },
    "tags": []
   },
   "source": [
    "<br>"
   ]
  },
  {
   "cell_type": "markdown",
   "id": "195bf428",
   "metadata": {
    "papermill": {
     "duration": 0.115249,
     "end_time": "2021-07-15T16:08:03.158552",
     "exception": false,
     "start_time": "2021-07-15T16:08:03.043303",
     "status": "completed"
    },
    "tags": []
   },
   "source": [
    "#### <font color=\"green\">Step - 4:  Checking Matrix table for different threshold </font>"
   ]
  },
  {
   "cell_type": "code",
   "execution_count": 74,
   "id": "a7af123f",
   "metadata": {
    "execution": {
     "iopub.execute_input": "2021-07-15T16:08:03.394183Z",
     "iopub.status.busy": "2021-07-15T16:08:03.393475Z",
     "iopub.status.idle": "2021-07-15T16:08:03.405791Z",
     "shell.execute_reply": "2021-07-15T16:08:03.406273Z",
     "shell.execute_reply.started": "2021-07-15T16:05:45.576630Z"
    },
    "papermill": {
     "duration": 0.134146,
     "end_time": "2021-07-15T16:08:03.406486",
     "exception": false,
     "start_time": "2021-07-15T16:08:03.272340",
     "status": "completed"
    },
    "tags": []
   },
   "outputs": [],
   "source": [
    "### will calculate and return for each cutoff prob what will be the matix\n",
    "\n",
    "def model_strength(predict_df):\n",
    "    model_strength_df = pd.DataFrame(columns=[\"Probability_Threshold\",\"Sensivity\",\"Specificity\",\"Accuracy\",\"FPR\",\"TPR\",\"Precision\",\"Recall\",\"F1_score\"])\n",
    "    prob_list = [float(x)/100 for x in range(100)]\n",
    "    for prob in prob_list:\n",
    "        predict_df[\"Churn_Predicted\"] = predict_df[\"Churn_Probability\"].map(lambda x: 1 if x > prob else 0)\n",
    "        confusion = metrics.confusion_matrix(predict_df[\"Churn_Original\"] ,predict_df[\"Churn_Predicted\"])\n",
    "        \n",
    "        sensivity = round((confusion[1,1]  / (confusion[1,0] + confusion[1,1])) , 2)\n",
    "        specificity = round((confusion[0,0]  / (confusion[0,0] + confusion[0,1])) , 2)\n",
    "        accuracy = round(((confusion[0,0] + confusion[1,1]) / (confusion[0,0] +confusion[0,1]+confusion[1,1]+ confusion[0,1])) , 2)\n",
    "        FPR = 1 - specificity\n",
    "        TPR = sensivity\n",
    "        \n",
    "        precision = round((confusion[1,1] / (confusion[0,1] + confusion[1,1])) , 2)\n",
    "        recall = round((confusion[1,1] / (confusion[1,0] + confusion[1,1])) , 2)\n",
    "        \n",
    "        F1_score = round((2 * ((precision * recall) / (precision + recall))),2)\n",
    "        \n",
    "        model_strength_df = model_strength_df.append({\"Probability_Threshold\":prob, \"Sensivity\":sensivity, \"Specificity\": specificity ,\"Accuracy\":accuracy ,\"FPR\": FPR,\"TPR\":TPR ,\"Precision\":precision,\"Recall\":recall ,\"F1_score\":F1_score} , ignore_index=True)\n",
    "        \n",
    "    return model_strength_df\n",
    "    "
   ]
  },
  {
   "cell_type": "code",
   "execution_count": 75,
   "id": "dafa5fbc",
   "metadata": {
    "execution": {
     "iopub.execute_input": "2021-07-15T16:08:03.643715Z",
     "iopub.status.busy": "2021-07-15T16:08:03.642960Z",
     "iopub.status.idle": "2021-07-15T16:08:05.345587Z",
     "shell.execute_reply": "2021-07-15T16:08:05.344600Z",
     "shell.execute_reply.started": "2021-07-15T16:05:45.594606Z"
    },
    "papermill": {
     "duration": 1.823976,
     "end_time": "2021-07-15T16:08:05.345802",
     "exception": false,
     "start_time": "2021-07-15T16:08:03.521826",
     "status": "completed"
    },
    "tags": []
   },
   "outputs": [
    {
     "name": "stdout",
     "output_type": "stream",
     "text": [
      "    Probability_Threshold  Sensivity  Specificity  Accuracy   FPR   TPR  Precision  Recall  F1_score\n",
      "0                    0.00       1.00         0.00      0.24  1.00  1.00       0.38    1.00      0.55\n",
      "1                    0.01       1.00         0.03      0.25  0.97  1.00       0.39    1.00      0.56\n",
      "2                    0.02       1.00         0.07      0.27  0.93  1.00       0.40    1.00      0.57\n",
      "3                    0.03       1.00         0.10      0.29  0.90  1.00       0.41    1.00      0.58\n",
      "4                    0.04       0.99         0.19      0.33  0.81  0.99       0.43    0.99      0.60\n",
      "5                    0.05       0.99         0.21      0.34  0.79  0.99       0.44    0.99      0.61\n",
      "6                    0.06       0.99         0.26      0.37  0.74  0.99       0.45    0.99      0.62\n",
      "7                    0.07       0.98         0.32      0.40  0.68  0.98       0.47    0.98      0.64\n",
      "8                    0.08       0.98         0.37      0.43  0.63  0.98       0.49    0.98      0.65\n",
      "9                    0.09       0.97         0.40      0.45  0.60  0.97       0.50    0.97      0.66\n",
      "10                   0.10       0.97         0.45      0.49  0.55  0.97       0.52    0.97      0.68\n",
      "11                   0.11       0.97         0.46      0.50  0.54  0.97       0.53    0.97      0.69\n",
      "12                   0.12       0.96         0.49      0.51  0.51  0.96       0.54    0.96      0.69\n",
      "13                   0.13       0.96         0.50      0.52  0.50  0.96       0.54    0.96      0.69\n",
      "14                   0.14       0.95         0.53      0.54  0.47  0.95       0.55    0.95      0.70\n",
      "15                   0.15       0.95         0.55      0.56  0.45  0.95       0.57    0.95      0.71\n",
      "16                   0.16       0.94         0.60      0.60  0.40  0.94       0.59    0.94      0.72\n",
      "17                   0.17       0.93         0.62      0.61  0.38  0.93       0.60    0.93      0.73\n",
      "18                   0.18       0.92         0.64      0.63  0.36  0.92       0.61    0.92      0.73\n",
      "19                   0.19       0.92         0.66      0.64  0.34  0.92       0.62    0.92      0.74\n",
      "20                   0.20       0.91         0.67      0.65  0.33  0.91       0.63    0.91      0.74\n",
      "21                   0.21       0.90         0.69      0.67  0.31  0.90       0.64    0.90      0.75\n",
      "22                   0.22       0.90         0.70      0.68  0.30  0.90       0.65    0.90      0.75\n",
      "23                   0.23       0.89         0.71      0.69  0.29  0.89       0.66    0.89      0.76\n",
      "24                   0.24       0.89         0.72      0.70  0.28  0.89       0.66    0.89      0.76\n",
      "25                   0.25       0.88         0.73      0.70  0.27  0.88       0.67    0.88      0.76\n",
      "26                   0.26       0.88         0.74      0.71  0.26  0.88       0.68    0.88      0.77\n",
      "27                   0.27       0.88         0.75      0.72  0.25  0.88       0.68    0.88      0.77\n",
      "28                   0.28       0.87         0.75      0.72  0.25  0.87       0.68    0.87      0.76\n",
      "29                   0.29       0.87         0.76      0.73  0.24  0.87       0.69    0.87      0.77\n",
      "30                   0.30       0.87         0.76      0.73  0.24  0.87       0.69    0.87      0.77\n",
      "31                   0.31       0.86         0.77      0.74  0.23  0.86       0.70    0.86      0.77\n",
      "32                   0.32       0.86         0.77      0.74  0.23  0.86       0.70    0.86      0.77\n",
      "33                   0.33       0.85         0.78      0.75  0.22  0.85       0.70    0.85      0.77\n",
      "34                   0.34       0.84         0.79      0.75  0.21  0.84       0.71    0.84      0.77\n",
      "35                   0.35       0.81         0.81      0.78  0.19  0.81       0.72    0.81      0.76\n",
      "36                   0.36       0.79         0.82      0.78  0.18  0.79       0.73    0.79      0.76\n",
      "37                   0.37       0.78         0.83      0.79  0.17  0.78       0.73    0.78      0.75\n",
      "38                   0.38       0.78         0.83      0.80  0.17  0.78       0.74    0.78      0.76\n",
      "39                   0.39       0.77         0.84      0.80  0.16  0.77       0.75    0.77      0.76\n",
      "40                   0.40       0.76         0.84      0.81  0.16  0.76       0.75    0.76      0.75\n",
      "41                   0.41       0.75         0.85      0.81  0.15  0.75       0.75    0.75      0.75\n",
      "42                   0.42       0.75         0.85      0.82  0.15  0.75       0.76    0.75      0.75\n",
      "43                   0.43       0.74         0.86      0.82  0.14  0.74       0.76    0.74      0.75\n",
      "44                   0.44       0.73         0.86      0.83  0.14  0.73       0.77    0.73      0.75\n",
      "45                   0.45       0.72         0.87      0.84  0.13  0.72       0.77    0.72      0.74\n",
      "46                   0.46       0.72         0.87      0.84  0.13  0.72       0.78    0.72      0.75\n",
      "47                   0.47       0.71         0.88      0.85  0.12  0.71       0.79    0.71      0.75\n",
      "48                   0.48       0.70         0.89      0.85  0.11  0.70       0.79    0.70      0.74\n",
      "49                   0.49       0.70         0.89      0.86  0.11  0.70       0.80    0.70      0.75\n",
      "50                   0.50       0.69         0.89      0.86  0.11  0.69       0.80    0.69      0.74\n",
      "51                   0.51       0.68         0.90      0.87  0.10  0.68       0.80    0.68      0.74\n",
      "52                   0.52       0.68         0.90      0.87  0.10  0.68       0.81    0.68      0.74\n",
      "53                   0.53       0.67         0.90      0.87  0.10  0.67       0.81    0.67      0.73\n",
      "54                   0.54       0.66         0.90      0.87  0.10  0.66       0.81    0.66      0.73\n",
      "55                   0.55       0.66         0.91      0.87  0.09  0.66       0.81    0.66      0.73\n",
      "56                   0.56       0.65         0.91      0.88  0.09  0.65       0.82    0.65      0.73\n",
      "57                   0.57       0.65         0.91      0.88  0.09  0.65       0.82    0.65      0.73\n",
      "58                   0.58       0.64         0.92      0.89  0.08  0.64       0.82    0.64      0.72\n",
      "59                   0.59       0.64         0.92      0.89  0.08  0.64       0.83    0.64      0.72\n",
      "60                   0.60       0.63         0.92      0.89  0.08  0.63       0.83    0.63      0.72\n",
      "61                   0.61       0.62         0.92      0.89  0.08  0.62       0.83    0.62      0.71\n",
      "62                   0.62       0.61         0.92      0.89  0.08  0.61       0.83    0.61      0.70\n",
      "63                   0.63       0.57         0.93      0.90  0.07  0.57       0.84    0.57      0.68\n",
      "64                   0.64       0.56         0.93      0.91  0.07  0.56       0.84    0.56      0.67\n",
      "65                   0.65       0.55         0.94      0.91  0.06  0.55       0.84    0.55      0.66\n",
      "66                   0.66       0.55         0.94      0.91  0.06  0.55       0.84    0.55      0.66\n",
      "67                   0.67       0.54         0.94      0.91  0.06  0.54       0.84    0.54      0.66\n",
      "68                   0.68       0.54         0.94      0.91  0.06  0.54       0.85    0.54      0.66\n",
      "69                   0.69       0.53         0.94      0.92  0.06  0.53       0.85    0.53      0.65\n",
      "70                   0.70       0.52         0.94      0.92  0.06  0.52       0.85    0.52      0.65\n",
      "71                   0.71       0.51         0.95      0.92  0.05  0.51       0.86    0.51      0.64\n",
      "72                   0.72       0.51         0.95      0.93  0.05  0.51       0.86    0.51      0.64\n",
      "73                   0.73       0.50         0.95      0.93  0.05  0.50       0.86    0.50      0.63\n",
      "74                   0.74       0.49         0.95      0.93  0.05  0.49       0.87    0.49      0.63\n",
      "75                   0.75       0.47         0.96      0.93  0.04  0.47       0.87    0.47      0.61\n",
      "76                   0.76       0.46         0.96      0.94  0.04  0.46       0.87    0.46      0.60\n",
      "77                   0.77       0.45         0.96      0.94  0.04  0.45       0.87    0.45      0.59\n",
      "78                   0.78       0.44         0.96      0.94  0.04  0.44       0.88    0.44      0.59\n",
      "79                   0.79       0.44         0.97      0.95  0.03  0.44       0.89    0.44      0.59\n",
      "80                   0.80       0.43         0.97      0.95  0.03  0.43       0.89    0.43      0.58\n",
      "81                   0.81       0.42         0.97      0.96  0.03  0.42       0.90    0.42      0.57\n",
      "82                   0.82       0.41         0.97      0.96  0.03  0.41       0.91    0.41      0.57\n",
      "83                   0.83       0.39         0.98      0.96  0.02  0.39       0.91    0.39      0.55\n",
      "84                   0.84       0.38         0.98      0.96  0.02  0.38       0.91    0.38      0.54\n",
      "85                   0.85       0.37         0.98      0.96  0.02  0.37       0.91    0.37      0.53\n",
      "86                   0.86       0.32         0.98      0.97  0.02  0.32       0.91    0.32      0.47\n",
      "87                   0.87       0.31         0.98      0.97  0.02  0.31       0.92    0.31      0.46\n",
      "88                   0.88       0.29         0.99      0.98  0.01  0.29       0.93    0.29      0.44\n",
      "89                   0.89       0.28         0.99      0.98  0.01  0.28       0.93    0.28      0.43\n",
      "90                   0.90       0.25         0.99      0.98  0.01  0.25       0.93    0.25      0.39\n",
      "91                   0.91       0.23         0.99      0.98  0.01  0.23       0.93    0.23      0.37\n",
      "92                   0.92       0.22         0.99      0.98  0.01  0.22       0.94    0.22      0.36\n",
      "93                   0.93       0.21         0.99      0.99  0.01  0.21       0.94    0.21      0.34\n",
      "94                   0.94       0.20         0.99      0.99  0.01  0.20       0.95    0.20      0.33\n",
      "95                   0.95       0.14         1.00      0.99  0.00  0.14       0.96    0.14      0.24\n",
      "96                   0.96       0.12         1.00      1.00  0.00  0.12       0.97    0.12      0.21\n",
      "97                   0.97       0.10         1.00      1.00  0.00  0.10       0.98    0.10      0.18\n",
      "98                   0.98       0.08         1.00      1.00  0.00  0.08       0.98    0.08      0.15\n",
      "99                   0.99       0.03         1.00      1.00  0.00  0.03       0.99    0.03      0.06\n"
     ]
    }
   ],
   "source": [
    "### checking model metrices now\n",
    "pd.set_option('expand_frame_repr', False)\n",
    "### settting max display column length\n",
    "pd.set_option(\"display.max_rows\",101)\n",
    "model_strength_df = model_strength(Y_Train_Predict_Final)\n",
    "print(model_strength_df)\n",
    "pd.set_option(\"display.max_rows\",11)"
   ]
  },
  {
   "cell_type": "markdown",
   "id": "4e75e833",
   "metadata": {
    "papermill": {
     "duration": 0.116279,
     "end_time": "2021-07-15T16:08:05.577648",
     "exception": false,
     "start_time": "2021-07-15T16:08:05.461369",
     "status": "completed"
    },
    "tags": []
   },
   "source": [
    "<br>"
   ]
  },
  {
   "cell_type": "markdown",
   "id": "94b25d45",
   "metadata": {
    "papermill": {
     "duration": 0.114375,
     "end_time": "2021-07-15T16:08:05.806031",
     "exception": false,
     "start_time": "2021-07-15T16:08:05.691656",
     "status": "completed"
    },
    "tags": []
   },
   "source": [
    "#### <font color=\"green\">Step - 5:  Create Sensivity , Specificity & Accuracy Curve</font>"
   ]
  },
  {
   "cell_type": "code",
   "execution_count": 76,
   "id": "3e2ee344",
   "metadata": {
    "execution": {
     "iopub.execute_input": "2021-07-15T16:08:06.098711Z",
     "iopub.status.busy": "2021-07-15T16:08:06.086821Z",
     "iopub.status.idle": "2021-07-15T16:08:06.255369Z",
     "shell.execute_reply": "2021-07-15T16:08:06.254709Z",
     "shell.execute_reply.started": "2021-07-15T16:05:47.337778Z"
    },
    "papermill": {
     "duration": 0.334093,
     "end_time": "2021-07-15T16:08:06.255513",
     "exception": false,
     "start_time": "2021-07-15T16:08:05.921420",
     "status": "completed"
    },
    "tags": []
   },
   "outputs": [
    {
     "data": {
      "image/png": "[encoded data removed]",
      "text/plain": [
       "<Figure size 864x576 with 1 Axes>"
      ]
     },
     "metadata": {
      "needs_background": "light"
     },
     "output_type": "display_data"
    }
   ],
   "source": [
    "fig = plt.figure(figsize=(12,8))\n",
    "fig.suptitle('Sensivity , Specificity , Accuracy vs Probability_Threshold')\n",
    "plt.plot(model_strength_df[\"Probability_Threshold\"] , model_strength_df[\"Sensivity\"] , \"g-\" ,  label='Sensivity')\n",
    "plt.plot(model_strength_df[\"Probability_Threshold\"] , model_strength_df[\"Specificity\"] , \"r-\" ,  label='Specificity')\n",
    "plt.plot(model_strength_df[\"Probability_Threshold\"] , model_strength_df[\"Accuracy\"] ,\"b-\",  label='Accuracy')\n",
    "plt.legend()\n",
    "plt.show()"
   ]
  },
  {
   "cell_type": "markdown",
   "id": "ceed267c",
   "metadata": {
    "papermill": {
     "duration": 0.115084,
     "end_time": "2021-07-15T16:08:06.485568",
     "exception": false,
     "start_time": "2021-07-15T16:08:06.370484",
     "status": "completed"
    },
    "tags": []
   },
   "source": [
    "#### <font color=\"green\">Step - 6:  Precision vs Recall curve</font>"
   ]
  },
  {
   "cell_type": "code",
   "execution_count": 77,
   "id": "b9a95126",
   "metadata": {
    "execution": {
     "iopub.execute_input": "2021-07-15T16:08:06.754750Z",
     "iopub.status.busy": "2021-07-15T16:08:06.753704Z",
     "iopub.status.idle": "2021-07-15T16:08:06.918689Z",
     "shell.execute_reply": "2021-07-15T16:08:06.917995Z",
     "shell.execute_reply.started": "2021-07-15T16:05:47.566115Z"
    },
    "papermill": {
     "duration": 0.316522,
     "end_time": "2021-07-15T16:08:06.918852",
     "exception": false,
     "start_time": "2021-07-15T16:08:06.602330",
     "status": "completed"
    },
    "tags": []
   },
   "outputs": [
    {
     "data": {
      "image/png": "[encoded data removed]",
      "text/plain": [
       "<Figure size 864x576 with 1 Axes>"
      ]
     },
     "metadata": {
      "needs_background": "light"
     },
     "output_type": "display_data"
    }
   ],
   "source": [
    "fig = plt.figure(figsize=(12,8))\n",
    "fig.suptitle('Precision Recall vs Probability_Threshold')\n",
    "plt.plot(model_strength_df[\"Probability_Threshold\"] , model_strength_df[\"Precision\"] , \"g-\" ,  label='Precision')\n",
    "plt.plot(model_strength_df[\"Probability_Threshold\"] , model_strength_df[\"Recall\"] , \"r-\" ,  label='Recall')\n",
    "plt.legend()\n",
    "plt.show()"
   ]
  },
  {
   "cell_type": "markdown",
   "id": "b93adae8",
   "metadata": {
    "papermill": {
     "duration": 0.124887,
     "end_time": "2021-07-15T16:08:07.165043",
     "exception": false,
     "start_time": "2021-07-15T16:08:07.040156",
     "status": "completed"
    },
    "tags": []
   },
   "source": [
    "<br>"
   ]
  },
  {
   "cell_type": "markdown",
   "id": "15708520",
   "metadata": {
    "papermill": {
     "duration": 0.120056,
     "end_time": "2021-07-15T16:08:07.410052",
     "exception": false,
     "start_time": "2021-07-15T16:08:07.289996",
     "status": "completed"
    },
    "tags": []
   },
   "source": [
    "#### <font color=\"green\">Step - 7:  ROC Curve</font>"
   ]
  },
  {
   "cell_type": "code",
   "execution_count": 78,
   "id": "4d9fc2f0",
   "metadata": {
    "execution": {
     "iopub.execute_input": "2021-07-15T16:08:07.665612Z",
     "iopub.status.busy": "2021-07-15T16:08:07.664904Z",
     "iopub.status.idle": "2021-07-15T16:08:07.667815Z",
     "shell.execute_reply": "2021-07-15T16:08:07.668508Z",
     "shell.execute_reply.started": "2021-07-15T16:05:47.775889Z"
    },
    "papermill": {
     "duration": 0.134398,
     "end_time": "2021-07-15T16:08:07.668716",
     "exception": false,
     "start_time": "2021-07-15T16:08:07.534318",
     "status": "completed"
    },
    "tags": []
   },
   "outputs": [],
   "source": [
    "def draw_ROC(actual,predicted):\n",
    "    fpr,tpr,threshold = metrics.roc_curve(actual,predicted, drop_intermediate=False)\n",
    "    auc_score = metrics.roc_auc_score(actual,predicted)\n",
    "    \n",
    "    plt.figure(figsize=(12,8))\n",
    "    plt.plot(fpr,tpr,label=\"ROC_Curve (area = %0.2f)\"%auc_score)\n",
    "    plt.plot([0,1],[0,1],\"k--\")\n",
    "    plt.xlim([0.0,1.0])\n",
    "    plt.ylim([0.0,1.05])\n",
    "    plt.xlabel(\"False Positive Rate\")\n",
    "    plt.ylabel(\"True Positive Rate\")\n",
    "    plt.title(\"ROC Curve\")\n",
    "    plt.legend(loc=\"lower right\")\n",
    "    plt.show()"
   ]
  },
  {
   "cell_type": "code",
   "execution_count": 79,
   "id": "5c79c9e2",
   "metadata": {
    "execution": {
     "iopub.execute_input": "2021-07-15T16:08:07.913221Z",
     "iopub.status.busy": "2021-07-15T16:08:07.912468Z",
     "iopub.status.idle": "2021-07-15T16:08:08.100137Z",
     "shell.execute_reply": "2021-07-15T16:08:08.100626Z",
     "shell.execute_reply.started": "2021-07-15T16:05:47.787941Z"
    },
    "papermill": {
     "duration": 0.313223,
     "end_time": "2021-07-15T16:08:08.100808",
     "exception": false,
     "start_time": "2021-07-15T16:08:07.787585",
     "status": "completed"
    },
    "tags": []
   },
   "outputs": [
    {
     "data": {
      "image/png": "[encoded data removed]",
      "text/plain": [
       "<Figure size 864x576 with 1 Axes>"
      ]
     },
     "metadata": {
      "needs_background": "light"
     },
     "output_type": "display_data"
    }
   ],
   "source": [
    "draw_ROC(Y_Train_Predict_Final[\"Churn_Original\"] ,Y_Train_Predict_Final[\"Churn_Probability\"])"
   ]
  },
  {
   "cell_type": "markdown",
   "id": "c80665b9",
   "metadata": {
    "papermill": {
     "duration": 0.143059,
     "end_time": "2021-07-15T16:08:08.381757",
     "exception": false,
     "start_time": "2021-07-15T16:08:08.238698",
     "status": "completed"
    },
    "tags": []
   },
   "source": [
    "### <font color=\"blue\">From the above ROC curve which has <font color=\"green\">89%</font> area under it indicates the model is of good strength</font>"
   ]
  },
  {
   "cell_type": "markdown",
   "id": "5a2620ec",
   "metadata": {
    "papermill": {
     "duration": 0.123129,
     "end_time": "2021-07-15T16:08:08.625291",
     "exception": false,
     "start_time": "2021-07-15T16:08:08.502162",
     "status": "completed"
    },
    "tags": []
   },
   "source": [
    "### <font color=\"blue\">From the above 3 metrices graphs above its clear to set the threshold probability for Churn is at </font> <font color=\"green\">best at 0.35</font>  <font color=\"blue\">where Recall is above 80% as per business requirement</font> "
   ]
  },
  {
   "cell_type": "markdown",
   "id": "f37cd789",
   "metadata": {
    "papermill": {
     "duration": 0.119284,
     "end_time": "2021-07-15T16:08:08.862370",
     "exception": false,
     "start_time": "2021-07-15T16:08:08.743086",
     "status": "completed"
    },
    "tags": []
   },
   "source": [
    "<br>"
   ]
  },
  {
   "cell_type": "markdown",
   "id": "e4f3abe8",
   "metadata": {
    "papermill": {
     "duration": 0.1192,
     "end_time": "2021-07-15T16:08:09.098907",
     "exception": false,
     "start_time": "2021-07-15T16:08:08.979707",
     "status": "completed"
    },
    "tags": []
   },
   "source": [
    "#### <font color=\"green\">Step - 8:  Checking how this threshold works in Test set</font>"
   ]
  },
  {
   "cell_type": "code",
   "execution_count": 80,
   "id": "f0222f29",
   "metadata": {
    "execution": {
     "iopub.execute_input": "2021-07-15T16:08:09.355361Z",
     "iopub.status.busy": "2021-07-15T16:08:09.354404Z",
     "iopub.status.idle": "2021-07-15T16:08:09.360269Z",
     "shell.execute_reply": "2021-07-15T16:08:09.359589Z",
     "shell.execute_reply.started": "2021-07-15T16:05:47.991530Z"
    },
    "papermill": {
     "duration": 0.14235,
     "end_time": "2021-07-15T16:08:09.360434",
     "exception": false,
     "start_time": "2021-07-15T16:08:09.218084",
     "status": "completed"
    },
    "tags": []
   },
   "outputs": [
    {
     "data": {
      "text/html": [
       "<div>\n",
       "<style scoped>\n",
       "    .dataframe tbody tr th:only-of-type {\n",
       "        vertical-align: middle;\n",
       "    }\n",
       "\n",
       "    .dataframe tbody tr th {\n",
       "        vertical-align: top;\n",
       "    }\n",
       "\n",
       "    .dataframe thead th {\n",
       "        text-align: right;\n",
       "    }\n",
       "</style>\n",
       "<table border=\"1\" class=\"dataframe\">\n",
       "  <thead>\n",
       "    <tr style=\"text-align: right;\">\n",
       "      <th></th>\n",
       "      <th>Do Not Email</th>\n",
       "      <th>Total Time Spent on Website</th>\n",
       "      <th>What matters most to you in choosing a course_Not Specified</th>\n",
       "      <th>What is your current occupation_Working Professional</th>\n",
       "      <th>Lead Origin_Lead Add Form</th>\n",
       "      <th>Lead Source_Olark Chat</th>\n",
       "      <th>Last Activity_Olark Chat Conversation</th>\n",
       "      <th>Last Activity_Others</th>\n",
       "      <th>Last Activity_SMS Sent</th>\n",
       "      <th>Last Notable Activity_Modified</th>\n",
       "    </tr>\n",
       "  </thead>\n",
       "  <tbody>\n",
       "    <tr>\n",
       "      <th>4269</th>\n",
       "      <td>0</td>\n",
       "      <td>0.964504</td>\n",
       "      <td>1</td>\n",
       "      <td>0</td>\n",
       "      <td>0</td>\n",
       "      <td>0</td>\n",
       "      <td>0</td>\n",
       "      <td>0</td>\n",
       "      <td>1</td>\n",
       "      <td>0</td>\n",
       "    </tr>\n",
       "    <tr>\n",
       "      <th>2376</th>\n",
       "      <td>0</td>\n",
       "      <td>-0.885371</td>\n",
       "      <td>0</td>\n",
       "      <td>0</td>\n",
       "      <td>1</td>\n",
       "      <td>0</td>\n",
       "      <td>0</td>\n",
       "      <td>0</td>\n",
       "      <td>1</td>\n",
       "      <td>0</td>\n",
       "    </tr>\n",
       "    <tr>\n",
       "      <th>7766</th>\n",
       "      <td>0</td>\n",
       "      <td>-0.777416</td>\n",
       "      <td>0</td>\n",
       "      <td>1</td>\n",
       "      <td>0</td>\n",
       "      <td>0</td>\n",
       "      <td>0</td>\n",
       "      <td>1</td>\n",
       "      <td>0</td>\n",
       "      <td>0</td>\n",
       "    </tr>\n",
       "    <tr>\n",
       "      <th>9199</th>\n",
       "      <td>0</td>\n",
       "      <td>-0.885371</td>\n",
       "      <td>0</td>\n",
       "      <td>0</td>\n",
       "      <td>0</td>\n",
       "      <td>1</td>\n",
       "      <td>1</td>\n",
       "      <td>0</td>\n",
       "      <td>0</td>\n",
       "      <td>1</td>\n",
       "    </tr>\n",
       "    <tr>\n",
       "      <th>4359</th>\n",
       "      <td>0</td>\n",
       "      <td>-0.885371</td>\n",
       "      <td>0</td>\n",
       "      <td>0</td>\n",
       "      <td>1</td>\n",
       "      <td>0</td>\n",
       "      <td>0</td>\n",
       "      <td>0</td>\n",
       "      <td>0</td>\n",
       "      <td>0</td>\n",
       "    </tr>\n",
       "  </tbody>\n",
       "</table>\n",
       "</div>"
      ],
      "text/plain": [
       "      Do Not Email  Total Time Spent on Website  What matters most to you in choosing a course_Not Specified  What is your current occupation_Working Professional  Lead Origin_Lead Add Form  Lead Source_Olark Chat  Last Activity_Olark Chat Conversation  Last Activity_Others  Last Activity_SMS Sent  Last Notable Activity_Modified\n",
       "4269             0                     0.964504                                                  1                                                            0                             0                       0                                      0                     0                       1                               0\n",
       "2376             0                    -0.885371                                                  0                                                            0                             1                       0                                      0                     0                       1                               0\n",
       "7766             0                    -0.777416                                                  0                                                            1                             0                       0                                      0                     1                       0                               0\n",
       "9199             0                    -0.885371                                                  0                                                            0                             0                       1                                      1                     0                       0                               1\n",
       "4359             0                    -0.885371                                                  0                                                            0                             1                       0                                      0                     0                       0                               0"
      ]
     },
     "execution_count": 80,
     "metadata": {},
     "output_type": "execute_result"
    }
   ],
   "source": [
    "### checking the final colmuns to use in test set to predict\n",
    "X_Test[cols].head()"
   ]
  },
  {
   "cell_type": "code",
   "execution_count": 81,
   "id": "9bd1c6d8",
   "metadata": {
    "execution": {
     "iopub.execute_input": "2021-07-15T16:08:09.609853Z",
     "iopub.status.busy": "2021-07-15T16:08:09.608935Z",
     "iopub.status.idle": "2021-07-15T16:08:09.634410Z",
     "shell.execute_reply": "2021-07-15T16:08:09.633447Z",
     "shell.execute_reply.started": "2021-07-15T16:05:48.011963Z"
    },
    "papermill": {
     "duration": 0.15298,
     "end_time": "2021-07-15T16:08:09.634633",
     "exception": false,
     "start_time": "2021-07-15T16:08:09.481653",
     "status": "completed"
    },
    "tags": []
   },
   "outputs": [
    {
     "data": {
      "text/plain": [
       "4269    0.54\n",
       "2376    0.95\n",
       "7766    0.63\n",
       "9199    0.10\n",
       "4359    0.86\n",
       "dtype: float64"
      ]
     },
     "execution_count": 81,
     "metadata": {},
     "output_type": "execute_result"
    }
   ],
   "source": [
    "### Predict in Test Set\n",
    "X_Test_sm  = sm.add_constant(X_Test[cols])\n",
    "Y_Test_Predict = res.predict(X_Test_sm)\n",
    "Y_Test_Predict = round(Y_Test_Predict , 2)\n",
    "Y_Test_Predict.head()\n"
   ]
  },
  {
   "cell_type": "code",
   "execution_count": 82,
   "id": "944d8fd0",
   "metadata": {
    "execution": {
     "iopub.execute_input": "2021-07-15T16:08:09.923573Z",
     "iopub.status.busy": "2021-07-15T16:08:09.922597Z",
     "iopub.status.idle": "2021-07-15T16:08:09.936127Z",
     "shell.execute_reply": "2021-07-15T16:08:09.936714Z",
     "shell.execute_reply.started": "2021-07-15T16:05:48.038248Z"
    },
    "papermill": {
     "duration": 0.13907,
     "end_time": "2021-07-15T16:08:09.936884",
     "exception": false,
     "start_time": "2021-07-15T16:08:09.797814",
     "status": "completed"
    },
    "tags": []
   },
   "outputs": [
    {
     "data": {
      "text/html": [
       "<div>\n",
       "<style scoped>\n",
       "    .dataframe tbody tr th:only-of-type {\n",
       "        vertical-align: middle;\n",
       "    }\n",
       "\n",
       "    .dataframe tbody tr th {\n",
       "        vertical-align: top;\n",
       "    }\n",
       "\n",
       "    .dataframe thead th {\n",
       "        text-align: right;\n",
       "    }\n",
       "</style>\n",
       "<table border=\"1\" class=\"dataframe\">\n",
       "  <thead>\n",
       "    <tr style=\"text-align: right;\">\n",
       "      <th></th>\n",
       "      <th>Churn_Original</th>\n",
       "      <th>Churn_Probability</th>\n",
       "      <th>Churn_Predicted</th>\n",
       "    </tr>\n",
       "  </thead>\n",
       "  <tbody>\n",
       "    <tr>\n",
       "      <th>4269</th>\n",
       "      <td>1</td>\n",
       "      <td>0.54</td>\n",
       "      <td>1</td>\n",
       "    </tr>\n",
       "    <tr>\n",
       "      <th>2376</th>\n",
       "      <td>1</td>\n",
       "      <td>0.95</td>\n",
       "      <td>1</td>\n",
       "    </tr>\n",
       "    <tr>\n",
       "      <th>7766</th>\n",
       "      <td>1</td>\n",
       "      <td>0.63</td>\n",
       "      <td>1</td>\n",
       "    </tr>\n",
       "    <tr>\n",
       "      <th>9199</th>\n",
       "      <td>0</td>\n",
       "      <td>0.10</td>\n",
       "      <td>0</td>\n",
       "    </tr>\n",
       "    <tr>\n",
       "      <th>4359</th>\n",
       "      <td>1</td>\n",
       "      <td>0.86</td>\n",
       "      <td>1</td>\n",
       "    </tr>\n",
       "  </tbody>\n",
       "</table>\n",
       "</div>"
      ],
      "text/plain": [
       "      Churn_Original  Churn_Probability  Churn_Predicted\n",
       "4269               1               0.54                1\n",
       "2376               1               0.95                1\n",
       "7766               1               0.63                1\n",
       "9199               0               0.10                0\n",
       "4359               1               0.86                1"
      ]
     },
     "execution_count": 82,
     "metadata": {},
     "output_type": "execute_result"
    }
   ],
   "source": [
    "### making the dataframe to check model stregth at cutoff at 40%\n",
    "\n",
    "Y_Test_Predict_Final = pd.DataFrame({\"Churn_Original\": Y_Test.values , \"Churn_Probability\": Y_Test_Predict})\n",
    "Y_Test_Predict_Final[\"Churn_Predicted\"] = Y_Test_Predict_Final[\"Churn_Probability\"].map(lambda x: 1 if x > 0.35 else 0)\n",
    "Y_Test_Predict_Final.head()"
   ]
  },
  {
   "cell_type": "code",
   "execution_count": 83,
   "id": "cd6d8f8a",
   "metadata": {
    "execution": {
     "iopub.execute_input": "2021-07-15T16:08:10.191778Z",
     "iopub.status.busy": "2021-07-15T16:08:10.190783Z",
     "iopub.status.idle": "2021-07-15T16:08:10.198028Z",
     "shell.execute_reply": "2021-07-15T16:08:10.198610Z",
     "shell.execute_reply.started": "2021-07-15T16:05:48.071640Z"
    },
    "papermill": {
     "duration": 0.13208,
     "end_time": "2021-07-15T16:08:10.198784",
     "exception": false,
     "start_time": "2021-07-15T16:08:10.066704",
     "status": "completed"
    },
    "tags": []
   },
   "outputs": [
    {
     "data": {
      "text/plain": [
       "0.8152958152958153"
      ]
     },
     "execution_count": 83,
     "metadata": {},
     "output_type": "execute_result"
    }
   ],
   "source": [
    "### checking the accuracy score\n",
    "\n",
    "metrics.accuracy_score(Y_Test_Predict_Final[\"Churn_Original\"] ,Y_Test_Predict_Final[\"Churn_Predicted\"] )"
   ]
  },
  {
   "cell_type": "markdown",
   "id": "ed80c413",
   "metadata": {
    "papermill": {
     "duration": 0.135397,
     "end_time": "2021-07-15T16:08:10.454508",
     "exception": false,
     "start_time": "2021-07-15T16:08:10.319111",
     "status": "completed"
    },
    "tags": []
   },
   "source": [
    "<br>"
   ]
  },
  {
   "cell_type": "markdown",
   "id": "77015324",
   "metadata": {
    "papermill": {
     "duration": 0.13196,
     "end_time": "2021-07-15T16:08:10.730466",
     "exception": false,
     "start_time": "2021-07-15T16:08:10.598506",
     "status": "completed"
    },
    "tags": []
   },
   "source": [
    "### <font color=\"green\">  So we see the model works well in the test set as well at 0.35 threshold having 81% accuracy of prediction</font>"
   ]
  },
  {
   "cell_type": "markdown",
   "id": "6d9bb22b",
   "metadata": {
    "papermill": {
     "duration": 0.121312,
     "end_time": "2021-07-15T16:08:10.979471",
     "exception": false,
     "start_time": "2021-07-15T16:08:10.858159",
     "status": "completed"
    },
    "tags": []
   },
   "source": [
    "<br>\n",
    "<br>"
   ]
  },
  {
   "cell_type": "markdown",
   "id": "e13ceecb",
   "metadata": {
    "papermill": {
     "duration": 0.123215,
     "end_time": "2021-07-15T16:08:11.226985",
     "exception": false,
     "start_time": "2021-07-15T16:08:11.103770",
     "status": "completed"
    },
    "tags": []
   },
   "source": [
    "## <font color=\"blue\">Creating the Final List with Lead Score</font>"
   ]
  },
  {
   "cell_type": "code",
   "execution_count": 84,
   "id": "0fa32965",
   "metadata": {
    "execution": {
     "iopub.execute_input": "2021-07-15T16:08:11.471833Z",
     "iopub.status.busy": "2021-07-15T16:08:11.470886Z",
     "iopub.status.idle": "2021-07-15T16:08:11.498611Z",
     "shell.execute_reply": "2021-07-15T16:08:11.500316Z",
     "shell.execute_reply.started": "2021-07-15T16:05:48.087407Z"
    },
    "papermill": {
     "duration": 0.153489,
     "end_time": "2021-07-15T16:08:11.500639",
     "exception": false,
     "start_time": "2021-07-15T16:08:11.347150",
     "status": "completed"
    },
    "tags": []
   },
   "outputs": [],
   "source": [
    "scale_cols = [\"TotalVisits\",\"Total Time Spent on Website\",\"Page Views Per Visit\"]\n",
    "leads_df[scale_cols] = scaler.transform(leads_df[scale_cols])\n",
    "\n",
    "leads_df_sm  = sm.add_constant(leads_df[cols])\n",
    "leads_df_Predict = res.predict(leads_df_sm)\n",
    "leads_df_Predict = round(leads_df_Predict * 100)"
   ]
  },
  {
   "cell_type": "code",
   "execution_count": 85,
   "id": "94f89f60",
   "metadata": {
    "execution": {
     "iopub.execute_input": "2021-07-15T16:08:11.803192Z",
     "iopub.status.busy": "2021-07-15T16:08:11.802192Z",
     "iopub.status.idle": "2021-07-15T16:08:11.805380Z",
     "shell.execute_reply": "2021-07-15T16:08:11.804724Z",
     "shell.execute_reply.started": "2021-07-15T16:05:48.134497Z"
    },
    "papermill": {
     "duration": 0.134898,
     "end_time": "2021-07-15T16:08:11.805532",
     "exception": false,
     "start_time": "2021-07-15T16:08:11.670634",
     "status": "completed"
    },
    "tags": []
   },
   "outputs": [],
   "source": [
    "### add the churn score column to the original data frame\n",
    "leads_df_original[\"Lead_Score\"] = leads_df_Predict.astype(\"int\")"
   ]
  },
  {
   "cell_type": "code",
   "execution_count": 86,
   "id": "f2d71164",
   "metadata": {
    "execution": {
     "iopub.execute_input": "2021-07-15T16:08:12.060417Z",
     "iopub.status.busy": "2021-07-15T16:08:12.059523Z",
     "iopub.status.idle": "2021-07-15T16:08:12.123903Z",
     "shell.execute_reply": "2021-07-15T16:08:12.123200Z",
     "shell.execute_reply.started": "2021-07-15T16:05:48.145079Z"
    },
    "papermill": {
     "duration": 0.196529,
     "end_time": "2021-07-15T16:08:12.124053",
     "exception": false,
     "start_time": "2021-07-15T16:08:11.927524",
     "status": "completed"
    },
    "tags": []
   },
   "outputs": [
    {
     "data": {
      "text/html": [
       "<div>\n",
       "<style scoped>\n",
       "    .dataframe tbody tr th:only-of-type {\n",
       "        vertical-align: middle;\n",
       "    }\n",
       "\n",
       "    .dataframe tbody tr th {\n",
       "        vertical-align: top;\n",
       "    }\n",
       "\n",
       "    .dataframe thead th {\n",
       "        text-align: right;\n",
       "    }\n",
       "</style>\n",
       "<table border=\"1\" class=\"dataframe\">\n",
       "  <thead>\n",
       "    <tr style=\"text-align: right;\">\n",
       "      <th></th>\n",
       "      <th>Prospect ID</th>\n",
       "      <th>Lead Number</th>\n",
       "      <th>Lead_Score</th>\n",
       "      <th>Lead Source</th>\n",
       "      <th>Do Not Email</th>\n",
       "      <th>Do Not Call</th>\n",
       "      <th>Converted</th>\n",
       "      <th>TotalVisits</th>\n",
       "      <th>Total Time Spent on Website</th>\n",
       "      <th>Page Views Per Visit</th>\n",
       "      <th>Last Activity</th>\n",
       "      <th>Country</th>\n",
       "      <th>Specialization</th>\n",
       "      <th>How did you hear about X Education</th>\n",
       "      <th>What is your current occupation</th>\n",
       "      <th>What matters most to you in choosing a course</th>\n",
       "      <th>Search</th>\n",
       "      <th>Magazine</th>\n",
       "      <th>Newspaper Article</th>\n",
       "      <th>X Education Forums</th>\n",
       "      <th>Newspaper</th>\n",
       "      <th>Digital Advertisement</th>\n",
       "      <th>Through Recommendations</th>\n",
       "      <th>Receive More Updates About Our Courses</th>\n",
       "      <th>Tags</th>\n",
       "      <th>Lead Quality</th>\n",
       "      <th>Update me on Supply Chain Content</th>\n",
       "      <th>Get updates on DM Content</th>\n",
       "      <th>Lead Profile</th>\n",
       "      <th>City</th>\n",
       "      <th>Asymmetrique Activity Index</th>\n",
       "      <th>Asymmetrique Profile Index</th>\n",
       "      <th>Asymmetrique Activity Score</th>\n",
       "      <th>Asymmetrique Profile Score</th>\n",
       "      <th>I agree to pay the amount through cheque</th>\n",
       "      <th>A free copy of Mastering The Interview</th>\n",
       "    </tr>\n",
       "  </thead>\n",
       "  <tbody>\n",
       "    <tr>\n",
       "      <th>4773</th>\n",
       "      <td>eec1c494-6329-4b35-ab26-9fef63bf2b12</td>\n",
       "      <td>614100</td>\n",
       "      <td>100</td>\n",
       "      <td>Reference</td>\n",
       "      <td>No</td>\n",
       "      <td>No</td>\n",
       "      <td>1</td>\n",
       "      <td>0.0</td>\n",
       "      <td>0</td>\n",
       "      <td>0.0</td>\n",
       "      <td>SMS Sent</td>\n",
       "      <td>NaN</td>\n",
       "      <td>Marketing Management</td>\n",
       "      <td>Select</td>\n",
       "      <td>Working Professional</td>\n",
       "      <td>Better Career Prospects</td>\n",
       "      <td>No</td>\n",
       "      <td>No</td>\n",
       "      <td>No</td>\n",
       "      <td>No</td>\n",
       "      <td>No</td>\n",
       "      <td>No</td>\n",
       "      <td>No</td>\n",
       "      <td>No</td>\n",
       "      <td>Will revert after reading the email</td>\n",
       "      <td>Might be</td>\n",
       "      <td>No</td>\n",
       "      <td>No</td>\n",
       "      <td>Potential Lead</td>\n",
       "      <td>Select</td>\n",
       "      <td>NaN</td>\n",
       "      <td>NaN</td>\n",
       "      <td>NaN</td>\n",
       "      <td>NaN</td>\n",
       "      <td>No</td>\n",
       "      <td>No</td>\n",
       "    </tr>\n",
       "    <tr>\n",
       "      <th>5822</th>\n",
       "      <td>d5a9b668-ddad-4795-bf0e-a28390748a90</td>\n",
       "      <td>605216</td>\n",
       "      <td>100</td>\n",
       "      <td>Reference</td>\n",
       "      <td>No</td>\n",
       "      <td>No</td>\n",
       "      <td>1</td>\n",
       "      <td>0.0</td>\n",
       "      <td>0</td>\n",
       "      <td>0.0</td>\n",
       "      <td>SMS Sent</td>\n",
       "      <td>NaN</td>\n",
       "      <td>Finance Management</td>\n",
       "      <td>Select</td>\n",
       "      <td>Working Professional</td>\n",
       "      <td>Better Career Prospects</td>\n",
       "      <td>No</td>\n",
       "      <td>No</td>\n",
       "      <td>No</td>\n",
       "      <td>No</td>\n",
       "      <td>No</td>\n",
       "      <td>No</td>\n",
       "      <td>No</td>\n",
       "      <td>No</td>\n",
       "      <td>Will revert after reading the email</td>\n",
       "      <td>Might be</td>\n",
       "      <td>No</td>\n",
       "      <td>No</td>\n",
       "      <td>Potential Lead</td>\n",
       "      <td>Select</td>\n",
       "      <td>NaN</td>\n",
       "      <td>NaN</td>\n",
       "      <td>NaN</td>\n",
       "      <td>NaN</td>\n",
       "      <td>No</td>\n",
       "      <td>No</td>\n",
       "    </tr>\n",
       "    <tr>\n",
       "      <th>5671</th>\n",
       "      <td>623bc6c9-9184-4437-b38f-d374be49d1a3</td>\n",
       "      <td>606508</td>\n",
       "      <td>100</td>\n",
       "      <td>Organic Search</td>\n",
       "      <td>No</td>\n",
       "      <td>No</td>\n",
       "      <td>1</td>\n",
       "      <td>9.0</td>\n",
       "      <td>2125</td>\n",
       "      <td>3.0</td>\n",
       "      <td>SMS Sent</td>\n",
       "      <td>India</td>\n",
       "      <td>Operations Management</td>\n",
       "      <td>Select</td>\n",
       "      <td>Working Professional</td>\n",
       "      <td>Better Career Prospects</td>\n",
       "      <td>No</td>\n",
       "      <td>No</td>\n",
       "      <td>No</td>\n",
       "      <td>No</td>\n",
       "      <td>No</td>\n",
       "      <td>No</td>\n",
       "      <td>No</td>\n",
       "      <td>No</td>\n",
       "      <td>Will revert after reading the email</td>\n",
       "      <td>Might be</td>\n",
       "      <td>No</td>\n",
       "      <td>No</td>\n",
       "      <td>Potential Lead</td>\n",
       "      <td>Select</td>\n",
       "      <td>NaN</td>\n",
       "      <td>NaN</td>\n",
       "      <td>NaN</td>\n",
       "      <td>NaN</td>\n",
       "      <td>No</td>\n",
       "      <td>No</td>\n",
       "    </tr>\n",
       "    <tr>\n",
       "      <th>2675</th>\n",
       "      <td>c20320d6-6059-4e80-9b3f-d774442c92c4</td>\n",
       "      <td>633956</td>\n",
       "      <td>100</td>\n",
       "      <td>Reference</td>\n",
       "      <td>No</td>\n",
       "      <td>No</td>\n",
       "      <td>1</td>\n",
       "      <td>0.0</td>\n",
       "      <td>0</td>\n",
       "      <td>0.0</td>\n",
       "      <td>SMS Sent</td>\n",
       "      <td>NaN</td>\n",
       "      <td>Finance Management</td>\n",
       "      <td>Select</td>\n",
       "      <td>Working Professional</td>\n",
       "      <td>Better Career Prospects</td>\n",
       "      <td>No</td>\n",
       "      <td>No</td>\n",
       "      <td>No</td>\n",
       "      <td>No</td>\n",
       "      <td>No</td>\n",
       "      <td>No</td>\n",
       "      <td>No</td>\n",
       "      <td>No</td>\n",
       "      <td>Will revert after reading the email</td>\n",
       "      <td>Might be</td>\n",
       "      <td>No</td>\n",
       "      <td>No</td>\n",
       "      <td>Potential Lead</td>\n",
       "      <td>Select</td>\n",
       "      <td>NaN</td>\n",
       "      <td>NaN</td>\n",
       "      <td>NaN</td>\n",
       "      <td>NaN</td>\n",
       "      <td>No</td>\n",
       "      <td>No</td>\n",
       "    </tr>\n",
       "    <tr>\n",
       "      <th>2786</th>\n",
       "      <td>77e26553-3741-4f64-afc2-662de8a7bf72</td>\n",
       "      <td>632926</td>\n",
       "      <td>100</td>\n",
       "      <td>Reference</td>\n",
       "      <td>No</td>\n",
       "      <td>No</td>\n",
       "      <td>1</td>\n",
       "      <td>NaN</td>\n",
       "      <td>1010</td>\n",
       "      <td>NaN</td>\n",
       "      <td>NaN</td>\n",
       "      <td>NaN</td>\n",
       "      <td>Operations Management</td>\n",
       "      <td>Select</td>\n",
       "      <td>Working Professional</td>\n",
       "      <td>Better Career Prospects</td>\n",
       "      <td>No</td>\n",
       "      <td>No</td>\n",
       "      <td>No</td>\n",
       "      <td>No</td>\n",
       "      <td>No</td>\n",
       "      <td>No</td>\n",
       "      <td>No</td>\n",
       "      <td>No</td>\n",
       "      <td>Closed by Horizzon</td>\n",
       "      <td>High in Relevance</td>\n",
       "      <td>No</td>\n",
       "      <td>No</td>\n",
       "      <td>Potential Lead</td>\n",
       "      <td>Select</td>\n",
       "      <td>02.Medium</td>\n",
       "      <td>01.High</td>\n",
       "      <td>14.0</td>\n",
       "      <td>19.0</td>\n",
       "      <td>No</td>\n",
       "      <td>No</td>\n",
       "    </tr>\n",
       "  </tbody>\n",
       "</table>\n",
       "</div>"
      ],
      "text/plain": [
       "                               Prospect ID  Lead Number  Lead_Score     Lead Source Do Not Email Do Not Call  Converted  TotalVisits  Total Time Spent on Website  Page Views Per Visit Last Activity Country         Specialization How did you hear about X Education What is your current occupation What matters most to you in choosing a course Search Magazine Newspaper Article X Education Forums Newspaper Digital Advertisement Through Recommendations Receive More Updates About Our Courses                                 Tags       Lead Quality Update me on Supply Chain Content Get updates on DM Content    Lead Profile    City Asymmetrique Activity Index Asymmetrique Profile Index  Asymmetrique Activity Score  Asymmetrique Profile Score I agree to pay the amount through cheque A free copy of Mastering The Interview\n",
       "4773  eec1c494-6329-4b35-ab26-9fef63bf2b12       614100         100       Reference           No          No          1          0.0                            0                   0.0      SMS Sent     NaN   Marketing Management                             Select            Working Professional                       Better Career Prospects     No       No                No                 No        No                    No                      No                                     No  Will revert after reading the email           Might be                                No                        No  Potential Lead  Select                         NaN                        NaN                          NaN                         NaN                                       No                                     No\n",
       "5822  d5a9b668-ddad-4795-bf0e-a28390748a90       605216         100       Reference           No          No          1          0.0                            0                   0.0      SMS Sent     NaN     Finance Management                             Select            Working Professional                       Better Career Prospects     No       No                No                 No        No                    No                      No                                     No  Will revert after reading the email           Might be                                No                        No  Potential Lead  Select                         NaN                        NaN                          NaN                         NaN                                       No                                     No\n",
       "5671  623bc6c9-9184-4437-b38f-d374be49d1a3       606508         100  Organic Search           No          No          1          9.0                         2125                   3.0      SMS Sent   India  Operations Management                             Select            Working Professional                       Better Career Prospects     No       No                No                 No        No                    No                      No                                     No  Will revert after reading the email           Might be                                No                        No  Potential Lead  Select                         NaN                        NaN                          NaN                         NaN                                       No                                     No\n",
       "2675  c20320d6-6059-4e80-9b3f-d774442c92c4       633956         100       Reference           No          No          1          0.0                            0                   0.0      SMS Sent     NaN     Finance Management                             Select            Working Professional                       Better Career Prospects     No       No                No                 No        No                    No                      No                                     No  Will revert after reading the email           Might be                                No                        No  Potential Lead  Select                         NaN                        NaN                          NaN                         NaN                                       No                                     No\n",
       "2786  77e26553-3741-4f64-afc2-662de8a7bf72       632926         100       Reference           No          No          1          NaN                         1010                   NaN           NaN     NaN  Operations Management                             Select            Working Professional                       Better Career Prospects     No       No                No                 No        No                    No                      No                                     No                   Closed by Horizzon  High in Relevance                                No                        No  Potential Lead  Select                   02.Medium                    01.High                         14.0                        19.0                                       No                                     No"
      ]
     },
     "execution_count": 86,
     "metadata": {},
     "output_type": "execute_result"
    }
   ],
   "source": [
    "### sorting the DF with Lead Numbers highest churn score on top\n",
    "leads_df_original_final = pd.concat([leads_df_original.iloc[:,0:2] , leads_df_original.iloc[:,-1] , leads_df_original.iloc[:,3:-2]], axis=1)\n",
    "\n",
    "leads_df_original_final.sort_values(by=\"Lead_Score\",ascending=False).head()"
   ]
  },
  {
   "cell_type": "markdown",
   "id": "4042e489",
   "metadata": {
    "papermill": {
     "duration": 0.122072,
     "end_time": "2021-07-15T16:08:12.377601",
     "exception": false,
     "start_time": "2021-07-15T16:08:12.255529",
     "status": "completed"
    },
    "tags": []
   },
   "source": [
    "<br>"
   ]
  },
  {
   "cell_type": "markdown",
   "id": "661d7bdd",
   "metadata": {
    "papermill": {
     "duration": 0.125645,
     "end_time": "2021-07-15T16:08:12.624308",
     "exception": false,
     "start_time": "2021-07-15T16:08:12.498663",
     "status": "completed"
    },
    "tags": []
   },
   "source": [
    "### <font color=\"green\">  Those Leads whose Lead Score is more than <font color=\"blue\">35</font> has high chance of converting as per the model</font>"
   ]
  },
  {
   "cell_type": "markdown",
   "id": "1db337b4",
   "metadata": {
    "papermill": {
     "duration": 0.125468,
     "end_time": "2021-07-15T16:08:12.880662",
     "exception": false,
     "start_time": "2021-07-15T16:08:12.755194",
     "status": "completed"
    },
    "tags": []
   },
   "source": [
    "<br>"
   ]
  },
  {
   "cell_type": "code",
   "execution_count": 87,
   "id": "aa62ab7f",
   "metadata": {
    "execution": {
     "iopub.execute_input": "2021-07-15T16:08:13.157577Z",
     "iopub.status.busy": "2021-07-15T16:08:13.156790Z",
     "iopub.status.idle": "2021-07-15T16:08:13.400682Z",
     "shell.execute_reply": "2021-07-15T16:08:13.400060Z",
     "shell.execute_reply.started": "2021-07-15T16:05:48.263287Z"
    },
    "papermill": {
     "duration": 0.399344,
     "end_time": "2021-07-15T16:08:13.400865",
     "exception": false,
     "start_time": "2021-07-15T16:08:13.001521",
     "status": "completed"
    },
    "tags": []
   },
   "outputs": [
    {
     "data": {
      "image/png": "[encoded data removed]",
      "text/plain": [
       "<Figure size 576x432 with 1 Axes>"
      ]
     },
     "metadata": {
      "needs_background": "light"
     },
     "output_type": "display_data"
    }
   ],
   "source": [
    "### checking distribution of data based on Lead_Score\n",
    "plt.figure(figsize=(8,6))\n",
    "sns.distplot(leads_df_original_final.Lead_Score)\n",
    "plt.show()"
   ]
  },
  {
   "cell_type": "code",
   "execution_count": 88,
   "id": "36c2bf82",
   "metadata": {
    "execution": {
     "iopub.execute_input": "2021-07-15T16:08:13.657989Z",
     "iopub.status.busy": "2021-07-15T16:08:13.657279Z",
     "iopub.status.idle": "2021-07-15T16:08:13.668912Z",
     "shell.execute_reply": "2021-07-15T16:08:13.668295Z",
     "shell.execute_reply.started": "2021-07-15T16:05:48.566675Z"
    },
    "papermill": {
     "duration": 0.14484,
     "end_time": "2021-07-15T16:08:13.669078",
     "exception": false,
     "start_time": "2021-07-15T16:08:13.524238",
     "status": "completed"
    },
    "tags": []
   },
   "outputs": [
    {
     "name": "stdout",
     "output_type": "stream",
     "text": [
      "Probable_Churn VS Probable-Non_Churn ratio is  46.19 : 53.81\n"
     ]
    }
   ],
   "source": [
    "### probable churn to non-churn ratio\n",
    "non_churn = (leads_df_original_final[leads_df_original_final.Lead_Score < 34].shape[0] * 100)/leads_df_original_final.shape[0]\n",
    "churn = (leads_df_original_final[leads_df_original_final.Lead_Score >= 34].shape[0] * 100)/leads_df_original_final.shape[0]\n",
    "\n",
    "print(\"Probable_Churn VS Probable-Non_Churn ratio is \",round(churn,2),\":\",round(non_churn,2) )\n"
   ]
  }
 ],
 "metadata": {
  "kernelspec": {
   "display_name": "Python 3",
   "language": "python",
   "name": "python3"
  },
  "language_info": {
   "codemirror_mode": {
    "name": "ipython",
    "version": 3
   },
   "file_extension": ".py",
   "mimetype": "text/x-python",
   "name": "python",
   "nbconvert_exporter": "python",
   "pygments_lexer": "ipython3",
   "version": "3.7.10"
  },
  "papermill": {
   "default_parameters": {},
   "duration": 59.148266,
   "end_time": "2021-07-15T16:08:15.068756",
   "environment_variables": {},
   "exception": null,
   "input_path": "__notebook__.ipynb",
   "output_path": "__notebook__.ipynb",
   "parameters": {},
   "start_time": "2021-07-15T16:07:15.920490",
   "version": "2.3.3"
  }
 },
 "nbformat": 4,
 "nbformat_minor": 5
}
